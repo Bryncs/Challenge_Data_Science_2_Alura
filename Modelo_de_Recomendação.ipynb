{
  "nbformat": 4,
  "nbformat_minor": 0,
  "metadata": {
    "colab": {
      "provenance": [],
      "collapsed_sections": [
        "vgJaifMzFJcY"
      ],
      "authorship_tag": "ABX9TyNtbeLeqzMuj5m/bs8skVTR",
      "include_colab_link": true
    },
    "kernelspec": {
      "name": "python3",
      "display_name": "Python 3"
    },
    "language_info": {
      "name": "python"
    }
  },
  "cells": [
    {
      "cell_type": "markdown",
      "metadata": {
        "id": "view-in-github",
        "colab_type": "text"
      },
      "source": [
        "<a href=\"https://colab.research.google.com/github/Bryncs/Challenge_Data_Science_2_Alura/blob/main/Modelo_de_Recomenda%C3%A7%C3%A3o.ipynb\" target=\"_parent\"><img src=\"https://colab.research.google.com/assets/colab-badge.svg\" alt=\"Open In Colab\"/></a>"
      ]
    },
    {
      "cell_type": "markdown",
      "source": [
        "# Preparando o Ambiente"
      ],
      "metadata": {
        "id": "q1sKNL6GAkd3"
      }
    },
    {
      "cell_type": "markdown",
      "source": [
        "Nesta primeira parte iremos instalar o PySpark e preparar nosso DataSet para depois iniciar a criação de nosso modelo de recomendação"
      ],
      "metadata": {
        "id": "zJ5uuzyNAnNx"
      }
    },
    {
      "cell_type": "markdown",
      "source": [
        "## Instalando o PySpark"
      ],
      "metadata": {
        "id": "rmoEJB4lBGU6"
      }
    },
    {
      "cell_type": "code",
      "source": [
        "!pip install pyspark"
      ],
      "metadata": {
        "colab": {
          "base_uri": "https://localhost:8080/"
        },
        "id": "Klzok5KiBF05",
        "outputId": "898df660-df14-4176-e7b2-eed740760ae8"
      },
      "execution_count": 1,
      "outputs": [
        {
          "output_type": "stream",
          "name": "stdout",
          "text": [
            "Looking in indexes: https://pypi.org/simple, https://us-python.pkg.dev/colab-wheels/public/simple/\n",
            "Requirement already satisfied: pyspark in /usr/local/lib/python3.8/dist-packages (3.3.1)\n",
            "Requirement already satisfied: py4j==0.10.9.5 in /usr/local/lib/python3.8/dist-packages (from pyspark) (0.10.9.5)\n"
          ]
        }
      ]
    },
    {
      "cell_type": "markdown",
      "source": [
        "Importando a classe SparkSession"
      ],
      "metadata": {
        "id": "ee-pfaBwBllD"
      }
    },
    {
      "cell_type": "code",
      "execution_count": 2,
      "metadata": {
        "id": "9ypwxAdpAPwG"
      },
      "outputs": [],
      "source": [
        "from pyspark.sql import SparkSession"
      ]
    },
    {
      "cell_type": "code",
      "source": [
        "spark = SparkSession.builder\\\n",
        "    .appName('Recomendador InsightPlaces')\\\n",
        "    .getOrCreate()\n",
        "spark"
      ],
      "metadata": {
        "colab": {
          "base_uri": "https://localhost:8080/",
          "height": 219
        },
        "id": "rQL8hrsIBo7M",
        "outputId": "60d5e208-1c84-43ce-ac0b-4b6f2ba1d7bc"
      },
      "execution_count": 3,
      "outputs": [
        {
          "output_type": "execute_result",
          "data": {
            "text/plain": [
              "<pyspark.sql.session.SparkSession at 0x7f9994c6f1f0>"
            ],
            "text/html": [
              "\n",
              "            <div>\n",
              "                <p><b>SparkSession - in-memory</b></p>\n",
              "                \n",
              "        <div>\n",
              "            <p><b>SparkContext</b></p>\n",
              "\n",
              "            <p><a href=\"http://d5a07d6802c7:4040\">Spark UI</a></p>\n",
              "\n",
              "            <dl>\n",
              "              <dt>Version</dt>\n",
              "                <dd><code>v3.3.1</code></dd>\n",
              "              <dt>Master</dt>\n",
              "                <dd><code>local[*]</code></dd>\n",
              "              <dt>AppName</dt>\n",
              "                <dd><code>Recomendador InsightPlaces</code></dd>\n",
              "            </dl>\n",
              "        </div>\n",
              "        \n",
              "            </div>\n",
              "        "
            ]
          },
          "metadata": {},
          "execution_count": 3
        }
      ]
    },
    {
      "cell_type": "markdown",
      "source": [
        "## Importando os Dados"
      ],
      "metadata": {
        "id": "HN-9fcV3B9Ya"
      }
    },
    {
      "cell_type": "markdown",
      "source": [
        "Preparando o Drive"
      ],
      "metadata": {
        "id": "rXRvp2bECK21"
      }
    },
    {
      "cell_type": "code",
      "source": [
        "from google.colab import drive\n",
        "drive.mount('/content/drive')"
      ],
      "metadata": {
        "colab": {
          "base_uri": "https://localhost:8080/"
        },
        "id": "3h_6e0WyBvb4",
        "outputId": "a5e347ca-8385-45e4-a186-273e4c501402"
      },
      "execution_count": 4,
      "outputs": [
        {
          "output_type": "stream",
          "name": "stdout",
          "text": [
            "Drive already mounted at /content/drive; to attempt to forcibly remount, call drive.mount(\"/content/drive\", force_remount=True).\n"
          ]
        }
      ]
    },
    {
      "cell_type": "markdown",
      "source": [
        "Importando os dados"
      ],
      "metadata": {
        "id": "ObRCa74kCNjZ"
      }
    },
    {
      "cell_type": "code",
      "source": [
        "import zipfile"
      ],
      "metadata": {
        "id": "FISDQn8zCBok"
      },
      "execution_count": 5,
      "outputs": []
    },
    {
      "cell_type": "code",
      "source": [
        "zipfile.ZipFile('/content/drive/MyDrive/InsightPlaces3/semanas-3-e-4.zip', 'r').extractall('/content/drive/MyDrive/InsightPlaces3')"
      ],
      "metadata": {
        "id": "6RaEMbieCRs2"
      },
      "execution_count": 6,
      "outputs": []
    },
    {
      "cell_type": "code",
      "source": [
        "path = '/content/drive/MyDrive/InsightPlaces3/dataset_ml_parquet'\n",
        "dados = spark.read.parquet(path)"
      ],
      "metadata": {
        "id": "By4DhtUQCsML"
      },
      "execution_count": 7,
      "outputs": []
    },
    {
      "cell_type": "markdown",
      "source": [
        "# Preparando os Dados"
      ],
      "metadata": {
        "id": "LjC_zTvKDFsy"
      }
    },
    {
      "cell_type": "code",
      "source": [
        "dados.printSchema()"
      ],
      "metadata": {
        "colab": {
          "base_uri": "https://localhost:8080/"
        },
        "id": "wL4d2FJqC1V3",
        "outputId": "b323cfbb-24c1-4740-bacc-adc58396b8c4"
      },
      "execution_count": 8,
      "outputs": [
        {
          "output_type": "stream",
          "name": "stdout",
          "text": [
            "root\n",
            " |-- id: string (nullable = true)\n",
            " |-- andar: integer (nullable = true)\n",
            " |-- area_util: integer (nullable = true)\n",
            " |-- banheiros: integer (nullable = true)\n",
            " |-- quartos: integer (nullable = true)\n",
            " |-- suites: double (nullable = true)\n",
            " |-- vaga: double (nullable = true)\n",
            " |-- bairro: string (nullable = true)\n",
            " |-- condominio: double (nullable = true)\n",
            " |-- iptu: double (nullable = true)\n",
            " |-- valor: double (nullable = true)\n",
            " |-- Zona Central: integer (nullable = true)\n",
            " |-- Zona Norte: integer (nullable = true)\n",
            " |-- Zona Oeste: integer (nullable = true)\n",
            " |-- Zona Sul: integer (nullable = true)\n",
            " |-- Academia: integer (nullable = true)\n",
            " |-- Animais permitidos: integer (nullable = true)\n",
            " |-- Churrasqueira: integer (nullable = true)\n",
            " |-- Condomínio fechado: integer (nullable = true)\n",
            " |-- Elevador: integer (nullable = true)\n",
            " |-- Piscina: integer (nullable = true)\n",
            " |-- Playground: integer (nullable = true)\n",
            " |-- Portaria 24h: integer (nullable = true)\n",
            " |-- Portão eletrônico: integer (nullable = true)\n",
            " |-- Salão de festas: integer (nullable = true)\n",
            "\n"
          ]
        }
      ]
    },
    {
      "cell_type": "markdown",
      "source": [
        "## Nomes das Colunas"
      ],
      "metadata": {
        "id": "vgJaifMzFJcY"
      }
    },
    {
      "cell_type": "markdown",
      "source": [
        "Há nomes de colunas com letras maiúsculas, acentos e espaços então primeiramente iremos tratá-los para, caso necessário, trabalhar mais facilmente com o Dataset"
      ],
      "metadata": {
        "id": "uznijoNwDUj6"
      }
    },
    {
      "cell_type": "code",
      "source": [
        "nomes_antigos = dados.columns\n",
        "nomes_antigos"
      ],
      "metadata": {
        "colab": {
          "base_uri": "https://localhost:8080/"
        },
        "id": "OFalOS53DLA4",
        "outputId": "b5ba0664-1b85-46ad-f698-055e73454d84"
      },
      "execution_count": 9,
      "outputs": [
        {
          "output_type": "execute_result",
          "data": {
            "text/plain": [
              "['id',\n",
              " 'andar',\n",
              " 'area_util',\n",
              " 'banheiros',\n",
              " 'quartos',\n",
              " 'suites',\n",
              " 'vaga',\n",
              " 'bairro',\n",
              " 'condominio',\n",
              " 'iptu',\n",
              " 'valor',\n",
              " 'Zona Central',\n",
              " 'Zona Norte',\n",
              " 'Zona Oeste',\n",
              " 'Zona Sul',\n",
              " 'Academia',\n",
              " 'Animais permitidos',\n",
              " 'Churrasqueira',\n",
              " 'Condomínio fechado',\n",
              " 'Elevador',\n",
              " 'Piscina',\n",
              " 'Playground',\n",
              " 'Portaria 24h',\n",
              " 'Portão eletrônico',\n",
              " 'Salão de festas']"
            ]
          },
          "metadata": {},
          "execution_count": 9
        }
      ]
    },
    {
      "cell_type": "code",
      "source": [
        "nomes_novos = [\n",
        "    'id',\n",
        "    'andar',\n",
        "    'area_util',\n",
        "    'banheiros',\n",
        "    'quartos',\n",
        "    'suites',\n",
        "    'vaga',\n",
        "    'bairro',\n",
        "    'condominio',\n",
        "    'iptu',\n",
        "    'valor',\n",
        "    'zona_central',\n",
        "    'zona_norte',\n",
        "    'zona_oeste',\n",
        "    'zona_sul',\n",
        "    'academia',\n",
        "    'animais_permitidos',\n",
        "    'churrasqueira',\n",
        "    'condominio_fechado',\n",
        "    'elevador',\n",
        "    'piscina',\n",
        "    'playground',\n",
        "    'portaria_24h',\n",
        "    'portao_eletronico',\n",
        "    'salao_de_festas'\n",
        "]"
      ],
      "metadata": {
        "id": "ySBTu76SD8bG"
      },
      "execution_count": 10,
      "outputs": []
    },
    {
      "cell_type": "code",
      "source": [
        "colunas_nomes = zip(nomes_antigos, nomes_novos)"
      ],
      "metadata": {
        "id": "S_ihxWccEUId"
      },
      "execution_count": 11,
      "outputs": []
    },
    {
      "cell_type": "code",
      "source": [
        "for antigos, novos in colunas_nomes:\n",
        "  dados = dados.withColumnRenamed(antigos, novos)"
      ],
      "metadata": {
        "id": "8isx8EuSEXCm"
      },
      "execution_count": 12,
      "outputs": []
    },
    {
      "cell_type": "code",
      "source": [
        "dados.columns"
      ],
      "metadata": {
        "colab": {
          "base_uri": "https://localhost:8080/"
        },
        "id": "0XpDECTlEZML",
        "outputId": "99c04566-9f45-4cfe-c7b8-d6f9ef35df8e"
      },
      "execution_count": 13,
      "outputs": [
        {
          "output_type": "execute_result",
          "data": {
            "text/plain": [
              "['id',\n",
              " 'andar',\n",
              " 'area_util',\n",
              " 'banheiros',\n",
              " 'quartos',\n",
              " 'suites',\n",
              " 'vaga',\n",
              " 'bairro',\n",
              " 'condominio',\n",
              " 'iptu',\n",
              " 'valor',\n",
              " 'zona_central',\n",
              " 'zona_norte',\n",
              " 'zona_oeste',\n",
              " 'zona_sul',\n",
              " 'academia',\n",
              " 'animais_permitidos',\n",
              " 'churrasqueira',\n",
              " 'condominio_fechado',\n",
              " 'elevador',\n",
              " 'piscina',\n",
              " 'playground',\n",
              " 'portaria_24h',\n",
              " 'portao_eletronico',\n",
              " 'salao_de_festas']"
            ]
          },
          "metadata": {},
          "execution_count": 13
        }
      ]
    },
    {
      "cell_type": "markdown",
      "source": [
        "# Vetorização"
      ],
      "metadata": {
        "id": "sBHn-6foFPHg"
      }
    },
    {
      "cell_type": "markdown",
      "source": [
        "## Visualizando os dados"
      ],
      "metadata": {
        "id": "EmNo8n4EOETE"
      }
    },
    {
      "cell_type": "code",
      "source": [
        "from pyspark.sql import functions as f"
      ],
      "metadata": {
        "id": "3hgNd97qOtpD"
      },
      "execution_count": 14,
      "outputs": []
    },
    {
      "cell_type": "code",
      "source": [
        "dados.show(5)"
      ],
      "metadata": {
        "colab": {
          "base_uri": "https://localhost:8080/"
        },
        "id": "ZQchCZLpEbLO",
        "outputId": "3019981c-f528-455c-872b-0cc1ace23d0d"
      },
      "execution_count": 15,
      "outputs": [
        {
          "output_type": "stream",
          "name": "stdout",
          "text": [
            "+--------------------+-----+---------+---------+-------+------+----+------------+----------+-----+--------+------------+----------+----------+--------+--------+------------------+-------------+------------------+--------+-------+----------+------------+-----------------+---------------+\n",
            "|                  id|andar|area_util|banheiros|quartos|suites|vaga|      bairro|condominio| iptu|   valor|zona_central|zona_norte|zona_oeste|zona_sul|academia|animais_permitidos|churrasqueira|condominio_fechado|elevador|piscina|playground|portaria_24h|portao_eletronico|salao_de_festas|\n",
            "+--------------------+-----+---------+---------+-------+------+----+------------+----------+-----+--------+------------+----------+----------+--------+--------+------------------+-------------+------------------+--------+-------+----------+------------+-----------------+---------------+\n",
            "|00002dd9-cc74-480...|    2|       35|        1|      1|   0.0| 0.0|Santo Cristo|     100.0|100.0|245000.0|           1|         0|         0|       0|       1|                 1|            1|                 1|       1|      1|         1|           1|                1|              1|\n",
            "|0009ca94-2b37-438...|    1|       84|        2|      2|   0.0| 1.0|      Tijuca|     770.0|105.0|474980.0|           0|         1|         0|       0|       0|                 0|            1|                 0|       1|      0|         1|           1|                0|              1|\n",
            "|000e3d28-e3e5-411...|    0|       85|        2|      2|   0.0| 0.0|Santa Teresa|     460.0|661.0|290000.0|           0|         0|         0|       1|       0|                 1|            0|                 0|       1|      0|         0|           0|                0|              0|\n",
            "|000fb707-6cad-496...|    0|       58|        1|      2|   0.0| 1.0|   Pechincha|     550.0|550.0|249000.0|           0|         0|         1|       0|       0|                 0|            0|                 0|       0|      1|         1|           0|                0|              0|\n",
            "|001b6db0-e88d-4eb...|    0|       64|        2|      2|   1.0| 1.0|      Tijuca|     850.0|  0.0|530000.0|           0|         1|         0|       0|       0|                 0|            0|                 0|       0|      0|         0|           0|                0|              0|\n",
            "+--------------------+-----+---------+---------+-------+------+----+------------+----------+-----+--------+------------+----------+----------+--------+--------+------------------+-------------+------------------+--------+-------+----------+------------+-----------------+---------------+\n",
            "only showing top 5 rows\n",
            "\n"
          ]
        }
      ]
    },
    {
      "cell_type": "markdown",
      "source": [
        "Como podemos observar não há valores nulos"
      ],
      "metadata": {
        "id": "NzrbmF8wOxjZ"
      }
    },
    {
      "cell_type": "code",
      "source": [
        "dados\\\n",
        "    .select([f.count(f.when(f.isnan(c) | f.isnull(c), True)).alias(c) for c in dados.columns])\\\n",
        "    .show()"
      ],
      "metadata": {
        "colab": {
          "base_uri": "https://localhost:8080/"
        },
        "id": "LaWt7wUqOT2c",
        "outputId": "78d112dd-9a90-45dd-94b9-dd95e436958f"
      },
      "execution_count": 16,
      "outputs": [
        {
          "output_type": "stream",
          "name": "stdout",
          "text": [
            "+---+-----+---------+---------+-------+------+----+------+----------+----+-----+------------+----------+----------+--------+--------+------------------+-------------+------------------+--------+-------+----------+------------+-----------------+---------------+\n",
            "| id|andar|area_util|banheiros|quartos|suites|vaga|bairro|condominio|iptu|valor|zona_central|zona_norte|zona_oeste|zona_sul|academia|animais_permitidos|churrasqueira|condominio_fechado|elevador|piscina|playground|portaria_24h|portao_eletronico|salao_de_festas|\n",
            "+---+-----+---------+---------+-------+------+----+------+----------+----+-----+------------+----------+----------+--------+--------+------------------+-------------+------------------+--------+-------+----------+------------+-----------------+---------------+\n",
            "|  0|    0|        0|        0|      0|     0|   0|     0|         0|   0|    0|           0|         0|         0|       0|       0|                 0|            0|                 0|       0|      0|         0|           0|                0|              0|\n",
            "+---+-----+---------+---------+-------+------+----+------+----------+----+-----+------------+----------+----------+--------+--------+------------------+-------------+------------------+--------+-------+----------+------------+-----------------+---------------+\n",
            "\n"
          ]
        }
      ]
    },
    {
      "cell_type": "markdown",
      "source": [
        "Tamanho do nosso DataSet"
      ],
      "metadata": {
        "id": "Qh_XWW0VQGx6"
      }
    },
    {
      "cell_type": "code",
      "source": [
        "linhas = dados.count()\n",
        "colunas = len(dados.columns)\n",
        "print(f'Este DataFrame contém {linhas} linhas e {colunas} colunas')"
      ],
      "metadata": {
        "colab": {
          "base_uri": "https://localhost:8080/"
        },
        "id": "Zb170xfiP84Q",
        "outputId": "8c644ecc-d445-45c3-fdaf-5405691ec5aa"
      },
      "execution_count": 17,
      "outputs": [
        {
          "output_type": "stream",
          "name": "stdout",
          "text": [
            "Este DataFrame contém 66551 linhas e 25 colunas\n"
          ]
        }
      ]
    },
    {
      "cell_type": "markdown",
      "source": [
        "## Iniciando a vetorização"
      ],
      "metadata": {
        "id": "5XX8YSOYOKKZ"
      }
    },
    {
      "cell_type": "markdown",
      "source": [
        "Como podemos observar as colunas id e bairro são strings, para vetorização, será necessário realizar algum tratamento ou retira-las para criar o modelo, neste modelo irei optar pela remoção"
      ],
      "metadata": {
        "id": "0DfiWQO9Qf05"
      }
    },
    {
      "cell_type": "code",
      "source": [
        "dados.printSchema()"
      ],
      "metadata": {
        "colab": {
          "base_uri": "https://localhost:8080/"
        },
        "id": "eEuCpvrJLqhH",
        "outputId": "80f1172a-6dae-4e1e-cdda-2694ba93ac8f"
      },
      "execution_count": 18,
      "outputs": [
        {
          "output_type": "stream",
          "name": "stdout",
          "text": [
            "root\n",
            " |-- id: string (nullable = true)\n",
            " |-- andar: integer (nullable = true)\n",
            " |-- area_util: integer (nullable = true)\n",
            " |-- banheiros: integer (nullable = true)\n",
            " |-- quartos: integer (nullable = true)\n",
            " |-- suites: double (nullable = true)\n",
            " |-- vaga: double (nullable = true)\n",
            " |-- bairro: string (nullable = true)\n",
            " |-- condominio: double (nullable = true)\n",
            " |-- iptu: double (nullable = true)\n",
            " |-- valor: double (nullable = true)\n",
            " |-- zona_central: integer (nullable = true)\n",
            " |-- zona_norte: integer (nullable = true)\n",
            " |-- zona_oeste: integer (nullable = true)\n",
            " |-- zona_sul: integer (nullable = true)\n",
            " |-- academia: integer (nullable = true)\n",
            " |-- animais_permitidos: integer (nullable = true)\n",
            " |-- churrasqueira: integer (nullable = true)\n",
            " |-- condominio_fechado: integer (nullable = true)\n",
            " |-- elevador: integer (nullable = true)\n",
            " |-- piscina: integer (nullable = true)\n",
            " |-- playground: integer (nullable = true)\n",
            " |-- portaria_24h: integer (nullable = true)\n",
            " |-- portao_eletronico: integer (nullable = true)\n",
            " |-- salao_de_festas: integer (nullable = true)\n",
            "\n"
          ]
        }
      ]
    },
    {
      "cell_type": "markdown",
      "source": [
        "O método VectorAssembler junta os dados das colunas indicadas em uma coluna que utilizamos como vetor"
      ],
      "metadata": {
        "id": "E1-ImVlSWn1a"
      }
    },
    {
      "cell_type": "code",
      "source": [
        "from pyspark.ml.feature import VectorAssembler"
      ],
      "metadata": {
        "id": "L7UO-eXyRCNA"
      },
      "execution_count": 19,
      "outputs": []
    },
    {
      "cell_type": "code",
      "source": [
        "dados.columns"
      ],
      "metadata": {
        "colab": {
          "base_uri": "https://localhost:8080/"
        },
        "id": "trRToSP7QZI4",
        "outputId": "dc7f2c0f-5769-4ff6-fc41-7e556b70f362"
      },
      "execution_count": 20,
      "outputs": [
        {
          "output_type": "execute_result",
          "data": {
            "text/plain": [
              "['id',\n",
              " 'andar',\n",
              " 'area_util',\n",
              " 'banheiros',\n",
              " 'quartos',\n",
              " 'suites',\n",
              " 'vaga',\n",
              " 'bairro',\n",
              " 'condominio',\n",
              " 'iptu',\n",
              " 'valor',\n",
              " 'zona_central',\n",
              " 'zona_norte',\n",
              " 'zona_oeste',\n",
              " 'zona_sul',\n",
              " 'academia',\n",
              " 'animais_permitidos',\n",
              " 'churrasqueira',\n",
              " 'condominio_fechado',\n",
              " 'elevador',\n",
              " 'piscina',\n",
              " 'playground',\n",
              " 'portaria_24h',\n",
              " 'portao_eletronico',\n",
              " 'salao_de_festas']"
            ]
          },
          "metadata": {},
          "execution_count": 20
        }
      ]
    },
    {
      "cell_type": "code",
      "source": [
        "X = dados.columns\n",
        "X.remove('id')\n",
        "X.remove('bairro')\n",
        "X"
      ],
      "metadata": {
        "colab": {
          "base_uri": "https://localhost:8080/"
        },
        "id": "d3AEAG4UQ-TS",
        "outputId": "0e5cba71-d15e-415b-ccfc-89f6605637a1"
      },
      "execution_count": 21,
      "outputs": [
        {
          "output_type": "execute_result",
          "data": {
            "text/plain": [
              "['andar',\n",
              " 'area_util',\n",
              " 'banheiros',\n",
              " 'quartos',\n",
              " 'suites',\n",
              " 'vaga',\n",
              " 'condominio',\n",
              " 'iptu',\n",
              " 'valor',\n",
              " 'zona_central',\n",
              " 'zona_norte',\n",
              " 'zona_oeste',\n",
              " 'zona_sul',\n",
              " 'academia',\n",
              " 'animais_permitidos',\n",
              " 'churrasqueira',\n",
              " 'condominio_fechado',\n",
              " 'elevador',\n",
              " 'piscina',\n",
              " 'playground',\n",
              " 'portaria_24h',\n",
              " 'portao_eletronico',\n",
              " 'salao_de_festas']"
            ]
          },
          "metadata": {},
          "execution_count": 21
        }
      ]
    },
    {
      "cell_type": "markdown",
      "source": [
        "Com o seguinte método realizamos a vetorização dos nosso dados numéricos e mantemos as colunas id e bairro no nosso modelo"
      ],
      "metadata": {
        "id": "GcVjfpipUHNI"
      }
    },
    {
      "cell_type": "code",
      "source": [
        "dados_vector = VectorAssembler(inputCols = X, outputCol = 'features').transform(dados).select(['features', 'id', 'bairro'])"
      ],
      "metadata": {
        "id": "RCt75n8SRNxj"
      },
      "execution_count": 22,
      "outputs": []
    },
    {
      "cell_type": "code",
      "source": [
        "dados_vector.show(truncate = False, n = 5)"
      ],
      "metadata": {
        "colab": {
          "base_uri": "https://localhost:8080/"
        },
        "id": "U9TrQkzYT-RC",
        "outputId": "820caeb1-d4ab-4fd3-b84c-3230e85523f5"
      },
      "execution_count": 23,
      "outputs": [
        {
          "output_type": "stream",
          "name": "stdout",
          "text": [
            "+------------------------------------------------------------------------------------------------------------+------------------------------------+------------+\n",
            "|features                                                                                                    |id                                  |bairro      |\n",
            "+------------------------------------------------------------------------------------------------------------+------------------------------------+------------+\n",
            "|[2.0,35.0,1.0,1.0,0.0,0.0,100.0,100.0,245000.0,1.0,0.0,0.0,0.0,1.0,1.0,1.0,1.0,1.0,1.0,1.0,1.0,1.0,1.0]     |00002dd9-cc74-4809-b5a5-850adf0e7526|Santo Cristo|\n",
            "|(23,[0,1,2,3,5,6,7,8,10,15,17,19,20,22],[1.0,84.0,2.0,2.0,1.0,770.0,105.0,474980.0,1.0,1.0,1.0,1.0,1.0,1.0])|0009ca94-2b37-4381-b8b8-773ce0f92444|Tijuca      |\n",
            "|(23,[1,2,3,6,7,8,12,14,17],[85.0,2.0,2.0,460.0,661.0,290000.0,1.0,1.0,1.0])                                 |000e3d28-e3e5-4110-b488-69154931140e|Santa Teresa|\n",
            "|(23,[1,2,3,5,6,7,8,11,18,19],[58.0,1.0,2.0,1.0,550.0,550.0,249000.0,1.0,1.0,1.0])                           |000fb707-6cad-496d-8cb7-d8046cb5ef37|Pechincha   |\n",
            "|(23,[1,2,3,4,5,6,8,10],[64.0,2.0,2.0,1.0,1.0,850.0,530000.0,1.0])                                           |001b6db0-e88d-4eba-84e5-0ef94b091a64|Tijuca      |\n",
            "+------------------------------------------------------------------------------------------------------------+------------------------------------+------------+\n",
            "only showing top 5 rows\n",
            "\n"
          ]
        }
      ]
    },
    {
      "cell_type": "markdown",
      "source": [
        "# Padronizando os Dados"
      ],
      "metadata": {
        "id": "jirm-BSqWgYr"
      }
    },
    {
      "cell_type": "markdown",
      "source": [
        "O método StandardScaler transforma os dados das linhas vetorizadas do nosso dataset em valores padronizados ou seja as escalas deles serão semelhantes"
      ],
      "metadata": {
        "id": "VmmE7PgoYSNK"
      }
    },
    {
      "cell_type": "code",
      "source": [
        "from pyspark.ml.feature import StandardScaler"
      ],
      "metadata": {
        "id": "80cdVIkMUC4x"
      },
      "execution_count": 24,
      "outputs": []
    },
    {
      "cell_type": "code",
      "source": [
        "scaler = StandardScaler(inputCol='features', outputCol='scaled_features') # Padroniza os dados vetorizados\n",
        "scaler_model = scaler.fit(dados_vector) # Ajusta os dados vetorizados\n",
        "dados_scaler = scaler_model.transform(dados_vector) # Transforma o modelo ajustado/padronizado"
      ],
      "metadata": {
        "id": "ncz1IxcSXhkl"
      },
      "execution_count": 25,
      "outputs": []
    },
    {
      "cell_type": "code",
      "source": [
        "dados_scaler.show(truncate = False, n = 5)"
      ],
      "metadata": {
        "colab": {
          "base_uri": "https://localhost:8080/"
        },
        "id": "2II3GEs8aKz-",
        "outputId": "55dcba3f-50a2-421a-e2d4-cf93e79dcb43"
      },
      "execution_count": 26,
      "outputs": [
        {
          "output_type": "stream",
          "name": "stdout",
          "text": [
            "+------------------------------------------------------------------------------------------------------------+------------------------------------+------------+--------------------------------------------------------------------------------------------------------------------------------------------------------------------------------------------------------------------------------------------------------------------------------------------------------------------------------------------------------------------------+\n",
            "|features                                                                                                    |id                                  |bairro      |scaled_features                                                                                                                                                                                                                                                                                                                                                           |\n",
            "+------------------------------------------------------------------------------------------------------------+------------------------------------+------------+--------------------------------------------------------------------------------------------------------------------------------------------------------------------------------------------------------------------------------------------------------------------------------------------------------------------------------------------------------------------------+\n",
            "|[2.0,35.0,1.0,1.0,0.0,0.0,100.0,100.0,245000.0,1.0,0.0,0.0,0.0,1.0,1.0,1.0,1.0,1.0,1.0,1.0,1.0,1.0,1.0]     |00002dd9-cc74-4809-b5a5-850adf0e7526|Santo Cristo|[0.13607726247524105,0.3928347118586362,0.7362338819363583,1.1008202436753782,0.0,0.0,9.600966052923233E-4,5.843293750925928E-4,0.16646329338847035,7.693539635100576,0.0,0.0,0.0,2.029288675697721,2.0063986358410992,2.00212608660304,2.0026140142259217,2.0917437099198977,1.9999864552247013,2.001812384720792,2.007706141209056,2.0142448870054395,2.000069820806827]|\n",
            "|(23,[0,1,2,3,5,6,7,8,10,15,17,19,20,22],[1.0,84.0,2.0,2.0,1.0,770.0,105.0,474980.0,1.0,1.0,1.0,1.0,1.0,1.0])|0009ca94-2b37-4381-b8b8-773ce0f92444|Tijuca      |(23,[0,1,2,3,5,6,7,8,10,15,17,19,20,22],[0.06803863123762052,0.9428033084607269,1.4724677638727166,2.2016404873507565,0.7446700458431611,0.00739274386075089,6.135458438472224E-4,0.3227213677292067,2.6098864683972236,2.00212608660304,2.0917437099198977,2.001812384720792,2.007706141209056,2.000069820806827])                                                       |\n",
            "|(23,[1,2,3,6,7,8,12,14,17],[85.0,2.0,2.0,460.0,661.0,290000.0,1.0,1.0,1.0])                                 |000e3d28-e3e5-4110-b488-69154931140e|Santa Teresa|(23,[1,2,3,6,7,8,12,14,17],[0.9540271573709737,1.4724677638727166,2.2016404873507565,0.004416444384344687,0.0038624171693620386,0.19703818401084244,2.165075093568037,2.0063986358410992,2.0917437099198977])                                                                                                                                                             |\n",
            "|(23,[1,2,3,5,6,7,8,11,18,19],[58.0,1.0,2.0,1.0,550.0,550.0,249000.0,1.0,1.0,1.0])                           |000fb707-6cad-496d-8cb7-d8046cb5ef37|Pechincha   |(23,[1,2,3,5,6,7,8,11,18,19],[0.6509832367943115,0.7362338819363583,2.2016404873507565,0.7446700458431611,0.005280531329107779,0.0032138115630092603,0.1691810614437923,2.0000643742960476,1.9999864552247013,2.001812384720792])                                                                                                                                         |\n",
            "|(23,[1,2,3,4,5,6,8,10],[64.0,2.0,2.0,1.0,1.0,850.0,530000.0,1.0])                                           |001b6db0-e88d-4eba-84e5-0ef94b091a64|Tijuca      |(23,[1,2,3,4,5,6,8,10],[0.718326330255792,1.4724677638727166,2.2016404873507565,0.9384708241783732,0.7446700458431611,0.008160821144984749,0.3601042673301603,2.6098864683972236])                                                                                                                                                                                        |\n",
            "+------------------------------------------------------------------------------------------------------------+------------------------------------+------------+--------------------------------------------------------------------------------------------------------------------------------------------------------------------------------------------------------------------------------------------------------------------------------------------------------------------------------------------------------------------------+\n",
            "only showing top 5 rows\n",
            "\n"
          ]
        }
      ]
    },
    {
      "cell_type": "markdown",
      "source": [
        "# Redução de Dimensionalidade"
      ],
      "metadata": {
        "id": "ELe0qdw2b7eH"
      }
    },
    {
      "cell_type": "markdown",
      "source": [
        "Encontrando o número ideal de Componentes"
      ],
      "metadata": {
        "id": "2BIxzymscaXN"
      }
    },
    {
      "cell_type": "code",
      "source": [
        "from pyspark.ml.feature import PCA"
      ],
      "metadata": {
        "id": "sJMp77NhaNe1"
      },
      "execution_count": 27,
      "outputs": []
    },
    {
      "cell_type": "code",
      "source": [
        "k = len(X)"
      ],
      "metadata": {
        "id": "D1Luvbp2cSha"
      },
      "execution_count": 28,
      "outputs": []
    },
    {
      "cell_type": "code",
      "source": [
        "pca = PCA(k = k, inputCol = 'scaled_features', outputCol = 'pca_features')\n",
        "model_pca = pca.fit(dados_scaler)"
      ],
      "metadata": {
        "id": "xpctg0bndxo_"
      },
      "execution_count": 29,
      "outputs": []
    },
    {
      "cell_type": "code",
      "source": [
        "lista_valores = [sum(model_pca.explainedVariance[0:i+1]) for i in range(k)]"
      ],
      "metadata": {
        "id": "_IEZuckLdpkc"
      },
      "execution_count": 30,
      "outputs": []
    },
    {
      "cell_type": "code",
      "source": [
        "import numpy as np"
      ],
      "metadata": {
        "id": "pSkJFrZweDGF"
      },
      "execution_count": 31,
      "outputs": []
    },
    {
      "cell_type": "code",
      "source": [
        "k = sum(np.array(lista_valores) <= 0.7)\n",
        "k"
      ],
      "metadata": {
        "colab": {
          "base_uri": "https://localhost:8080/"
        },
        "id": "e4jnkFE3eEE-",
        "outputId": "eb2b80c0-508c-4d04-ba8e-61f79a410239"
      },
      "execution_count": 32,
      "outputs": [
        {
          "output_type": "execute_result",
          "data": {
            "text/plain": [
              "6"
            ]
          },
          "metadata": {},
          "execution_count": 32
        }
      ]
    },
    {
      "cell_type": "code",
      "source": [
        "pca = PCA(k = k, inputCol = 'scaled_features', outputCol = 'pca_features')\n",
        "model_pca = pca.fit(dados_scaler)\n",
        "dados_pca = model_pca.transform(dados_scaler)"
      ],
      "metadata": {
        "id": "ovXKcNTjR6tm"
      },
      "execution_count": 33,
      "outputs": []
    },
    {
      "cell_type": "code",
      "source": [
        "dados_pca.select('pca_features').show(truncate = False)"
      ],
      "metadata": {
        "colab": {
          "base_uri": "https://localhost:8080/"
        },
        "id": "XaRCO2OoTfHu",
        "outputId": "eed6a352-7487-490f-ed5b-84cca1f96cd9"
      },
      "execution_count": 34,
      "outputs": [
        {
          "output_type": "stream",
          "name": "stdout",
          "text": [
            "+---------------------------------------------------------------------------------------------------------------------------+\n",
            "|pca_features                                                                                                               |\n",
            "+---------------------------------------------------------------------------------------------------------------------------+\n",
            "|[-6.165125049533812,1.3380985269405696,-1.7052299823820158,-0.5338289630560162,0.08903815478581815,-0.3134396180129953]    |\n",
            "|[-3.2529111812184865,-1.1179591836228857,-0.2923895841501507,3.195538820020636,0.1528630698219846,1.302893049066197]       |\n",
            "|[-1.0611769329629537,-1.6685040058694294,-2.30759482783911,0.10553124125788461,-0.06914386452866851,0.7187181899556143]    |\n",
            "|[-1.995811900783872,-1.7655796610847843,1.3571962498672347,-0.16336519381168974,-0.021305227846957334,0.12808044918214828] |\n",
            "|[-0.4181406070145923,-2.131040791141693,-0.1026409926497008,2.809916415039177,-0.042956284698168964,-0.09449068767336455]  |\n",
            "|[-6.9015238649802715,-6.262240376053038,0.16910177737318188,0.9779688500381024,-0.137360477999322,0.8070938605611206]      |\n",
            "|[-0.7164221492881188,-1.4040232409557425,-0.5880227755977427,2.8308875117797396,0.013520135298654659,0.28321813330894896]  |\n",
            "|[-1.4856960209870214,-1.7808507073415798,-1.2578464949084176,3.019147069955898,-0.1230350650797674,-0.4086526496917688]    |\n",
            "|[-6.0456283208921535,-7.824880763294744,0.8818715068911896,0.8870883633126033,-0.11156730428617793,1.1534985495745893]     |\n",
            "|[-6.199240571378114,0.3124209223549341,-1.2536547599086167,2.8267834930573326,0.06487910654048239,0.8407164846741647]      |\n",
            "|[-6.884681111573802,-1.050675104927925,-0.7150385451991546,0.14081256728031682,-0.12293880480695774,-0.012785235241512927] |\n",
            "|[-4.613470387277003,-4.014655897062348,1.3861151450856486,0.25794041485945685,-0.06264532056065349,0.3151835602761643]     |\n",
            "|[-4.476327061805593,-3.8649262122150287,1.9543162471144324,0.3920283672793603,0.10537138955480366,1.245088515992784]       |\n",
            "|[-0.9935595784851534,-2.9244548608453225,0.5955403058697635,0.04903265999569473,-0.21477729308072419,-0.8898160995676627]  |\n",
            "|[-3.16451925334317,-2.145186138172188,-4.134482451280468,0.332366037558096,-0.3340019679627175,-0.7316863604413174]        |\n",
            "|[-3.546059940548585,-4.6557489577929845,-5.0478959419256455,0.5981869579153204,-0.3431190572550165,-0.6805477041334793]    |\n",
            "|[-7.507064348067576,-5.873363966077033,-0.4632190292126165,0.9640748873463345,-0.23757586245988377,0.4253795999856763]     |\n",
            "|[-0.65020079746698,-0.44347741220645925,0.21447012352131423,2.591531259942347,0.0986000664791115,0.5087564467428431]       |\n",
            "|[-0.12715321773623325,-1.19611485883027,-0.10466844621100192,2.64055524879081,-0.0014733730251071803,-0.010183626296166967]|\n",
            "|[-2.849363391484401,-1.0413877168058734,-4.116836754726095,0.10541530141944482,-0.2711338099799911,-0.5882902051997321]    |\n",
            "+---------------------------------------------------------------------------------------------------------------------------+\n",
            "only showing top 20 rows\n",
            "\n"
          ]
        }
      ]
    },
    {
      "cell_type": "markdown",
      "source": [
        "# Criando um Pipeline"
      ],
      "metadata": {
        "id": "EvsKbizuTxYr"
      }
    },
    {
      "cell_type": "markdown",
      "source": [
        "Para facilitar futuras transformações nos dados irei utilizar um Pipeline que basicamente é o conjunto de aplicações aplicados anteriormente (VectorAssembler, StandardScaler e Pca)"
      ],
      "metadata": {
        "id": "hT_9t9uUTzXN"
      }
    },
    {
      "cell_type": "code",
      "source": [
        "from pyspark.ml import Pipeline"
      ],
      "metadata": {
        "id": "NT2wXxvFTt-f"
      },
      "execution_count": 35,
      "outputs": []
    },
    {
      "cell_type": "code",
      "source": [
        "pca_pipeline = Pipeline(stages = [VectorAssembler(inputCols = X, outputCol = 'features'),\n",
        "                                  StandardScaler(inputCol='features', outputCol='scaled_features'),\n",
        "                                  PCA(k = k, inputCol = 'scaled_features', outputCol = 'pca_features')])"
      ],
      "metadata": {
        "id": "ryI25tSbTmq7"
      },
      "execution_count": 36,
      "outputs": []
    },
    {
      "cell_type": "code",
      "source": [
        "pca_pipeline_model = pca_pipeline.fit(dados)"
      ],
      "metadata": {
        "id": "ktj8bUFzXaU6"
      },
      "execution_count": 37,
      "outputs": []
    },
    {
      "cell_type": "code",
      "source": [
        "dados_pca = pca_pipeline_model.transform(dados)"
      ],
      "metadata": {
        "id": "s585WqFgXyiT"
      },
      "execution_count": 38,
      "outputs": []
    },
    {
      "cell_type": "code",
      "source": [
        "dados_pca.show(5)"
      ],
      "metadata": {
        "colab": {
          "base_uri": "https://localhost:8080/"
        },
        "id": "hp_NZwuNX9G8",
        "outputId": "b48be6a2-0cab-407a-ae47-ca5150655252"
      },
      "execution_count": 39,
      "outputs": [
        {
          "output_type": "stream",
          "name": "stdout",
          "text": [
            "+--------------------+-----+---------+---------+-------+------+----+------------+----------+-----+--------+------------+----------+----------+--------+--------+------------------+-------------+------------------+--------+-------+----------+------------+-----------------+---------------+--------------------+--------------------+--------------------+\n",
            "|                  id|andar|area_util|banheiros|quartos|suites|vaga|      bairro|condominio| iptu|   valor|zona_central|zona_norte|zona_oeste|zona_sul|academia|animais_permitidos|churrasqueira|condominio_fechado|elevador|piscina|playground|portaria_24h|portao_eletronico|salao_de_festas|            features|     scaled_features|        pca_features|\n",
            "+--------------------+-----+---------+---------+-------+------+----+------------+----------+-----+--------+------------+----------+----------+--------+--------+------------------+-------------+------------------+--------+-------+----------+------------+-----------------+---------------+--------------------+--------------------+--------------------+\n",
            "|00002dd9-cc74-480...|    2|       35|        1|      1|   0.0| 0.0|Santo Cristo|     100.0|100.0|245000.0|           1|         0|         0|       0|       1|                 1|            1|                 1|       1|      1|         1|           1|                1|              1|[2.0,35.0,1.0,1.0...|[0.13607726247524...|[-6.1651250495338...|\n",
            "|0009ca94-2b37-438...|    1|       84|        2|      2|   0.0| 1.0|      Tijuca|     770.0|105.0|474980.0|           0|         1|         0|       0|       0|                 0|            1|                 0|       1|      0|         1|           1|                0|              1|(23,[0,1,2,3,5,6,...|(23,[0,1,2,3,5,6,...|[-3.2529111812184...|\n",
            "|000e3d28-e3e5-411...|    0|       85|        2|      2|   0.0| 0.0|Santa Teresa|     460.0|661.0|290000.0|           0|         0|         0|       1|       0|                 1|            0|                 0|       1|      0|         0|           0|                0|              0|(23,[1,2,3,6,7,8,...|(23,[1,2,3,6,7,8,...|[-1.0611769329629...|\n",
            "|000fb707-6cad-496...|    0|       58|        1|      2|   0.0| 1.0|   Pechincha|     550.0|550.0|249000.0|           0|         0|         1|       0|       0|                 0|            0|                 0|       0|      1|         1|           0|                0|              0|(23,[1,2,3,5,6,7,...|(23,[1,2,3,5,6,7,...|[-1.9958119007838...|\n",
            "|001b6db0-e88d-4eb...|    0|       64|        2|      2|   1.0| 1.0|      Tijuca|     850.0|  0.0|530000.0|           0|         1|         0|       0|       0|                 0|            0|                 0|       0|      0|         0|           0|                0|              0|(23,[1,2,3,4,5,6,...|(23,[1,2,3,4,5,6,...|[-0.4181406070145...|\n",
            "+--------------------+-----+---------+---------+-------+------+----+------------+----------+-----+--------+------------+----------+----------+--------+--------+------------------+-------------+------------------+--------+-------+----------+------------+-----------------+---------------+--------------------+--------------------+--------------------+\n",
            "only showing top 5 rows\n",
            "\n"
          ]
        }
      ]
    },
    {
      "cell_type": "markdown",
      "source": [
        "Como podemos observar chegamos ao mesmo resultado, só que com uma maior facilidade"
      ],
      "metadata": {
        "id": "ihiDqP0bYJli"
      }
    },
    {
      "cell_type": "code",
      "source": [
        "dados_pca.select('pca_features').show(truncate = False)"
      ],
      "metadata": {
        "colab": {
          "base_uri": "https://localhost:8080/"
        },
        "id": "RepOkCO6X_4t",
        "outputId": "015ec6ac-497e-4e96-cebd-0543ebb34e71"
      },
      "execution_count": 40,
      "outputs": [
        {
          "output_type": "stream",
          "name": "stdout",
          "text": [
            "+---------------------------------------------------------------------------------------------------------------------------+\n",
            "|pca_features                                                                                                               |\n",
            "+---------------------------------------------------------------------------------------------------------------------------+\n",
            "|[-6.165125049533812,1.3380985269405696,-1.7052299823820158,-0.5338289630560162,0.08903815478581815,-0.3134396180129953]    |\n",
            "|[-3.2529111812184865,-1.1179591836228857,-0.2923895841501507,3.195538820020636,0.1528630698219846,1.302893049066197]       |\n",
            "|[-1.0611769329629537,-1.6685040058694294,-2.30759482783911,0.10553124125788461,-0.06914386452866851,0.7187181899556143]    |\n",
            "|[-1.995811900783872,-1.7655796610847843,1.3571962498672347,-0.16336519381168974,-0.021305227846957334,0.12808044918214828] |\n",
            "|[-0.4181406070145923,-2.131040791141693,-0.1026409926497008,2.809916415039177,-0.042956284698168964,-0.09449068767336455]  |\n",
            "|[-6.9015238649802715,-6.262240376053038,0.16910177737318188,0.9779688500381024,-0.137360477999322,0.8070938605611206]      |\n",
            "|[-0.7164221492881188,-1.4040232409557425,-0.5880227755977427,2.8308875117797396,0.013520135298654659,0.28321813330894896]  |\n",
            "|[-1.4856960209870214,-1.7808507073415798,-1.2578464949084176,3.019147069955898,-0.1230350650797674,-0.4086526496917688]    |\n",
            "|[-6.0456283208921535,-7.824880763294744,0.8818715068911896,0.8870883633126033,-0.11156730428617793,1.1534985495745893]     |\n",
            "|[-6.199240571378114,0.3124209223549341,-1.2536547599086167,2.8267834930573326,0.06487910654048239,0.8407164846741647]      |\n",
            "|[-6.884681111573802,-1.050675104927925,-0.7150385451991546,0.14081256728031682,-0.12293880480695774,-0.012785235241512927] |\n",
            "|[-4.613470387277003,-4.014655897062348,1.3861151450856486,0.25794041485945685,-0.06264532056065349,0.3151835602761643]     |\n",
            "|[-4.476327061805593,-3.8649262122150287,1.9543162471144324,0.3920283672793603,0.10537138955480366,1.245088515992784]       |\n",
            "|[-0.9935595784851534,-2.9244548608453225,0.5955403058697635,0.04903265999569473,-0.21477729308072419,-0.8898160995676627]  |\n",
            "|[-3.16451925334317,-2.145186138172188,-4.134482451280468,0.332366037558096,-0.3340019679627175,-0.7316863604413174]        |\n",
            "|[-3.546059940548585,-4.6557489577929845,-5.0478959419256455,0.5981869579153204,-0.3431190572550165,-0.6805477041334793]    |\n",
            "|[-7.507064348067576,-5.873363966077033,-0.4632190292126165,0.9640748873463345,-0.23757586245988377,0.4253795999856763]     |\n",
            "|[-0.65020079746698,-0.44347741220645925,0.21447012352131423,2.591531259942347,0.0986000664791115,0.5087564467428431]       |\n",
            "|[-0.12715321773623325,-1.19611485883027,-0.10466844621100192,2.64055524879081,-0.0014733730251071803,-0.010183626296166967]|\n",
            "|[-2.849363391484401,-1.0413877168058734,-4.116836754726095,0.10541530141944482,-0.2711338099799911,-0.5882902051997321]    |\n",
            "+---------------------------------------------------------------------------------------------------------------------------+\n",
            "only showing top 20 rows\n",
            "\n"
          ]
        }
      ]
    },
    {
      "cell_type": "markdown",
      "source": [
        "# Criando Clusters"
      ],
      "metadata": {
        "id": "LMZSGVQOSKiQ"
      }
    },
    {
      "cell_type": "code",
      "source": [
        "from pyspark.ml.clustering import KMeans"
      ],
      "metadata": {
        "id": "rSJERqtjSL_6"
      },
      "execution_count": 41,
      "outputs": []
    },
    {
      "cell_type": "code",
      "source": [
        "SEED = 156"
      ],
      "metadata": {
        "id": "_vMV8ntOSYve"
      },
      "execution_count": 42,
      "outputs": []
    },
    {
      "cell_type": "markdown",
      "source": [
        "## Encontrando uma quantidade ideal de clusters"
      ],
      "metadata": {
        "id": "7Lp_vMyRU_jf"
      }
    },
    {
      "cell_type": "markdown",
      "source": [
        "Vamos analisar os valores entre 2 e 30"
      ],
      "metadata": {
        "id": "WmdDGOBCWaOb"
      }
    },
    {
      "cell_type": "code",
      "source": [
        "i = {}\n",
        "\n",
        "for k in range(2, 30):\n",
        "  kmeans_dados = KMeans(featuresCol = 'pca_features', k = k, seed = SEED)\n",
        "  model = kmeans_dados.fit(dados_pca)\n",
        "  i[k] = model.summary.trainingCost"
      ],
      "metadata": {
        "id": "_x48n7rNSexq"
      },
      "execution_count": 43,
      "outputs": []
    },
    {
      "cell_type": "code",
      "source": [
        "import matplotlib.pyplot as plt\n",
        "import seaborn as sns"
      ],
      "metadata": {
        "id": "T9FG4tQqXJkU"
      },
      "execution_count": 44,
      "outputs": []
    },
    {
      "cell_type": "code",
      "source": [
        "fig, ax = plt.subplots(1, 1, figsize =(20, 8))\n",
        "\n",
        "ax.plot(list(i.keys()), list(i.values()),**{'marker': 'o'})\n",
        "ax.set_xlabel('k')\n",
        "ax.set_ylabel('i')\n",
        "plt.show()"
      ],
      "metadata": {
        "colab": {
          "base_uri": "https://localhost:8080/",
          "height": 497
        },
        "id": "JNjvIAHXY5hR",
        "outputId": "ed7d6870-1696-4238-ab15-26179bc5f269"
      },
      "execution_count": 45,
      "outputs": [
        {
          "output_type": "display_data",
          "data": {
            "text/plain": [
              "<Figure size 1440x576 with 1 Axes>"
            ],
            "image/png": "[encoded data removed]"
          },
          "metadata": {
            "needs_background": "light"
          }
        }
      ]
    },
    {
      "cell_type": "markdown",
      "source": [
        "Aparentemente 11 clusters parece o número correto pois a curva diminui a partir deste ponto"
      ],
      "metadata": {
        "id": "q58FLEDzRWvm"
      }
    },
    {
      "cell_type": "code",
      "source": [
        "kmeans = KMeans(k = 11, featuresCol = 'pca_features', predictionCol = 'cluster_pca', seed = SEED)"
      ],
      "metadata": {
        "id": "exEYl_6JaWJ8"
      },
      "execution_count": 46,
      "outputs": []
    },
    {
      "cell_type": "markdown",
      "source": [
        "Agora utilizando os dados criados em nosso Pipeline podemos continuar a criação de nosso modelo"
      ],
      "metadata": {
        "id": "V52R0fo_UZu0"
      }
    },
    {
      "cell_type": "code",
      "source": [
        "kmeans_model = kmeans.fit(dados_pca)"
      ],
      "metadata": {
        "id": "N1Ddfbt8MEDB"
      },
      "execution_count": 47,
      "outputs": []
    },
    {
      "cell_type": "code",
      "source": [
        "kmeans_predictions = kmeans_model.transform(dados_pca)"
      ],
      "metadata": {
        "id": "azNpDnOsUPc_"
      },
      "execution_count": 48,
      "outputs": []
    },
    {
      "cell_type": "code",
      "source": [
        "kmeans_predictions.select(['pca_features', 'cluster_pca']).show()"
      ],
      "metadata": {
        "colab": {
          "base_uri": "https://localhost:8080/"
        },
        "id": "6XZIMjANUvK8",
        "outputId": "3a980f6e-b1b9-4d07-f2f5-8b00507c23d5"
      },
      "execution_count": 49,
      "outputs": [
        {
          "output_type": "stream",
          "name": "stdout",
          "text": [
            "+--------------------+-----------+\n",
            "|        pca_features|cluster_pca|\n",
            "+--------------------+-----------+\n",
            "|[-6.1651250495338...|          1|\n",
            "|[-3.2529111812184...|         10|\n",
            "|[-1.0611769329629...|          0|\n",
            "|[-1.9958119007838...|          4|\n",
            "|[-0.4181406070145...|          3|\n",
            "|[-6.9015238649802...|          9|\n",
            "|[-0.7164221492881...|          3|\n",
            "|[-1.4856960209870...|          3|\n",
            "|[-6.0456283208921...|          9|\n",
            "|[-6.1992405713781...|         10|\n",
            "|[-6.8846811115738...|          1|\n",
            "|[-4.6134703872770...|          6|\n",
            "|[-4.4763270618055...|          6|\n",
            "|[-0.9935595784851...|          4|\n",
            "|[-3.1645192533431...|          8|\n",
            "|[-3.5460599405485...|          2|\n",
            "|[-7.5070643480675...|          9|\n",
            "|[-0.6502007974669...|          3|\n",
            "|[-0.1271532177362...|          3|\n",
            "|[-2.8493633914844...|          8|\n",
            "+--------------------+-----------+\n",
            "only showing top 20 rows\n",
            "\n"
          ]
        }
      ]
    },
    {
      "cell_type": "markdown",
      "source": [
        "## Avaliando as informações de cada cluster"
      ],
      "metadata": {
        "id": "LBmHv59GW-jJ"
      }
    },
    {
      "cell_type": "markdown",
      "source": [
        "### Quantidade de dados em cada cluster"
      ],
      "metadata": {
        "id": "WIAPtVupbhM8"
      }
    },
    {
      "cell_type": "code",
      "source": [
        "kmeans_predictions.groupBy('cluster_pca').count().orderBy('cluster_pca').show()"
      ],
      "metadata": {
        "colab": {
          "base_uri": "https://localhost:8080/"
        },
        "id": "PPbJbJueU2eJ",
        "outputId": "c3f44a2e-e40b-48aa-b507-10f0d757b73d"
      },
      "execution_count": 50,
      "outputs": [
        {
          "output_type": "stream",
          "name": "stdout",
          "text": [
            "+-----------+-----+\n",
            "|cluster_pca|count|\n",
            "+-----------+-----+\n",
            "|          0| 9084|\n",
            "|          1|14756|\n",
            "|          2| 3014|\n",
            "|          3| 6734|\n",
            "|          4| 7796|\n",
            "|          5| 2877|\n",
            "|          6| 6312|\n",
            "|          7|   27|\n",
            "|          8| 6375|\n",
            "|          9| 4743|\n",
            "|         10| 4833|\n",
            "+-----------+-----+\n",
            "\n"
          ]
        }
      ]
    },
    {
      "cell_type": "markdown",
      "source": [
        "A quantidade de dados varia bastante entre os clusters. Os clusters com a diferença mais significante são o 1 com 14756 itens e o 7 com 27 itens"
      ],
      "metadata": {
        "id": "Dz0Vc0Xwb_ol"
      }
    },
    {
      "cell_type": "markdown",
      "source": [
        "### Média das variáveis dos clusters"
      ],
      "metadata": {
        "id": "VcWMKhC2eVPq"
      }
    },
    {
      "cell_type": "code",
      "source": [
        "clusters_means = kmeans_predictions\\\n",
        "                    .groupBy('cluster_pca')\\\n",
        "                    .mean()"
      ],
      "metadata": {
        "id": "CFl4X9NYZdc8"
      },
      "execution_count": 51,
      "outputs": []
    },
    {
      "cell_type": "code",
      "source": [
        "clusters_means.show(5)"
      ],
      "metadata": {
        "colab": {
          "base_uri": "https://localhost:8080/"
        },
        "id": "mwzUBIYufkwr",
        "outputId": "de4066a9-e436-412d-fb48-8d5e9f8e33e4"
      },
      "execution_count": 52,
      "outputs": [
        {
          "output_type": "stream",
          "name": "stdout",
          "text": [
            "+-----------+------------------+------------------+------------------+------------------+------------------+------------------+------------------+------------------+------------------+--------------------+--------------------+------------------+--------------------+--------------------+-----------------------+-------------------+-----------------------+-------------------+-------------------+-------------------+-------------------+----------------------+--------------------+----------------+\n",
            "|cluster_pca|        avg(andar)|    avg(area_util)|    avg(banheiros)|      avg(quartos)|       avg(suites)|         avg(vaga)|   avg(condominio)|         avg(iptu)|        avg(valor)|   avg(zona_central)|     avg(zona_norte)|   avg(zona_oeste)|       avg(zona_sul)|       avg(academia)|avg(animais_permitidos)| avg(churrasqueira)|avg(condominio_fechado)|      avg(elevador)|       avg(piscina)|    avg(playground)|  avg(portaria_24h)|avg(portao_eletronico)|avg(salao_de_festas)|avg(cluster_pca)|\n",
            "+-----------+------------------+------------------+------------------+------------------+------------------+------------------+------------------+------------------+------------------+--------------------+--------------------+------------------+--------------------+--------------------+-----------------------+-------------------+-----------------------+-------------------+-------------------+-------------------+-------------------+----------------------+--------------------+----------------+\n",
            "|          1|3.5142992680943346| 89.45459474112225| 2.132759555435077|2.4489021415017618|1.0609243697478992| 1.273041474654378| 4193.568107888316|2328.5263621577665| 862764.9754676064|0.034358904852263485|                 0.0| 0.826646787747357| 0.13899430740037952|  0.9256573597180808|     0.8691379777717538| 0.9213879100027108|     0.9896313364055299| 0.9523583626999187| 0.9543236649498509| 0.9150853889943074| 0.9763486039577122|    0.9070208728652751|  0.9617782596909732|             1.0|\n",
            "|          6|0.7503168567807351| 94.83190747782002| 2.317015209125475|2.5427756653992395|1.1121673003802282|1.3757921419518377| 3226.387198986058|1863.0922053231939| 895486.6318124208|0.002534854245880...|0.009505703422053232|0.9138149556400507|  0.0741444866920152|  0.7412864385297845|    0.16603295310519645| 0.8930608365019012|     0.4798795944233207| 0.6329214195183777| 0.9472433460076045| 0.8452154626108999| 0.0491128010139417|  0.017110266159695818|  0.8542458808618505|             6.0|\n",
            "|          3| 1.007870507870508| 86.27769527769527|2.0002970002970004| 2.386397386397386|0.4835164835164835|0.8951588951588951|1755.6366201366202|1150.8424413424414| 492153.4953964954|                 0.0|                 1.0|               0.0|                 0.0|0.010692010692010692|    0.17315117315117315|0.13468963468963469|    0.11597861597861597| 0.3887733887733888|0.06994356994356994|0.14835164835164835|0.06637956637956638|   0.13394713394713395|  0.1787941787941788|             3.0|\n",
            "|          5|3.9534237052485226| 279.7994438651373| 5.020855057351408| 3.854709767118526|2.8825165102537365|3.2551268682655543| 4987.484880083421| 4265.636079249218|2955005.4466458117|                 0.0| 0.03302050747306222|0.9582898852971846|0.008689607229753215| 0.09002433090024331|    0.22280152937087244|0.25790754257907544|    0.23392422662495654|0.38338547097671183| 0.3131734445603059|0.11678832116788321|0.08202989224887035|   0.21098366353840806|  0.1470281543274244|             5.0|\n",
            "|          9| 4.314568838288003|254.32869491882775| 4.667510014758592|  3.87370862323424| 3.137887413029728|3.0438541007800968| 5513.347459413873| 4373.322369808138|  3447200.49293696|                 0.0| 0.00843348091924942|0.8444022770398482|  0.1471642420409024|   0.937381404174573|     0.7685009487666035|  0.877292852624921|     0.9574109213577904| 0.9675310984608897| 0.9709044908285895| 0.9135568205776935|  0.811933375500738|    0.7598566308243727|   0.942652329749104|             9.0|\n",
            "+-----------+------------------+------------------+------------------+------------------+------------------+------------------+------------------+------------------+------------------+--------------------+--------------------+------------------+--------------------+--------------------+-----------------------+-------------------+-----------------------+-------------------+-------------------+-------------------+-------------------+----------------------+--------------------+----------------+\n",
            "only showing top 5 rows\n",
            "\n"
          ]
        }
      ]
    },
    {
      "cell_type": "code",
      "source": [
        "colunas_cluster = ['avg(area_util)', 'avg(banheiros)', 'avg(quartos)', 'avg(valor)']\n",
        "nomes_colunas = ['Área útil', 'Banheiros', 'Quartos', 'Valor']"
      ],
      "metadata": {
        "id": "UWsDID4qe_M2"
      },
      "execution_count": 53,
      "outputs": []
    },
    {
      "cell_type": "code",
      "source": [
        "analise_clusters = zip(colunas_cluster, nomes_colunas)"
      ],
      "metadata": {
        "id": "6vdl6KeEiJGF"
      },
      "execution_count": 54,
      "outputs": []
    },
    {
      "cell_type": "code",
      "source": [
        "for col, name in analise_clusters:\n",
        "  clusters_means\\\n",
        "            .orderBy(col, ascending = False)\\\n",
        "            .withColumn(name, f.round(clusters_means[col],2))\\\n",
        "            .select('cluster_pca', name)\\\n",
        "            .show()"
      ],
      "metadata": {
        "colab": {
          "base_uri": "https://localhost:8080/"
        },
        "id": "7l1LjFZGfTgy",
        "outputId": "2dd90ee5-b45c-4aa6-9a21-1ddea4034f7c"
      },
      "execution_count": 55,
      "outputs": [
        {
          "output_type": "stream",
          "name": "stdout",
          "text": [
            "+-----------+---------+\n",
            "|cluster_pca|Área útil|\n",
            "+-----------+---------+\n",
            "|          5|    279.8|\n",
            "|          7|    260.3|\n",
            "|          9|   254.33|\n",
            "|          2|   246.51|\n",
            "|          0|    98.58|\n",
            "|          6|    94.83|\n",
            "|          1|    89.45|\n",
            "|          4|    88.67|\n",
            "|          8|    87.37|\n",
            "|          3|    86.28|\n",
            "|         10|     75.4|\n",
            "+-----------+---------+\n",
            "\n",
            "+-----------+---------+\n",
            "|cluster_pca|Banheiros|\n",
            "+-----------+---------+\n",
            "|          5|     5.02|\n",
            "|          9|     4.67|\n",
            "|          2|     3.91|\n",
            "|          7|     3.63|\n",
            "|          6|     2.32|\n",
            "|          1|     2.13|\n",
            "|          0|     2.06|\n",
            "|          4|     2.03|\n",
            "|          3|      2.0|\n",
            "|         10|     1.86|\n",
            "|          8|     1.85|\n",
            "+-----------+---------+\n",
            "\n",
            "+-----------+-------+\n",
            "|cluster_pca|Quartos|\n",
            "+-----------+-------+\n",
            "|          9|   3.87|\n",
            "|          5|   3.85|\n",
            "|          2|    3.7|\n",
            "|          7|   3.44|\n",
            "|          6|   2.54|\n",
            "|          1|   2.45|\n",
            "|          0|    2.4|\n",
            "|          3|   2.39|\n",
            "|          4|   2.36|\n",
            "|         10|   2.31|\n",
            "|          8|   2.12|\n",
            "+-----------+-------+\n",
            "\n",
            "+-----------+----------+\n",
            "|cluster_pca|     Valor|\n",
            "+-----------+----------+\n",
            "|          2|4250781.87|\n",
            "|          7|3954287.41|\n",
            "|          9|3447200.49|\n",
            "|          5|2955005.45|\n",
            "|          0| 1314018.3|\n",
            "|          8|1054868.56|\n",
            "|          6| 895486.63|\n",
            "|          1| 862764.98|\n",
            "|          4| 709288.66|\n",
            "|         10|  514856.5|\n",
            "|          3|  492153.5|\n",
            "+-----------+----------+\n",
            "\n"
          ]
        }
      ]
    },
    {
      "cell_type": "markdown",
      "source": [
        "Com base nos dados acima percebemos que:\n",
        "\n",
        "- Os clusters com maior área útil são o 5 e o 7 acima de 260 m2 e os com menor área útil são os 3 e 10 com menos de 90 m2\n",
        "\n",
        "- Os clusters com maior número de banheiros são o 5 e o 9 com mais de 4 banheiros e os com menor número de banheiros são o 10 e o 8 com menos de 2 banheiros\n",
        "\n",
        "- Os clusters com maior média de quartos são o 9 e o 5 e os com menor média de quartos são o 10 e o 8\n",
        "\n",
        "- Os clusters com maior valor são o 2 e o 7 e os com menor valor o 10 e o 3\n",
        "\n",
        "Analisando essas informações percebemos que: \n",
        "\n",
        "- O cluster 10 está nos itens com menores médias\n",
        "\n",
        "- O cluster 5 apesar de estar no topo da maior parte dos itens selecionados, não é necessáriamente o que contém maiores valores\n",
        "\n",
        "Já para ter uma maior noção dos demais clusters seria necessário selecionar mais variáveis"
      ],
      "metadata": {
        "id": "9qmsyRItkDYW"
      }
    },
    {
      "cell_type": "markdown",
      "source": [
        "# Filtrando imóveis do mesmo cluster"
      ],
      "metadata": {
        "id": "lEXQq4-SvgZp"
      }
    },
    {
      "cell_type": "markdown",
      "source": [
        "Selecionando o ID de um imóvel"
      ],
      "metadata": {
        "id": "rhNZdPQww0lM"
      }
    },
    {
      "cell_type": "code",
      "source": [
        "imovel = '00002dd9-cc74-4809-b5a5-850adf0e7526'"
      ],
      "metadata": {
        "id": "HNHlGBcpwkNd"
      },
      "execution_count": 58,
      "outputs": []
    },
    {
      "cell_type": "markdown",
      "source": [
        "Cluster do imóvel"
      ],
      "metadata": {
        "id": "q39-JTe5xhvR"
      }
    },
    {
      "cell_type": "code",
      "source": [
        "cluster = kmeans_predictions.filter(kmeans_predictions.id == imovel).select('cluster_pca').collect()[0][0]\n",
        "cluster"
      ],
      "metadata": {
        "colab": {
          "base_uri": "https://localhost:8080/"
        },
        "id": "TTwcYV2bwy8O",
        "outputId": "6623cd3a-e256-449d-a83e-81dc1bd9dfb5"
      },
      "execution_count": 60,
      "outputs": [
        {
          "output_type": "execute_result",
          "data": {
            "text/plain": [
              "1"
            ]
          },
          "metadata": {},
          "execution_count": 60
        }
      ]
    },
    {
      "cell_type": "markdown",
      "source": [
        "Imóveis do mesmo cluster"
      ],
      "metadata": {
        "id": "op-jPYnFyvIU"
      }
    },
    {
      "cell_type": "code",
      "source": [
        "imovel_cluster = kmeans_predictions.filter(kmeans_predictions.cluster_pca == cluster)\n",
        "print(imovel_cluster.count())\n",
        "imovel_cluster.show(5)"
      ],
      "metadata": {
        "colab": {
          "base_uri": "https://localhost:8080/"
        },
        "id": "SUCnkTu-xjNq",
        "outputId": "8886751f-236e-4841-f021-ee0d80774062"
      },
      "execution_count": 61,
      "outputs": [
        {
          "output_type": "stream",
          "name": "stdout",
          "text": [
            "14756\n",
            "+--------------------+-----+---------+---------+-------+------+----+--------------------+----------+-----+---------+------------+----------+----------+--------+--------+------------------+-------------+------------------+--------+-------+----------+------------+-----------------+---------------+--------------------+--------------------+--------------------+-----------+\n",
            "|                  id|andar|area_util|banheiros|quartos|suites|vaga|              bairro|condominio| iptu|    valor|zona_central|zona_norte|zona_oeste|zona_sul|academia|animais_permitidos|churrasqueira|condominio_fechado|elevador|piscina|playground|portaria_24h|portao_eletronico|salao_de_festas|            features|     scaled_features|        pca_features|cluster_pca|\n",
            "+--------------------+-----+---------+---------+-------+------+----+--------------------+----------+-----+---------+------------+----------+----------+--------+--------+------------------+-------------+------------------+--------+-------+----------+------------+-----------------+---------------+--------------------+--------------------+--------------------+-----------+\n",
            "|00002dd9-cc74-480...|    2|       35|        1|      1|   0.0| 0.0|        Santo Cristo|     100.0|100.0| 245000.0|           1|         0|         0|       0|       1|                 1|            1|                 1|       1|      1|         1|           1|                1|              1|[2.0,35.0,1.0,1.0...|[0.13607726247524...|[-6.1651250495338...|          1|\n",
            "|00348cd1-923a-4db...|    5|       78|        1|      2|   1.0| 1.0|     Barra da Tijuca|       1.0|  1.0|1050300.0|           0|         0|         1|       0|       1|                 1|            1|                 1|       1|      1|         1|           1|                1|              1|[5.0,78.0,1.0,2.0...|[0.34019315618810...|[-6.8846811115738...|          1|\n",
            "|00779ffc-4566-41f...|    9|       82|        3|      3|   2.0| 1.0|     Barra da Tijuca|    1540.0|400.0| 680000.0|           0|         0|         1|       0|       1|                 1|            1|                 1|       1|      1|         1|           1|                1|              1|[9.0,82.0,3.0,3.0...|[0.61234768113858...|[-7.2409755560320...|          1|\n",
            "|007a7c27-bb0b-4b6...|    0|       65|        2|      2|   1.0| 1.0|Recreio dos Bande...|     890.0|180.0| 540000.0|           0|         0|         1|       0|       1|                 1|            1|                 1|       1|      1|         1|           1|                0|              1|[0.0,65.0,2.0,2.0...|[0.0,0.7295501791...|[-6.3756683127110...|          1|\n",
            "|0088ef55-9e24-402...|    0|      157|        2|      3|   1.0| 2.0|Recreio dos Bande...|    1595.0|388.0|1149000.0|           0|         0|         1|       0|       1|                 1|            1|                 1|       1|      1|         1|           1|                1|              1|[0.0,157.0,2.0,3....|[0.0,1.7621442789...|[-7.1548950649152...|          1|\n",
            "+--------------------+-----+---------+---------+-------+------+----+--------------------+----------+-----+---------+------------+----------+----------+--------+--------+------------------+-------------+------------------+--------+-------+----------+------------+-----------------+---------------+--------------------+--------------------+--------------------+-----------+\n",
            "only showing top 5 rows\n",
            "\n"
          ]
        }
      ]
    },
    {
      "cell_type": "markdown",
      "source": [
        "# Calculando a distância Euclidiana"
      ],
      "metadata": {
        "id": "J7gxb96Gyq4Y"
      }
    },
    {
      "cell_type": "code",
      "source": [
        "from scipy.spatial.distance import euclidean\n",
        "from pyspark.sql.types import FloatType"
      ],
      "metadata": {
        "id": "U5bvE0OjEu4x"
      },
      "execution_count": 63,
      "outputs": []
    },
    {
      "cell_type": "markdown",
      "source": [
        "Vetor do imóvel"
      ],
      "metadata": {
        "id": "CDPyaH611aMn"
      }
    },
    {
      "cell_type": "code",
      "source": [
        "componentes_imovel = kmeans_predictions.filter(kmeans_predictions.id == imovel)\\\n",
        "                                          .select('pca_features').collect()[0][0]\n",
        "componentes_imovel"
      ],
      "metadata": {
        "colab": {
          "base_uri": "https://localhost:8080/"
        },
        "id": "d_vIERMb1dUJ",
        "outputId": "3b92a943-0238-42a1-892c-6d23058c3e91"
      },
      "execution_count": 64,
      "outputs": [
        {
          "output_type": "execute_result",
          "data": {
            "text/plain": [
              "DenseVector([-6.1651, 1.3381, -1.7052, -0.5338, 0.089, -0.3134])"
            ]
          },
          "metadata": {},
          "execution_count": 64
        }
      ]
    },
    {
      "cell_type": "markdown",
      "source": [
        "UDF = User Defined Function"
      ],
      "metadata": {
        "id": "U2j8o92k7WpI"
      }
    },
    {
      "cell_type": "code",
      "source": [
        "def calcula_distance(value):\n",
        "  return euclidean(componentes_imovel, value)\n",
        "\n",
        "udf_calcula_distance = f.udf(calcula_distance, FloatType())"
      ],
      "metadata": {
        "id": "0k3OvUC_0rqb"
      },
      "execution_count": 65,
      "outputs": []
    },
    {
      "cell_type": "code",
      "source": [
        "imoveis_dist = imovel_cluster.withColumn('distancia', udf_calcula_distance('pca_features'))\n",
        "imoveis_dist.select('id', 'distancia').show(10, truncate = False)"
      ],
      "metadata": {
        "colab": {
          "base_uri": "https://localhost:8080/"
        },
        "id": "LLvW1yyN79tz",
        "outputId": "e026adbd-1f55-48d7-d026-67042d99f594"
      },
      "execution_count": 69,
      "outputs": [
        {
          "output_type": "stream",
          "name": "stdout",
          "text": [
            "+------------------------------------+---------+\n",
            "|id                                  |distancia|\n",
            "+------------------------------------+---------+\n",
            "|00002dd9-cc74-4809-b5a5-850adf0e7526|0.0      |\n",
            "|00348cd1-923a-4dbd-b113-b31c7b877bec|2.7919433|\n",
            "|00779ffc-4566-41f0-8096-fc9d4aab2df2|4.115592 |\n",
            "|007a7c27-bb0b-4b60-9d14-527010304296|3.4347608|\n",
            "|0088ef55-9e24-402c-b3bc-dd9fe31a4816|4.1354737|\n",
            "|00a24367-5bf0-4b79-a587-2326526fbac8|3.669618 |\n",
            "|00edc0a5-4d9d-4420-b382-3dae14eaa869|4.5104856|\n",
            "|01064d20-7e1f-4e94-90ef-ad53d0f5f61d|4.8616433|\n",
            "|011c65c8-d56d-4a91-98c6-64c0f4c04df9|3.9910316|\n",
            "|0123b5ed-e6b5-4dec-8d02-1fc6c1b4d3f5|2.617254 |\n",
            "+------------------------------------+---------+\n",
            "only showing top 10 rows\n",
            "\n"
          ]
        }
      ]
    },
    {
      "cell_type": "markdown",
      "source": [
        "# Função Recomendadora"
      ],
      "metadata": {
        "id": "NfzUPDFF8r0K"
      }
    },
    {
      "cell_type": "code",
      "source": [
        "def recomendador(imovel_id):\n",
        "  cluster = kmeans_predictions.filter(kmeans_predictions.id == imovel).select('cluster_pca').collect()[0][0]\n",
        "  print('Cluster do imóvel', cluster)\n",
        "  imovel_cluster = kmeans_predictions.filter(kmeans_predictions.cluster_pca == cluster)\n",
        "  imoveis_dist = imovel_cluster.withColumn('distancia', udf_calcula_distance('pca_features'))\n",
        "  recomendados = spark.createDataFrame(imoveis_dist.sort('distancia').take(10))\n",
        "  recomendados.drop('features','scaled_features','pca_features','distancia','cluster_pca').show()"
      ],
      "metadata": {
        "id": "DYqL3xpu9SbK"
      },
      "execution_count": 70,
      "outputs": []
    },
    {
      "cell_type": "code",
      "source": [
        "recomendador('00002dd9-cc74-4809-b5a5-850adf0e7526')"
      ],
      "metadata": {
        "colab": {
          "base_uri": "https://localhost:8080/"
        },
        "id": "Qt7AC2AJ-oxi",
        "outputId": "91884fb2-2e9a-429a-ff07-35b0ad1bffd0"
      },
      "execution_count": 71,
      "outputs": [
        {
          "output_type": "stream",
          "name": "stdout",
          "text": [
            "Cluster do imóvel 1\n",
            "+--------------------+-----+---------+---------+-------+------+----+------------+----------+-----+--------+------------+----------+----------+--------+--------+------------------+-------------+------------------+--------+-------+----------+------------+-----------------+---------------+\n",
            "|                  id|andar|area_util|banheiros|quartos|suites|vaga|      bairro|condominio| iptu|   valor|zona_central|zona_norte|zona_oeste|zona_sul|academia|animais_permitidos|churrasqueira|condominio_fechado|elevador|piscina|playground|portaria_24h|portao_eletronico|salao_de_festas|\n",
            "+--------------------+-----+---------+---------+-------+------+----+------------+----------+-----+--------+------------+----------+----------+--------+--------+------------------+-------------+------------------+--------+-------+----------+------------+-----------------+---------------+\n",
            "|00002dd9-cc74-480...|    2|       35|        1|      1|   0.0| 0.0|Santo Cristo|     100.0|100.0|245000.0|           1|         0|         0|       0|       1|                 1|            1|                 1|       1|      1|         1|           1|                1|              1|\n",
            "|5dac977a-6cfb-428...|    2|       32|        1|      1|   0.0| 0.0|      Centro|     100.0|100.0|276500.0|           1|         0|         0|       0|       1|                 1|            1|                 1|       1|      1|         1|           1|                1|              1|\n",
            "|a1c430e5-fe77-4b0...|    2|       31|        1|      1|   0.0| 0.0|      Centro|       1.0|  1.0|315926.0|           1|         0|         0|       0|       1|                 1|            1|                 1|       1|      1|         1|           1|                1|              1|\n",
            "|33aeb3e6-f85d-49b...|    2|       33|        1|      1|   0.0| 0.0|      Centro|       1.0|  1.0|331787.0|           1|         0|         0|       0|       1|                 1|            1|                 1|       1|      1|         1|           1|                1|              1|\n",
            "|a99baaa1-00ef-490...|    3|       29|        1|      1|   0.0| 0.0|      Centro|     300.0|100.0|269900.0|           1|         0|         0|       0|       1|                 1|            1|                 1|       1|      1|         1|           1|                1|              1|\n",
            "|9bff3d1a-b865-465...|    4|       31|        1|      1|   0.0| 0.0|      Centro|       1.0|  1.0|305750.0|           1|         0|         0|       0|       1|                 1|            1|                 1|       1|      1|         1|           1|                1|              1|\n",
            "|d4b24d12-383c-437...|    4|       30|        1|      1|   0.0| 0.0|      Centro|       1.0|  1.0|303765.0|           1|         0|         0|       0|       1|                 1|            1|                 1|       1|      1|         1|           1|                1|              1|\n",
            "|d187d98b-2291-486...|    4|       32|        1|      1|   0.0| 0.0|Santo Cristo|     350.0|120.0|277000.0|           1|         0|         0|       0|       1|                 1|            1|                 1|       1|      1|         1|           1|                1|              1|\n",
            "|b3d1d649-f026-48a...|    3|       40|        1|      1|   0.0| 0.0|      Centro|     200.0|100.0|269900.0|           1|         0|         0|       0|       1|                 1|            1|                 1|       1|      1|         1|           1|                1|              1|\n",
            "|1238503b-dbbc-466...|    4|       34|        1|      1|   0.0| 0.0|Santo Cristo|       0.0|  0.0|239999.0|           1|         0|         0|       0|       1|                 1|            1|                 1|       1|      1|         1|           1|                1|              1|\n",
            "+--------------------+-----+---------+---------+-------+------+----+------------+----------+-----+--------+------------+----------+----------+--------+--------+------------------+-------------+------------------+--------+-------+----------+------------+-----------------+---------------+\n",
            "\n"
          ]
        }
      ]
    },
    {
      "cell_type": "code",
      "source": [],
      "metadata": {
        "id": "IFVEsZC4-uIQ"
      },
      "execution_count": null,
      "outputs": []
    }
  ]
}