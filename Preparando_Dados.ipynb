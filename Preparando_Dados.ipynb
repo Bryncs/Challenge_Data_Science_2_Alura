{
  "nbformat": 4,
  "nbformat_minor": 0,
  "metadata": {
    "colab": {
      "provenance": [],
      "mount_file_id": "1Nt1AvyvGALEgBk_0o7jgm8t_8_dqFEjm",
      "authorship_tag": "ABX9TyOjOJJqo+6tgV2iK1r8T5m/",
      "include_colab_link": true
    },
    "kernelspec": {
      "name": "python3",
      "display_name": "Python 3"
    },
    "language_info": {
      "name": "python"
    }
  },
  "cells": [
    {
      "cell_type": "markdown",
      "metadata": {
        "id": "view-in-github",
        "colab_type": "text"
      },
      "source": [
        "<a href=\"https://colab.research.google.com/github/Bryncs/Challenge_Data_Science_2_Alura/blob/main/InsightPlaces.ipynb\" target=\"_parent\"><img src=\"https://colab.research.google.com/assets/colab-badge.svg\" alt=\"Open In Colab\"/></a>"
      ]
    },
    {
      "cell_type": "markdown",
      "source": [
        "# Preparando Ambiente"
      ],
      "metadata": {
        "id": "fy9fe18udzOG"
      }
    },
    {
      "cell_type": "markdown",
      "source": [
        "## Preparando o Spark"
      ],
      "metadata": {
        "id": "HHGvFshvfTzb"
      }
    },
    {
      "cell_type": "code",
      "execution_count": 1,
      "metadata": {
        "id": "9M51fqoYdDdI"
      },
      "outputs": [],
      "source": [
        "!apt-get update -qq\n",
        "!apt-get install openjdk-8-jdk-headless -qq > /dev/null\n",
        "!wget -q https://archive.apache.org/dist/spark/spark-3.1.2/spark-3.1.2-bin-hadoop2.7.tgz\n",
        "!tar xf spark-3.1.2-bin-hadoop2.7.tgz\n",
        "!pip install -q findspark"
      ]
    },
    {
      "cell_type": "code",
      "source": [
        "import os\n",
        "os.environ[\"JAVA_HOME\"] = \"/usr/lib/jvm/java-8-openjdk-amd64\"\n",
        "os.environ[\"SPARK_HOME\"] = \"/content/spark-3.1.2-bin-hadoop2.7\""
      ],
      "metadata": {
        "id": "Jy8iG-Erd9pR"
      },
      "execution_count": 2,
      "outputs": []
    },
    {
      "cell_type": "code",
      "source": [
        "import findspark\n",
        "findspark.init()"
      ],
      "metadata": {
        "id": "-U7BIsr3eNpj"
      },
      "execution_count": 3,
      "outputs": []
    },
    {
      "cell_type": "code",
      "source": [
        "from pyspark.sql import SparkSession\n",
        "\n",
        "spark = SparkSession.builder \\\n",
        "    .master('local[*]') \\\n",
        "    .appName(\"Projeto InsighPlaces\") \\\n",
        "    .config('spark.ui.port', '4050') \\\n",
        "    .getOrCreate()"
      ],
      "metadata": {
        "id": "XeTR2ZCSePFW"
      },
      "execution_count": 4,
      "outputs": []
    },
    {
      "cell_type": "code",
      "source": [
        "spark"
      ],
      "metadata": {
        "colab": {
          "base_uri": "https://localhost:8080/",
          "height": 219
        },
        "id": "74mCymjveeSm",
        "outputId": "1f6a8224-0d17-4eb6-b2e3-cee14b2d4607"
      },
      "execution_count": 5,
      "outputs": [
        {
          "output_type": "execute_result",
          "data": {
            "text/plain": [
              "<pyspark.sql.session.SparkSession at 0x7f118c3f5280>"
            ],
            "text/html": [
              "\n",
              "            <div>\n",
              "                <p><b>SparkSession - in-memory</b></p>\n",
              "                \n",
              "        <div>\n",
              "            <p><b>SparkContext</b></p>\n",
              "\n",
              "            <p><a href=\"http://57e66202d17a:4050\">Spark UI</a></p>\n",
              "\n",
              "            <dl>\n",
              "              <dt>Version</dt>\n",
              "                <dd><code>v3.1.2</code></dd>\n",
              "              <dt>Master</dt>\n",
              "                <dd><code>local[*]</code></dd>\n",
              "              <dt>AppName</dt>\n",
              "                <dd><code>Projeto InsighPlaces</code></dd>\n",
              "            </dl>\n",
              "        </div>\n",
              "        \n",
              "            </div>\n",
              "        "
            ]
          },
          "metadata": {},
          "execution_count": 5
        }
      ]
    },
    {
      "cell_type": "markdown",
      "source": [
        "## Preparando o Drive"
      ],
      "metadata": {
        "id": "BLV45LgEfZhC"
      }
    },
    {
      "cell_type": "code",
      "source": [
        "from google.colab import drive\n",
        "drive.mount('/content/drive')"
      ],
      "metadata": {
        "id": "G0fOnPvJfdiG",
        "colab": {
          "base_uri": "https://localhost:8080/"
        },
        "outputId": "3c463afb-bb8b-4dc0-cad4-c248042796fe"
      },
      "execution_count": 6,
      "outputs": [
        {
          "output_type": "stream",
          "name": "stdout",
          "text": [
            "Drive already mounted at /content/drive; to attempt to forcibly remount, call drive.mount(\"/content/drive\", force_remount=True).\n"
          ]
        }
      ]
    },
    {
      "cell_type": "markdown",
      "source": [
        "# Iniciando a Análise"
      ],
      "metadata": {
        "id": "sr-8nl3GrS6n"
      }
    },
    {
      "cell_type": "markdown",
      "source": [
        "## Importando os Dados"
      ],
      "metadata": {
        "id": "YCETTdfTgGhW"
      }
    },
    {
      "cell_type": "code",
      "source": [
        "import zipfile"
      ],
      "metadata": {
        "id": "5P5AmZLJgMWr"
      },
      "execution_count": 7,
      "outputs": []
    },
    {
      "cell_type": "code",
      "source": [
        "zipfile.ZipFile('/content/drive/MyDrive/insightPlaces/semana-1.zip', 'r').extractall('/content/drive/MyDrive/insightPlaces/')"
      ],
      "metadata": {
        "id": "Nh2SjlgZgTkI"
      },
      "execution_count": 8,
      "outputs": []
    },
    {
      "cell_type": "code",
      "source": [
        "path = '/content/drive/MyDrive/insightPlaces/dataset_bruto.json'\n",
        "dados = spark.read.json(path)"
      ],
      "metadata": {
        "id": "Tefv2_XRhlGj"
      },
      "execution_count": 9,
      "outputs": []
    },
    {
      "cell_type": "markdown",
      "source": [
        "## Entendendo o DataSet"
      ],
      "metadata": {
        "id": "2cn7T0UAq7aR"
      }
    },
    {
      "cell_type": "markdown",
      "source": [
        "[Base de dados - InsightPlaces](https://caelum-online-public.s3.amazonaws.com/challenge-spark/semana-1.zip)\n",
        "\n",
        "### Dicionário de Dados\n",
        "\n",
        "| Colunas         | Descrição                                                      |\n",
        "|-----------------|----------------------------------------------------------------|\n",
        "| id              | Código de identificação do anúncio no sistema da InsightPlaces |\n",
        "| tipo_unidade    | Tipo de imóvel (apartamento, casa e outros)                    |\n",
        "| tipo_uso        | Tipo de uso do imóvel (residencial ou comercial)               |\n",
        "| area_total      | Área total do imóvel (construção e terreno)                    |\n",
        "| area_util       | Área construída do imóvel                                      |\n",
        "| quartos         | Quantidade de quartos do imóvel                                |\n",
        "| suites          | Quantidade de suítes do imóvel                                 |\n",
        "| banheiros       | Quantidade de banheiros do imóvel                              |\n",
        "| vaga            | Quantidade de vagas de garagem do imóvel                       |\n",
        "| caracteristicas | Listagem de características do imóvel                          |\n",
        "| andar           | Número do andar do imóvel                                      |\n",
        "| endereco        | Informações sobre o endereço do imóvel                         |\n",
        "| valores         | Informações sobre valores de venda e locação dos imóveis       |"
      ],
      "metadata": {
        "id": "umJP-XjG0-vM"
      }
    },
    {
      "cell_type": "markdown",
      "source": [
        "## Estrutura da Base de Dados"
      ],
      "metadata": {
        "id": "psA4OR9bstWg"
      }
    },
    {
      "cell_type": "code",
      "source": [
        "dados.printSchema()"
      ],
      "metadata": {
        "colab": {
          "base_uri": "https://localhost:8080/"
        },
        "id": "9__TcPhejis_",
        "outputId": "9033d63d-2e65-4d33-fed4-d39efa4fe7f4"
      },
      "execution_count": 10,
      "outputs": [
        {
          "output_type": "stream",
          "name": "stdout",
          "text": [
            "root\n",
            " |-- anuncio: struct (nullable = true)\n",
            " |    |-- andar: long (nullable = true)\n",
            " |    |-- area_total: array (nullable = true)\n",
            " |    |    |-- element: string (containsNull = true)\n",
            " |    |-- area_util: array (nullable = true)\n",
            " |    |    |-- element: string (containsNull = true)\n",
            " |    |-- banheiros: array (nullable = true)\n",
            " |    |    |-- element: long (containsNull = true)\n",
            " |    |-- caracteristicas: array (nullable = true)\n",
            " |    |    |-- element: string (containsNull = true)\n",
            " |    |-- endereco: struct (nullable = true)\n",
            " |    |    |-- bairro: string (nullable = true)\n",
            " |    |    |-- cep: string (nullable = true)\n",
            " |    |    |-- cidade: string (nullable = true)\n",
            " |    |    |-- estado: string (nullable = true)\n",
            " |    |    |-- latitude: double (nullable = true)\n",
            " |    |    |-- longitude: double (nullable = true)\n",
            " |    |    |-- pais: string (nullable = true)\n",
            " |    |    |-- rua: string (nullable = true)\n",
            " |    |    |-- zona: string (nullable = true)\n",
            " |    |-- id: string (nullable = true)\n",
            " |    |-- quartos: array (nullable = true)\n",
            " |    |    |-- element: long (containsNull = true)\n",
            " |    |-- suites: array (nullable = true)\n",
            " |    |    |-- element: long (containsNull = true)\n",
            " |    |-- tipo_anuncio: string (nullable = true)\n",
            " |    |-- tipo_unidade: string (nullable = true)\n",
            " |    |-- tipo_uso: string (nullable = true)\n",
            " |    |-- vaga: array (nullable = true)\n",
            " |    |    |-- element: long (containsNull = true)\n",
            " |    |-- valores: array (nullable = true)\n",
            " |    |    |-- element: struct (containsNull = true)\n",
            " |    |    |    |-- condominio: string (nullable = true)\n",
            " |    |    |    |-- iptu: string (nullable = true)\n",
            " |    |    |    |-- tipo: string (nullable = true)\n",
            " |    |    |    |-- valor: string (nullable = true)\n",
            " |-- imagens: array (nullable = true)\n",
            " |    |-- element: struct (containsNull = true)\n",
            " |    |    |-- id: string (nullable = true)\n",
            " |    |    |-- url: string (nullable = true)\n",
            " |-- usuario: struct (nullable = true)\n",
            " |    |-- id: string (nullable = true)\n",
            " |    |-- nome: string (nullable = true)\n",
            "\n"
          ]
        }
      ]
    },
    {
      "cell_type": "code",
      "source": [
        "dados.show(5, truncate = False)"
      ],
      "metadata": {
        "colab": {
          "base_uri": "https://localhost:8080/"
        },
        "id": "qpDDC08btd5r",
        "outputId": "0897f36d-adca-4988-889e-9774bc1e0d46"
      },
      "execution_count": 11,
      "outputs": [
        {
          "output_type": "stream",
          "name": "stdout",
          "text": [
            "+----------------------------------------------------------------------------------------------------------------------------------------------------------------------------------------------------------------------------------------------------------------------------------------------------+--------------------------------------------------------------------------------------------------------------------------------------------------------------------------------------------------------------------------------------------------------------------------------------------------------------------------------------------------------------------------------------------------------------------------------------------------------------------------------------------------------------------------------------------------------------------------------------------------------+------------------------------------------------+\n",
            "|anuncio                                                                                                                                                                                                                                                                                             |imagens                                                                                                                                                                                                                                                                                                                                                                                                                                                                                                                                                                                                 |usuario                                         |\n",
            "+----------------------------------------------------------------------------------------------------------------------------------------------------------------------------------------------------------------------------------------------------------------------------------------------------+--------------------------------------------------------------------------------------------------------------------------------------------------------------------------------------------------------------------------------------------------------------------------------------------------------------------------------------------------------------------------------------------------------------------------------------------------------------------------------------------------------------------------------------------------------------------------------------------------------+------------------------------------------------+\n",
            "|{0, [], [16], [0], [], {Centro, 20061003, Rio de Janeiro, Rio de Janeiro, -22.906082, -43.18671, BR, Rua Buenos Aires, Zona Central}, 47d553e0-79f2-4a46-9390-5a3c962740c2, [0], [0], Usado, Outros, Comercial, [1], [{260, 107, Venda, 10000}]}                                                    |[{39d6282a-71f3-47bc-94aa-909351ecd881, https://api.images.insightplaces.com.br/{type}/{width}/{height}/1b08098d-f2dc-439c-b604-a4e50d12774b.jpg}]                                                                                                                                                                                                                                                                                                                                                                                                                                                      |{9d44563d-3405-4e84-9381-35b7cf40a9a4, Frank}   |\n",
            "|{0, [], [14], [0], [], {Centro, 20051040, Rio de Janeiro, Rio de Janeiro, -22.902536, -43.18434, BR, Avenida Passos, Zona Central}, b6ffbae1-17f6-4870-9950-e998ac1c8d6a, [0], [], Usado, Outros, Comercial, [0], [{260, 107, Venda, 10000}]}                                                       |[{23d2b3ab-45b0-47f2-a27f-ffbe066c2c38, https://api.images.insightplaces.com.br/{type}/{width}/{height}/7a65b929-fe46-4a60-ae31-81faf2edb3c6.jpg}, {1b5f71f8-1aec-4b82-8d4c-67540d204a59, https://api.images.insightplaces.com.br/{type}/{width}/{height}/82e92d72-002a-4d3b-8063-16d4d65474b3.jpg}, {9bb11688-7dc9-48b9-bc1d-6a7a2dbcd553, https://api.images.insightplaces.com.br/{type}/{width}/{height}/23be0c2c-4c8f-4718-8126-6f160bb3efcc.jpg}, {1aaf6095-70bc-4f1f-87a4-fe3534a1bd2a, https://api.images.insightplaces.com.br/{type}/{width}/{height}/0ae382f4-b1ac-4ad9-b6cf-d9b4d7d01908.jpg}]|{36245be7-70fe-40cd-84d4-70a57dc8f976, Caroline}|\n",
            "|{0, [1026], [1026], [0], [], {Maria da Graça, 20785360, Rio de Janeiro, Rio de Janeiro, -22.885516, -43.269083, BR, Rua Luís de Brito, Zona Norte}, 1fb030a5-9e3e-4a1d-93cd-cd2d8a215e11, [0], [], Usado, Outros, Comercial, [0], [{null, 1613, Venda, 10000}]}                                     |[{1da65baa-368b-490f-bef7-1834b9a428c1, https://api.images.insightplaces.com.br/{type}/{width}/{height}/b06fe423-6f18-43bb-b0e3-a569158885d2.jpg}]                                                                                                                                                                                                                                                                                                                                                                                                                                                      |{9dc415d8-1397-4d8d-8425-b8310fad309d, Oliver}  |\n",
            "|{0, [120], [120], [0], [Portão eletrônico, Condomínio fechado], {Campo Grande, 23095071, Rio de Janeiro, Rio de Janeiro, -22.885028, -43.561668, BR, Estrada Guandu do Sape, Zona Oeste}, ac6cb348-69d6-45af-9589-dc34099370d8, [0], [], Usado, Outros, Residencial, [], [{80, null, Venda, 10000}]}|[{79b542c6-49b4-4f06-80b5-ef4fcdf98f76, https://api.images.insightplaces.com.br/{type}/{width}/{height}/b9688b1a-e6e8-4027-9368-d8298bc5ac40.jpg}]                                                                                                                                                                                                                                                                                                                                                                                                                                                      |{9911a2df-f299-4a73-a384-281417abaf69, Matthew} |\n",
            "|{0, [3], [3], [0], [], {São Cristóvão, 20931670, Rio de Janeiro, Rio de Janeiro, -22.885912, -43.219296, BR, Rua Monsenhor Manuel Gomes, Zona Norte}, e032b908-ef42-4d4a-8125-eba4792bacbe, [0], [], Usado, Outros, Residencial, [], [{0, 0, Venda, 5000}]}                                         |[{e2bc497b-6510-4731-8942-97b3d3cdab5e, https://api.images.insightplaces.com.br/{type}/{width}/{height}/bd7e2c54-8d10-4148-806d-0d656ff80fc2.jpg}]                                                                                                                                                                                                                                                                                                                                                                                                                                                      |{240a7aab-12e5-4069-9a2c-9dca4c4f9c68, Jude}    |\n",
            "+----------------------------------------------------------------------------------------------------------------------------------------------------------------------------------------------------------------------------------------------------------------------------------------------------+--------------------------------------------------------------------------------------------------------------------------------------------------------------------------------------------------------------------------------------------------------------------------------------------------------------------------------------------------------------------------------------------------------------------------------------------------------------------------------------------------------------------------------------------------------------------------------------------------------+------------------------------------------------+\n",
            "only showing top 5 rows\n",
            "\n"
          ]
        }
      ]
    },
    {
      "cell_type": "markdown",
      "source": [
        "## Quantidade de Linhas e Colunas"
      ],
      "metadata": {
        "id": "nLQQM5OAswrL"
      }
    },
    {
      "cell_type": "code",
      "source": [
        "linhas = dados.count()\n",
        "colunas = len(dados.columns)"
      ],
      "metadata": {
        "id": "GwF88_b0k6b5"
      },
      "execution_count": 12,
      "outputs": []
    },
    {
      "cell_type": "code",
      "source": [
        "print(f'Este DataFrame contém {linhas} linhas e {colunas} colunas')"
      ],
      "metadata": {
        "colab": {
          "base_uri": "https://localhost:8080/"
        },
        "id": "mHE8n5WHoLUr",
        "outputId": "1c3c8d99-7132-487b-ed31-ca0e7244d414"
      },
      "execution_count": 13,
      "outputs": [
        {
          "output_type": "stream",
          "name": "stdout",
          "text": [
            "Este DataFrame contém 89083 linhas e 3 colunas\n"
          ]
        }
      ]
    },
    {
      "cell_type": "markdown",
      "source": [
        "## Análise da Coluna Anúncios"
      ],
      "metadata": {
        "id": "fFNaZYt8v-cA"
      }
    },
    {
      "cell_type": "markdown",
      "source": [
        "Seleção da coluna"
      ],
      "metadata": {
        "id": "JxU9DC70pjUd"
      }
    },
    {
      "cell_type": "code",
      "source": [
        "dados_anuncio = dados.select('anuncio.*')\n",
        "dados_anuncio.printSchema()"
      ],
      "metadata": {
        "colab": {
          "base_uri": "https://localhost:8080/"
        },
        "id": "PjpC5k88v76O",
        "outputId": "6bbdd050-da98-4e86-a0ba-8e76e89cc865"
      },
      "execution_count": 14,
      "outputs": [
        {
          "output_type": "stream",
          "name": "stdout",
          "text": [
            "root\n",
            " |-- andar: long (nullable = true)\n",
            " |-- area_total: array (nullable = true)\n",
            " |    |-- element: string (containsNull = true)\n",
            " |-- area_util: array (nullable = true)\n",
            " |    |-- element: string (containsNull = true)\n",
            " |-- banheiros: array (nullable = true)\n",
            " |    |-- element: long (containsNull = true)\n",
            " |-- caracteristicas: array (nullable = true)\n",
            " |    |-- element: string (containsNull = true)\n",
            " |-- endereco: struct (nullable = true)\n",
            " |    |-- bairro: string (nullable = true)\n",
            " |    |-- cep: string (nullable = true)\n",
            " |    |-- cidade: string (nullable = true)\n",
            " |    |-- estado: string (nullable = true)\n",
            " |    |-- latitude: double (nullable = true)\n",
            " |    |-- longitude: double (nullable = true)\n",
            " |    |-- pais: string (nullable = true)\n",
            " |    |-- rua: string (nullable = true)\n",
            " |    |-- zona: string (nullable = true)\n",
            " |-- id: string (nullable = true)\n",
            " |-- quartos: array (nullable = true)\n",
            " |    |-- element: long (containsNull = true)\n",
            " |-- suites: array (nullable = true)\n",
            " |    |-- element: long (containsNull = true)\n",
            " |-- tipo_anuncio: string (nullable = true)\n",
            " |-- tipo_unidade: string (nullable = true)\n",
            " |-- tipo_uso: string (nullable = true)\n",
            " |-- vaga: array (nullable = true)\n",
            " |    |-- element: long (containsNull = true)\n",
            " |-- valores: array (nullable = true)\n",
            " |    |-- element: struct (containsNull = true)\n",
            " |    |    |-- condominio: string (nullable = true)\n",
            " |    |    |-- iptu: string (nullable = true)\n",
            " |    |    |-- tipo: string (nullable = true)\n",
            " |    |    |-- valor: string (nullable = true)\n",
            "\n"
          ]
        }
      ]
    },
    {
      "cell_type": "code",
      "source": [
        "dados_anuncio.show(10, truncate = False)"
      ],
      "metadata": {
        "colab": {
          "base_uri": "https://localhost:8080/"
        },
        "id": "V7tGjZ3dw7EE",
        "outputId": "1aa132a7-f61d-44d1-d6ed-a5704fe75b31"
      },
      "execution_count": 15,
      "outputs": [
        {
          "output_type": "stream",
          "name": "stdout",
          "text": [
            "+-----+----------+---------+---------+-------------------------------------------------------------------------------------------------------------------------------+-----------------------------------------------------------------------------------------------------------------------------+------------------------------------+-------+------+------------+------------+-----------+----+----------------------------+\n",
            "|andar|area_total|area_util|banheiros|caracteristicas                                                                                                                |endereco                                                                                                                     |id                                  |quartos|suites|tipo_anuncio|tipo_unidade|tipo_uso   |vaga|valores                     |\n",
            "+-----+----------+---------+---------+-------------------------------------------------------------------------------------------------------------------------------+-----------------------------------------------------------------------------------------------------------------------------+------------------------------------+-------+------+------------+------------+-----------+----+----------------------------+\n",
            "|0    |[]        |[16]     |[0]      |[]                                                                                                                             |{Centro, 20061003, Rio de Janeiro, Rio de Janeiro, -22.906082, -43.18671, BR, Rua Buenos Aires, Zona Central}                |47d553e0-79f2-4a46-9390-5a3c962740c2|[0]    |[0]   |Usado       |Outros      |Comercial  |[1] |[{260, 107, Venda, 10000}]  |\n",
            "|0    |[]        |[14]     |[0]      |[]                                                                                                                             |{Centro, 20051040, Rio de Janeiro, Rio de Janeiro, -22.902536, -43.18434, BR, Avenida Passos, Zona Central}                  |b6ffbae1-17f6-4870-9950-e998ac1c8d6a|[0]    |[]    |Usado       |Outros      |Comercial  |[0] |[{260, 107, Venda, 10000}]  |\n",
            "|0    |[1026]    |[1026]   |[0]      |[]                                                                                                                             |{Maria da Graça, 20785360, Rio de Janeiro, Rio de Janeiro, -22.885516, -43.269083, BR, Rua Luís de Brito, Zona Norte}        |1fb030a5-9e3e-4a1d-93cd-cd2d8a215e11|[0]    |[]    |Usado       |Outros      |Comercial  |[0] |[{null, 1613, Venda, 10000}]|\n",
            "|0    |[120]     |[120]    |[0]      |[Portão eletrônico, Condomínio fechado]                                                                                        |{Campo Grande, 23095071, Rio de Janeiro, Rio de Janeiro, -22.885028, -43.561668, BR, Estrada Guandu do Sape, Zona Oeste}     |ac6cb348-69d6-45af-9589-dc34099370d8|[0]    |[]    |Usado       |Outros      |Residencial|[]  |[{80, null, Venda, 10000}]  |\n",
            "|0    |[3]       |[3]      |[0]      |[]                                                                                                                             |{São Cristóvão, 20931670, Rio de Janeiro, Rio de Janeiro, -22.885912, -43.219296, BR, Rua Monsenhor Manuel Gomes, Zona Norte}|e032b908-ef42-4d4a-8125-eba4792bacbe|[0]    |[]    |Usado       |Outros      |Residencial|[]  |[{0, 0, Venda, 5000}]       |\n",
            "|0    |[20]      |[15]     |[1]      |[]                                                                                                                             |{Centro, 20231047, Rio de Janeiro, Rio de Janeiro, -22.913152, -43.184043, BR, Rua dos Inválidos, Zona Central}              |df9cf0b8-b972-4334-88c9-87ef528806df|[0]    |[]    |Usado       |Outros      |Comercial  |[1] |[{223, 87, Venda, 18500}]   |\n",
            "|3    |[43]      |[43]     |[1]      |[Academia, Churrasqueira, Playground, Salão de festas, Condomínio fechado, Portão eletrônico, Portaria 24h, Animais permitidos]|{Paciência, 23585430, Rio de Janeiro, Rio de Janeiro, -22.919851, -43.634034, BR, Estrada de Santa Eugênia, Zona Oeste}      |d2e3a3aa-09b5-45a0-9dcd-918847cd3ca3|[2]    |[]    |Usado       |Apartamento |Residencial|[1] |[{245, null, Venda, 15000}] |\n",
            "|2    |[42]      |[42]     |[1]      |[Churrasqueira, Playground, Salão de festas, Condomínio fechado, Portão eletrônico, Portaria 24h, Animais permitidos]          |{Paciência, 23585430, Rio de Janeiro, Rio de Janeiro, -22.928108, -43.635375, BR, Estrada de Santa Eugênia, Zona Oeste}      |085bab2c-87ad-452a-bd0f-8b1451509f84|[2]    |[]    |Usado       |Apartamento |Residencial|[1] |[{0, 0, Venda, 15000}]      |\n",
            "|0    |[]        |[12]     |[0]      |[Portaria 24h, Elevador]                                                                                                       |{Centro, 20231047, Rio de Janeiro, Rio de Janeiro, -22.913152, -43.184043, BR, Rua dos Inválidos, Zona Central}              |096ad966-dc36-47bf-8795-5604f078713a|[0]    |[]    |Usado       |Outros      |Comercial  |[1] |[{250, null, Venda, 20000}] |\n",
            "|1    |[41]      |[41]     |[1]      |[Portaria 24h, Condomínio fechado, Playground, Salão de festas, Churrasqueira, Portão eletrônico]                              |{Guaratiba, 23036060, Rio de Janeiro, Rio de Janeiro, -22.948756, -43.582824, BR, Estrada Cabuçu de Baixo, Zona Oeste}       |18d22cbe-1b86-4764-8def-70c615f15a61|[2]    |[]    |Usado       |Apartamento |Residencial|[1] |[{0, 0, Venda, 20000}]      |\n",
            "+-----+----------+---------+---------+-------------------------------------------------------------------------------------------------------------------------------+-----------------------------------------------------------------------------------------------------------------------------+------------------------------------+-------+------+------------+------------+-----------+----+----------------------------+\n",
            "only showing top 10 rows\n",
            "\n"
          ]
        }
      ]
    },
    {
      "cell_type": "markdown",
      "source": [
        "## Filtrando a Base de dados"
      ],
      "metadata": {
        "id": "-XT0M0V9MTK7"
      }
    },
    {
      "cell_type": "markdown",
      "source": [
        "Tabelas de Frequência das colunas tipo_anuncio, tipo_unidade e tipo_uso"
      ],
      "metadata": {
        "id": "HgsXtgOvObVr"
      }
    },
    {
      "cell_type": "code",
      "source": [
        "colunas_frequencia = ['tipo_anuncio', 'tipo_unidade', 'tipo_uso']"
      ],
      "metadata": {
        "id": "7PJ9FBdCMscc"
      },
      "execution_count": 16,
      "outputs": []
    },
    {
      "cell_type": "code",
      "source": [
        "for col in colunas_frequencia:\n",
        "  dados_anuncio\\\n",
        "    .groupBy(col)\\\n",
        "    .count()\\\n",
        "    .orderBy('count', ascending = False)\\\n",
        "    .show()"
      ],
      "metadata": {
        "colab": {
          "base_uri": "https://localhost:8080/"
        },
        "id": "N-kxvtk3NHK7",
        "outputId": "8d811cd8-18ce-420b-a8c2-6a7d5ac1cf33"
      },
      "execution_count": 17,
      "outputs": [
        {
          "output_type": "stream",
          "name": "stdout",
          "text": [
            "+------------+-----+\n",
            "|tipo_anuncio|count|\n",
            "+------------+-----+\n",
            "|       Usado|88827|\n",
            "|  Lançamento|  256|\n",
            "+------------+-----+\n",
            "\n",
            "+------------+-----+\n",
            "|tipo_unidade|count|\n",
            "+------------+-----+\n",
            "| Apartamento|66801|\n",
            "|      Outros|11963|\n",
            "|        Casa|10319|\n",
            "+------------+-----+\n",
            "\n",
            "+-----------+-----+\n",
            "|   tipo_uso|count|\n",
            "+-----------+-----+\n",
            "|Residencial|84541|\n",
            "|  Comercial| 4542|\n",
            "+-----------+-----+\n",
            "\n"
          ]
        }
      ]
    },
    {
      "cell_type": "markdown",
      "source": [
        "Filtros dos dados para conter apenas as informações \"Usado\", \"Apartamento\" e \"Residencial\" das colunas selecionadas"
      ],
      "metadata": {
        "id": "1MsvlrYhMAaw"
      }
    },
    {
      "cell_type": "code",
      "source": [
        "dados_anuncio = dados_anuncio.filter(\"tipo_anuncio == 'Usado'\")"
      ],
      "metadata": {
        "id": "2IF-sibsOng9"
      },
      "execution_count": 18,
      "outputs": []
    },
    {
      "cell_type": "code",
      "source": [
        "dados_anuncio = dados_anuncio.filter(\"tipo_unidade == 'Apartamento'\")"
      ],
      "metadata": {
        "id": "SOqkOyDaM_Gi"
      },
      "execution_count": 19,
      "outputs": []
    },
    {
      "cell_type": "code",
      "source": [
        "dados_anuncio = dados_anuncio.filter(\"tipo_uso == 'Residencial'\")"
      ],
      "metadata": {
        "id": "8NoXr-ytL7Zr"
      },
      "execution_count": 20,
      "outputs": []
    },
    {
      "cell_type": "code",
      "source": [
        "for col in colunas_frequencia:\n",
        "  dados_anuncio\\\n",
        "    .groupBy(col)\\\n",
        "    .count()\\\n",
        "    .orderBy('count', ascending = False)\\\n",
        "    .show()"
      ],
      "metadata": {
        "colab": {
          "base_uri": "https://localhost:8080/"
        },
        "id": "xXA389jbO0Iy",
        "outputId": "36e9656a-fc90-405a-f896-33f23a83b650"
      },
      "execution_count": 21,
      "outputs": [
        {
          "output_type": "stream",
          "name": "stdout",
          "text": [
            "+------------+-----+\n",
            "|tipo_anuncio|count|\n",
            "+------------+-----+\n",
            "|       Usado|66562|\n",
            "+------------+-----+\n",
            "\n",
            "+------------+-----+\n",
            "|tipo_unidade|count|\n",
            "+------------+-----+\n",
            "| Apartamento|66562|\n",
            "+------------+-----+\n",
            "\n",
            "+-----------+-----+\n",
            "|   tipo_uso|count|\n",
            "+-----------+-----+\n",
            "|Residencial|66562|\n",
            "+-----------+-----+\n",
            "\n"
          ]
        }
      ]
    },
    {
      "cell_type": "markdown",
      "source": [
        "## Listas para Inteiros"
      ],
      "metadata": {
        "id": "W6d0Uko7uZYi"
      }
    },
    {
      "cell_type": "code",
      "source": [
        "from pyspark.sql import functions as f"
      ],
      "metadata": {
        "id": "E3vx1z4D1sKp"
      },
      "execution_count": 22,
      "outputs": []
    },
    {
      "cell_type": "markdown",
      "source": [
        "Colunas formadas por listas"
      ],
      "metadata": {
        "id": "5mzHdY2AqQ6o"
      }
    },
    {
      "cell_type": "code",
      "source": [
        "listas = ['quartos', 'suites', 'banheiros', 'vaga', 'area_total', 'area_util']"
      ],
      "metadata": {
        "id": "WSi6LSSfNK2Z"
      },
      "execution_count": 23,
      "outputs": []
    },
    {
      "cell_type": "code",
      "source": [
        "for col in listas:\n",
        "  dados_anuncio\\\n",
        "      .select(f.size(f.col(col)).alias(col))\\\n",
        "      .groupBy(col)\\\n",
        "      .count()\\\n",
        "      .show()"
      ],
      "metadata": {
        "colab": {
          "base_uri": "https://localhost:8080/"
        },
        "id": "nbyHUJ5pumBR",
        "outputId": "74656e7a-5305-4d04-d706-6e2eec09bd24"
      },
      "execution_count": 24,
      "outputs": [
        {
          "output_type": "stream",
          "name": "stdout",
          "text": [
            "+-------+-----+\n",
            "|quartos|count|\n",
            "+-------+-----+\n",
            "|      1|66562|\n",
            "+-------+-----+\n",
            "\n",
            "+------+-----+\n",
            "|suites|count|\n",
            "+------+-----+\n",
            "|     1|61008|\n",
            "|     0| 5554|\n",
            "+------+-----+\n",
            "\n",
            "+---------+-----+\n",
            "|banheiros|count|\n",
            "+---------+-----+\n",
            "|        1|66562|\n",
            "+---------+-----+\n",
            "\n",
            "+----+-----+\n",
            "|vaga|count|\n",
            "+----+-----+\n",
            "|   1|63545|\n",
            "|   0| 3017|\n",
            "+----+-----+\n",
            "\n",
            "+----------+-----+\n",
            "|area_total|count|\n",
            "+----------+-----+\n",
            "|         1|57368|\n",
            "|         0| 9194|\n",
            "+----------+-----+\n",
            "\n",
            "+---------+-----+\n",
            "|area_util|count|\n",
            "+---------+-----+\n",
            "|        1|66562|\n",
            "+---------+-----+\n",
            "\n"
          ]
        }
      ]
    },
    {
      "cell_type": "markdown",
      "source": [
        "Retirando os dados das listas"
      ],
      "metadata": {
        "id": "SjZhb3v5qXMO"
      }
    },
    {
      "cell_type": "code",
      "source": [
        "dados_anuncio = dados_anuncio\\\n",
        "    .select([f.col(c)[0].alias(c) if c in listas else c for c in dados_anuncio.columns])"
      ],
      "metadata": {
        "id": "EzglaDIXu3aw"
      },
      "execution_count": 25,
      "outputs": []
    },
    {
      "cell_type": "code",
      "source": [
        "dados_anuncio.printSchema()"
      ],
      "metadata": {
        "colab": {
          "base_uri": "https://localhost:8080/"
        },
        "id": "vn_4d90dwlo6",
        "outputId": "d1e8a765-0f8d-4647-db74-81b320bfadb7"
      },
      "execution_count": 26,
      "outputs": [
        {
          "output_type": "stream",
          "name": "stdout",
          "text": [
            "root\n",
            " |-- andar: long (nullable = true)\n",
            " |-- area_total: string (nullable = true)\n",
            " |-- area_util: string (nullable = true)\n",
            " |-- banheiros: long (nullable = true)\n",
            " |-- caracteristicas: array (nullable = true)\n",
            " |    |-- element: string (containsNull = true)\n",
            " |-- endereco: struct (nullable = true)\n",
            " |    |-- bairro: string (nullable = true)\n",
            " |    |-- cep: string (nullable = true)\n",
            " |    |-- cidade: string (nullable = true)\n",
            " |    |-- estado: string (nullable = true)\n",
            " |    |-- latitude: double (nullable = true)\n",
            " |    |-- longitude: double (nullable = true)\n",
            " |    |-- pais: string (nullable = true)\n",
            " |    |-- rua: string (nullable = true)\n",
            " |    |-- zona: string (nullable = true)\n",
            " |-- id: string (nullable = true)\n",
            " |-- quartos: long (nullable = true)\n",
            " |-- suites: long (nullable = true)\n",
            " |-- tipo_anuncio: string (nullable = true)\n",
            " |-- tipo_unidade: string (nullable = true)\n",
            " |-- tipo_uso: string (nullable = true)\n",
            " |-- vaga: long (nullable = true)\n",
            " |-- valores: array (nullable = true)\n",
            " |    |-- element: struct (containsNull = true)\n",
            " |    |    |-- condominio: string (nullable = true)\n",
            " |    |    |-- iptu: string (nullable = true)\n",
            " |    |    |-- tipo: string (nullable = true)\n",
            " |    |    |-- valor: string (nullable = true)\n",
            "\n"
          ]
        }
      ]
    },
    {
      "cell_type": "code",
      "source": [
        "dados_anuncio.show(5)"
      ],
      "metadata": {
        "colab": {
          "base_uri": "https://localhost:8080/"
        },
        "id": "30gHGWliwxLD",
        "outputId": "e6ff2c10-feee-4def-c6ff-b4c3d286cb8d"
      },
      "execution_count": 27,
      "outputs": [
        {
          "output_type": "stream",
          "name": "stdout",
          "text": [
            "+-----+----------+---------+---------+--------------------+--------------------+--------------------+-------+------+------------+------------+-----------+----+--------------------+\n",
            "|andar|area_total|area_util|banheiros|     caracteristicas|            endereco|                  id|quartos|suites|tipo_anuncio|tipo_unidade|   tipo_uso|vaga|             valores|\n",
            "+-----+----------+---------+---------+--------------------+--------------------+--------------------+-------+------+------------+------------+-----------+----+--------------------+\n",
            "|    3|        43|       43|        1|[Academia, Churra...|{Paciência, 23585...|d2e3a3aa-09b5-45a...|      2|  null|       Usado| Apartamento|Residencial|   1|[{245, null, Vend...|\n",
            "|    2|        42|       42|        1|[Churrasqueira, P...|{Paciência, 23585...|085bab2c-87ad-452...|      2|  null|       Usado| Apartamento|Residencial|   1|[{0, 0, Venda, 15...|\n",
            "|    1|        41|       41|        1|[Portaria 24h, Co...|{Guaratiba, 23036...|18d22cbe-1b86-476...|      2|  null|       Usado| Apartamento|Residencial|   1|[{0, 0, Venda, 20...|\n",
            "|    3|        43|       43|        1|[Churrasqueira, P...|{Cosmos, 23066271...|bed8a354-9317-442...|      2|  null|       Usado| Apartamento|Residencial|   0|[{285, null, Vend...|\n",
            "|    2|        43|       43|        1|[Academia, Churra...|{Guaratiba, 23036...|12a13315-d67f-48f...|      2|  null|       Usado| Apartamento|Residencial|   1|[{245, null, Vend...|\n",
            "+-----+----------+---------+---------+--------------------+--------------------+--------------------+-------+------+------------+------------+-----------+----+--------------------+\n",
            "only showing top 5 rows\n",
            "\n"
          ]
        }
      ]
    },
    {
      "cell_type": "markdown",
      "source": [
        "## Retirando as colunas de dentro da coluna endereco\n",
        "\n"
      ],
      "metadata": {
        "id": "Tv6n1C_N0yej"
      }
    },
    {
      "cell_type": "code",
      "source": [
        "dados_anuncio = dados_anuncio.withColumn('bairro', dados_anuncio['endereco']['bairro'])\n",
        "dados_anuncio.show(1)"
      ],
      "metadata": {
        "colab": {
          "base_uri": "https://localhost:8080/"
        },
        "id": "CZdRjyDw7SdD",
        "outputId": "ece69de9-0c00-4e14-d2cd-1ca0e171c2ca"
      },
      "execution_count": 28,
      "outputs": [
        {
          "output_type": "stream",
          "name": "stdout",
          "text": [
            "+-----+----------+---------+---------+--------------------+--------------------+--------------------+-------+------+------------+------------+-----------+----+--------------------+---------+\n",
            "|andar|area_total|area_util|banheiros|     caracteristicas|            endereco|                  id|quartos|suites|tipo_anuncio|tipo_unidade|   tipo_uso|vaga|             valores|   bairro|\n",
            "+-----+----------+---------+---------+--------------------+--------------------+--------------------+-------+------+------------+------------+-----------+----+--------------------+---------+\n",
            "|    3|        43|       43|        1|[Academia, Churra...|{Paciência, 23585...|d2e3a3aa-09b5-45a...|      2|  null|       Usado| Apartamento|Residencial|   1|[{245, null, Vend...|Paciência|\n",
            "+-----+----------+---------+---------+--------------------+--------------------+--------------------+-------+------+------------+------------+-----------+----+--------------------+---------+\n",
            "only showing top 1 row\n",
            "\n"
          ]
        }
      ]
    },
    {
      "cell_type": "code",
      "source": [
        "dados_anuncio = dados_anuncio.withColumn('zona', dados_anuncio['endereco']['zona'])\n",
        "dados_anuncio.show(1)"
      ],
      "metadata": {
        "colab": {
          "base_uri": "https://localhost:8080/"
        },
        "id": "1nx0lwHq7pS8",
        "outputId": "5bfc49ed-235a-45b5-d775-7be2b7b540e9"
      },
      "execution_count": 29,
      "outputs": [
        {
          "output_type": "stream",
          "name": "stdout",
          "text": [
            "+-----+----------+---------+---------+--------------------+--------------------+--------------------+-------+------+------------+------------+-----------+----+--------------------+---------+----------+\n",
            "|andar|area_total|area_util|banheiros|     caracteristicas|            endereco|                  id|quartos|suites|tipo_anuncio|tipo_unidade|   tipo_uso|vaga|             valores|   bairro|      zona|\n",
            "+-----+----------+---------+---------+--------------------+--------------------+--------------------+-------+------+------------+------------+-----------+----+--------------------+---------+----------+\n",
            "|    3|        43|       43|        1|[Academia, Churra...|{Paciência, 23585...|d2e3a3aa-09b5-45a...|      2|  null|       Usado| Apartamento|Residencial|   1|[{245, null, Vend...|Paciência|Zona Oeste|\n",
            "+-----+----------+---------+---------+--------------------+--------------------+--------------------+-------+------+------------+------------+-----------+----+--------------------+---------+----------+\n",
            "only showing top 1 row\n",
            "\n"
          ]
        }
      ]
    },
    {
      "cell_type": "markdown",
      "source": [
        "## Tratamento Coluna Valores"
      ],
      "metadata": {
        "id": "idKhyApw-mRX"
      }
    },
    {
      "cell_type": "markdown",
      "source": [
        "Inicialmente iremos retirar as colunas de dentro da coluna valores"
      ],
      "metadata": {
        "id": "HMzzp27FQJ8n"
      }
    },
    {
      "cell_type": "code",
      "source": [
        "dados_anuncio = dados_anuncio.withColumn('condominio', dados_anuncio['valores']['condominio'])\n",
        "dados_anuncio.printSchema()"
      ],
      "metadata": {
        "id": "RgJPlV-1851s",
        "colab": {
          "base_uri": "https://localhost:8080/"
        },
        "outputId": "58141e42-058e-46ae-a4bc-ac52cb13b682"
      },
      "execution_count": 30,
      "outputs": [
        {
          "output_type": "stream",
          "name": "stdout",
          "text": [
            "root\n",
            " |-- andar: long (nullable = true)\n",
            " |-- area_total: string (nullable = true)\n",
            " |-- area_util: string (nullable = true)\n",
            " |-- banheiros: long (nullable = true)\n",
            " |-- caracteristicas: array (nullable = true)\n",
            " |    |-- element: string (containsNull = true)\n",
            " |-- endereco: struct (nullable = true)\n",
            " |    |-- bairro: string (nullable = true)\n",
            " |    |-- cep: string (nullable = true)\n",
            " |    |-- cidade: string (nullable = true)\n",
            " |    |-- estado: string (nullable = true)\n",
            " |    |-- latitude: double (nullable = true)\n",
            " |    |-- longitude: double (nullable = true)\n",
            " |    |-- pais: string (nullable = true)\n",
            " |    |-- rua: string (nullable = true)\n",
            " |    |-- zona: string (nullable = true)\n",
            " |-- id: string (nullable = true)\n",
            " |-- quartos: long (nullable = true)\n",
            " |-- suites: long (nullable = true)\n",
            " |-- tipo_anuncio: string (nullable = true)\n",
            " |-- tipo_unidade: string (nullable = true)\n",
            " |-- tipo_uso: string (nullable = true)\n",
            " |-- vaga: long (nullable = true)\n",
            " |-- valores: array (nullable = true)\n",
            " |    |-- element: struct (containsNull = true)\n",
            " |    |    |-- condominio: string (nullable = true)\n",
            " |    |    |-- iptu: string (nullable = true)\n",
            " |    |    |-- tipo: string (nullable = true)\n",
            " |    |    |-- valor: string (nullable = true)\n",
            " |-- bairro: string (nullable = true)\n",
            " |-- zona: string (nullable = true)\n",
            " |-- condominio: array (nullable = true)\n",
            " |    |-- element: string (containsNull = true)\n",
            "\n"
          ]
        }
      ]
    },
    {
      "cell_type": "code",
      "source": [
        "dados_anuncio = dados_anuncio.withColumn('iptu', dados_anuncio['valores']['iptu'])\n",
        "dados_anuncio.printSchema()"
      ],
      "metadata": {
        "id": "s4uVpgMIG7w6",
        "colab": {
          "base_uri": "https://localhost:8080/"
        },
        "outputId": "9c383ea7-9d21-45ba-acf3-a2e9aacc27e9"
      },
      "execution_count": 31,
      "outputs": [
        {
          "output_type": "stream",
          "name": "stdout",
          "text": [
            "root\n",
            " |-- andar: long (nullable = true)\n",
            " |-- area_total: string (nullable = true)\n",
            " |-- area_util: string (nullable = true)\n",
            " |-- banheiros: long (nullable = true)\n",
            " |-- caracteristicas: array (nullable = true)\n",
            " |    |-- element: string (containsNull = true)\n",
            " |-- endereco: struct (nullable = true)\n",
            " |    |-- bairro: string (nullable = true)\n",
            " |    |-- cep: string (nullable = true)\n",
            " |    |-- cidade: string (nullable = true)\n",
            " |    |-- estado: string (nullable = true)\n",
            " |    |-- latitude: double (nullable = true)\n",
            " |    |-- longitude: double (nullable = true)\n",
            " |    |-- pais: string (nullable = true)\n",
            " |    |-- rua: string (nullable = true)\n",
            " |    |-- zona: string (nullable = true)\n",
            " |-- id: string (nullable = true)\n",
            " |-- quartos: long (nullable = true)\n",
            " |-- suites: long (nullable = true)\n",
            " |-- tipo_anuncio: string (nullable = true)\n",
            " |-- tipo_unidade: string (nullable = true)\n",
            " |-- tipo_uso: string (nullable = true)\n",
            " |-- vaga: long (nullable = true)\n",
            " |-- valores: array (nullable = true)\n",
            " |    |-- element: struct (containsNull = true)\n",
            " |    |    |-- condominio: string (nullable = true)\n",
            " |    |    |-- iptu: string (nullable = true)\n",
            " |    |    |-- tipo: string (nullable = true)\n",
            " |    |    |-- valor: string (nullable = true)\n",
            " |-- bairro: string (nullable = true)\n",
            " |-- zona: string (nullable = true)\n",
            " |-- condominio: array (nullable = true)\n",
            " |    |-- element: string (containsNull = true)\n",
            " |-- iptu: array (nullable = true)\n",
            " |    |-- element: string (containsNull = true)\n",
            "\n"
          ]
        }
      ]
    },
    {
      "cell_type": "code",
      "source": [
        "dados_anuncio = dados_anuncio.withColumn('tipo', dados_anuncio['valores']['tipo'])\n",
        "dados_anuncio.printSchema()"
      ],
      "metadata": {
        "id": "SAuYkv2BHWJp",
        "colab": {
          "base_uri": "https://localhost:8080/"
        },
        "outputId": "f7729780-122c-41c1-c65c-6de54d17d2c1"
      },
      "execution_count": 32,
      "outputs": [
        {
          "output_type": "stream",
          "name": "stdout",
          "text": [
            "root\n",
            " |-- andar: long (nullable = true)\n",
            " |-- area_total: string (nullable = true)\n",
            " |-- area_util: string (nullable = true)\n",
            " |-- banheiros: long (nullable = true)\n",
            " |-- caracteristicas: array (nullable = true)\n",
            " |    |-- element: string (containsNull = true)\n",
            " |-- endereco: struct (nullable = true)\n",
            " |    |-- bairro: string (nullable = true)\n",
            " |    |-- cep: string (nullable = true)\n",
            " |    |-- cidade: string (nullable = true)\n",
            " |    |-- estado: string (nullable = true)\n",
            " |    |-- latitude: double (nullable = true)\n",
            " |    |-- longitude: double (nullable = true)\n",
            " |    |-- pais: string (nullable = true)\n",
            " |    |-- rua: string (nullable = true)\n",
            " |    |-- zona: string (nullable = true)\n",
            " |-- id: string (nullable = true)\n",
            " |-- quartos: long (nullable = true)\n",
            " |-- suites: long (nullable = true)\n",
            " |-- tipo_anuncio: string (nullable = true)\n",
            " |-- tipo_unidade: string (nullable = true)\n",
            " |-- tipo_uso: string (nullable = true)\n",
            " |-- vaga: long (nullable = true)\n",
            " |-- valores: array (nullable = true)\n",
            " |    |-- element: struct (containsNull = true)\n",
            " |    |    |-- condominio: string (nullable = true)\n",
            " |    |    |-- iptu: string (nullable = true)\n",
            " |    |    |-- tipo: string (nullable = true)\n",
            " |    |    |-- valor: string (nullable = true)\n",
            " |-- bairro: string (nullable = true)\n",
            " |-- zona: string (nullable = true)\n",
            " |-- condominio: array (nullable = true)\n",
            " |    |-- element: string (containsNull = true)\n",
            " |-- iptu: array (nullable = true)\n",
            " |    |-- element: string (containsNull = true)\n",
            " |-- tipo: array (nullable = true)\n",
            " |    |-- element: string (containsNull = true)\n",
            "\n"
          ]
        }
      ]
    },
    {
      "cell_type": "code",
      "source": [
        "dados_anuncio = dados_anuncio.withColumn('valor', dados_anuncio['valores']['valor'])\n",
        "dados_anuncio.printSchema()"
      ],
      "metadata": {
        "id": "kc_0vdh3Hsoc",
        "colab": {
          "base_uri": "https://localhost:8080/"
        },
        "outputId": "407b6aea-bae0-4e7d-837a-eecd4c42eaae"
      },
      "execution_count": 33,
      "outputs": [
        {
          "output_type": "stream",
          "name": "stdout",
          "text": [
            "root\n",
            " |-- andar: long (nullable = true)\n",
            " |-- area_total: string (nullable = true)\n",
            " |-- area_util: string (nullable = true)\n",
            " |-- banheiros: long (nullable = true)\n",
            " |-- caracteristicas: array (nullable = true)\n",
            " |    |-- element: string (containsNull = true)\n",
            " |-- endereco: struct (nullable = true)\n",
            " |    |-- bairro: string (nullable = true)\n",
            " |    |-- cep: string (nullable = true)\n",
            " |    |-- cidade: string (nullable = true)\n",
            " |    |-- estado: string (nullable = true)\n",
            " |    |-- latitude: double (nullable = true)\n",
            " |    |-- longitude: double (nullable = true)\n",
            " |    |-- pais: string (nullable = true)\n",
            " |    |-- rua: string (nullable = true)\n",
            " |    |-- zona: string (nullable = true)\n",
            " |-- id: string (nullable = true)\n",
            " |-- quartos: long (nullable = true)\n",
            " |-- suites: long (nullable = true)\n",
            " |-- tipo_anuncio: string (nullable = true)\n",
            " |-- tipo_unidade: string (nullable = true)\n",
            " |-- tipo_uso: string (nullable = true)\n",
            " |-- vaga: long (nullable = true)\n",
            " |-- valores: array (nullable = true)\n",
            " |    |-- element: struct (containsNull = true)\n",
            " |    |    |-- condominio: string (nullable = true)\n",
            " |    |    |-- iptu: string (nullable = true)\n",
            " |    |    |-- tipo: string (nullable = true)\n",
            " |    |    |-- valor: string (nullable = true)\n",
            " |-- bairro: string (nullable = true)\n",
            " |-- zona: string (nullable = true)\n",
            " |-- condominio: array (nullable = true)\n",
            " |    |-- element: string (containsNull = true)\n",
            " |-- iptu: array (nullable = true)\n",
            " |    |-- element: string (containsNull = true)\n",
            " |-- tipo: array (nullable = true)\n",
            " |    |-- element: string (containsNull = true)\n",
            " |-- valor: array (nullable = true)\n",
            " |    |-- element: string (containsNull = true)\n",
            "\n"
          ]
        }
      ]
    },
    {
      "cell_type": "markdown",
      "source": [
        "Será retirada a coluna valores, pois ela não tem mais utilidade"
      ],
      "metadata": {
        "id": "iMKzXe2Rr2nl"
      }
    },
    {
      "cell_type": "code",
      "source": [
        "dados_anuncio = dados_anuncio.drop('valores')"
      ],
      "metadata": {
        "id": "Wpw3qRfkrsat"
      },
      "execution_count": 34,
      "outputs": []
    },
    {
      "cell_type": "markdown",
      "source": [
        "É possível observar que as colunas retiradas estão dentro de listas, portanto, iremos utilizar o método utilizado anteriormente"
      ],
      "metadata": {
        "id": "PWVO26gSrUiW"
      }
    },
    {
      "cell_type": "code",
      "source": [
        "dados_anuncio.show(5)"
      ],
      "metadata": {
        "colab": {
          "base_uri": "https://localhost:8080/"
        },
        "id": "LXXMvKkPIUDi",
        "outputId": "01bdcc5e-4b98-483e-8efe-a8bc990e260c"
      },
      "execution_count": 35,
      "outputs": [
        {
          "output_type": "stream",
          "name": "stdout",
          "text": [
            "+-----+----------+---------+---------+--------------------+--------------------+--------------------+-------+------+------------+------------+-----------+----+---------+----------+----------+------+-------+-------+\n",
            "|andar|area_total|area_util|banheiros|     caracteristicas|            endereco|                  id|quartos|suites|tipo_anuncio|tipo_unidade|   tipo_uso|vaga|   bairro|      zona|condominio|  iptu|   tipo|  valor|\n",
            "+-----+----------+---------+---------+--------------------+--------------------+--------------------+-------+------+------------+------------+-----------+----+---------+----------+----------+------+-------+-------+\n",
            "|    3|        43|       43|        1|[Academia, Churra...|{Paciência, 23585...|d2e3a3aa-09b5-45a...|      2|  null|       Usado| Apartamento|Residencial|   1|Paciência|Zona Oeste|     [245]|[null]|[Venda]|[15000]|\n",
            "|    2|        42|       42|        1|[Churrasqueira, P...|{Paciência, 23585...|085bab2c-87ad-452...|      2|  null|       Usado| Apartamento|Residencial|   1|Paciência|Zona Oeste|       [0]|   [0]|[Venda]|[15000]|\n",
            "|    1|        41|       41|        1|[Portaria 24h, Co...|{Guaratiba, 23036...|18d22cbe-1b86-476...|      2|  null|       Usado| Apartamento|Residencial|   1|Guaratiba|Zona Oeste|       [0]|   [0]|[Venda]|[20000]|\n",
            "|    3|        43|       43|        1|[Churrasqueira, P...|{Cosmos, 23066271...|bed8a354-9317-442...|      2|  null|       Usado| Apartamento|Residencial|   0|   Cosmos|Zona Oeste|     [285]|[null]|[Venda]|[20000]|\n",
            "|    2|        43|       43|        1|[Academia, Churra...|{Guaratiba, 23036...|12a13315-d67f-48f...|      2|  null|       Usado| Apartamento|Residencial|   1|Guaratiba|Zona Oeste|     [245]|[null]|[Venda]|[15000]|\n",
            "+-----+----------+---------+---------+--------------------+--------------------+--------------------+-------+------+------------+------------+-----------+----+---------+----------+----------+------+-------+-------+\n",
            "only showing top 5 rows\n",
            "\n"
          ]
        }
      ]
    },
    {
      "cell_type": "code",
      "source": [
        "listas2 = ['condominio', 'iptu', 'tipo', 'valor']"
      ],
      "metadata": {
        "id": "GUJOCk2Nyo7U"
      },
      "execution_count": 36,
      "outputs": []
    },
    {
      "cell_type": "code",
      "source": [
        "for col in listas2:\n",
        "  dados_anuncio\\\n",
        "      .select(f.size(f.col(col)).alias(col))\\\n",
        "      .groupBy(col)\\\n",
        "      .count()\\\n",
        "      .show()"
      ],
      "metadata": {
        "id": "m4Z0WBJ6IuzR",
        "colab": {
          "base_uri": "https://localhost:8080/"
        },
        "outputId": "98b9cd6c-2c02-4dbb-9465-ab1eb8c33d53"
      },
      "execution_count": 37,
      "outputs": [
        {
          "output_type": "stream",
          "name": "stdout",
          "text": [
            "+----------+-----+\n",
            "|condominio|count|\n",
            "+----------+-----+\n",
            "|         1|65941|\n",
            "|         2|  621|\n",
            "+----------+-----+\n",
            "\n",
            "+----+-----+\n",
            "|iptu|count|\n",
            "+----+-----+\n",
            "|   1|65941|\n",
            "|   2|  621|\n",
            "+----+-----+\n",
            "\n",
            "+----+-----+\n",
            "|tipo|count|\n",
            "+----+-----+\n",
            "|   1|65941|\n",
            "|   2|  621|\n",
            "+----+-----+\n",
            "\n",
            "+-----+-----+\n",
            "|valor|count|\n",
            "+-----+-----+\n",
            "|    1|65941|\n",
            "|    2|  621|\n",
            "+-----+-----+\n",
            "\n"
          ]
        }
      ]
    },
    {
      "cell_type": "code",
      "source": [
        "dados_anuncio = dados_anuncio\\\n",
        "    .select([f.col(c)[0].alias(c) if c in listas2 else c for c in dados_anuncio.columns])"
      ],
      "metadata": {
        "id": "FvQ4-dkny3S4"
      },
      "execution_count": 38,
      "outputs": []
    },
    {
      "cell_type": "code",
      "source": [
        "dados_anuncio.printSchema()"
      ],
      "metadata": {
        "colab": {
          "base_uri": "https://localhost:8080/"
        },
        "id": "MQ0kz_jNzFPJ",
        "outputId": "99dc31c4-6dde-48d2-c401-98fce088be0f"
      },
      "execution_count": 39,
      "outputs": [
        {
          "output_type": "stream",
          "name": "stdout",
          "text": [
            "root\n",
            " |-- andar: long (nullable = true)\n",
            " |-- area_total: string (nullable = true)\n",
            " |-- area_util: string (nullable = true)\n",
            " |-- banheiros: long (nullable = true)\n",
            " |-- caracteristicas: array (nullable = true)\n",
            " |    |-- element: string (containsNull = true)\n",
            " |-- endereco: struct (nullable = true)\n",
            " |    |-- bairro: string (nullable = true)\n",
            " |    |-- cep: string (nullable = true)\n",
            " |    |-- cidade: string (nullable = true)\n",
            " |    |-- estado: string (nullable = true)\n",
            " |    |-- latitude: double (nullable = true)\n",
            " |    |-- longitude: double (nullable = true)\n",
            " |    |-- pais: string (nullable = true)\n",
            " |    |-- rua: string (nullable = true)\n",
            " |    |-- zona: string (nullable = true)\n",
            " |-- id: string (nullable = true)\n",
            " |-- quartos: long (nullable = true)\n",
            " |-- suites: long (nullable = true)\n",
            " |-- tipo_anuncio: string (nullable = true)\n",
            " |-- tipo_unidade: string (nullable = true)\n",
            " |-- tipo_uso: string (nullable = true)\n",
            " |-- vaga: long (nullable = true)\n",
            " |-- bairro: string (nullable = true)\n",
            " |-- zona: string (nullable = true)\n",
            " |-- condominio: string (nullable = true)\n",
            " |-- iptu: string (nullable = true)\n",
            " |-- tipo: string (nullable = true)\n",
            " |-- valor: string (nullable = true)\n",
            "\n"
          ]
        }
      ]
    },
    {
      "cell_type": "code",
      "source": [
        "dados_anuncio.show(5)"
      ],
      "metadata": {
        "colab": {
          "base_uri": "https://localhost:8080/"
        },
        "id": "isvxS_HdzIzS",
        "outputId": "71cbd46c-acc7-4199-8d90-596648b51f58"
      },
      "execution_count": 40,
      "outputs": [
        {
          "output_type": "stream",
          "name": "stdout",
          "text": [
            "+-----+----------+---------+---------+--------------------+--------------------+--------------------+-------+------+------------+------------+-----------+----+---------+----------+----------+----+-----+-----+\n",
            "|andar|area_total|area_util|banheiros|     caracteristicas|            endereco|                  id|quartos|suites|tipo_anuncio|tipo_unidade|   tipo_uso|vaga|   bairro|      zona|condominio|iptu| tipo|valor|\n",
            "+-----+----------+---------+---------+--------------------+--------------------+--------------------+-------+------+------------+------------+-----------+----+---------+----------+----------+----+-----+-----+\n",
            "|    3|        43|       43|        1|[Academia, Churra...|{Paciência, 23585...|d2e3a3aa-09b5-45a...|      2|  null|       Usado| Apartamento|Residencial|   1|Paciência|Zona Oeste|       245|null|Venda|15000|\n",
            "|    2|        42|       42|        1|[Churrasqueira, P...|{Paciência, 23585...|085bab2c-87ad-452...|      2|  null|       Usado| Apartamento|Residencial|   1|Paciência|Zona Oeste|         0|   0|Venda|15000|\n",
            "|    1|        41|       41|        1|[Portaria 24h, Co...|{Guaratiba, 23036...|18d22cbe-1b86-476...|      2|  null|       Usado| Apartamento|Residencial|   1|Guaratiba|Zona Oeste|         0|   0|Venda|20000|\n",
            "|    3|        43|       43|        1|[Churrasqueira, P...|{Cosmos, 23066271...|bed8a354-9317-442...|      2|  null|       Usado| Apartamento|Residencial|   0|   Cosmos|Zona Oeste|       285|null|Venda|20000|\n",
            "|    2|        43|       43|        1|[Academia, Churra...|{Guaratiba, 23036...|12a13315-d67f-48f...|      2|  null|       Usado| Apartamento|Residencial|   1|Guaratiba|Zona Oeste|       245|null|Venda|15000|\n",
            "+-----+----------+---------+---------+--------------------+--------------------+--------------------+-------+------+------------+------------+-----------+----+---------+----------+----------+----+-----+-----+\n",
            "only showing top 5 rows\n",
            "\n"
          ]
        }
      ]
    },
    {
      "cell_type": "markdown",
      "source": [
        "Selecionando apenas os valores de venda"
      ],
      "metadata": {
        "id": "eFJP02Hs0b0C"
      }
    },
    {
      "cell_type": "code",
      "source": [
        "dados_anuncio\\\n",
        "    .groupBy('tipo')\\\n",
        "    .count()\\\n",
        "    .show()"
      ],
      "metadata": {
        "colab": {
          "base_uri": "https://localhost:8080/"
        },
        "id": "ZrsUjt2QzTwU",
        "outputId": "95d70713-6e13-49d7-dfe1-13e7fec8acb6"
      },
      "execution_count": 41,
      "outputs": [
        {
          "output_type": "stream",
          "name": "stdout",
          "text": [
            "+-------+-----+\n",
            "|   tipo|count|\n",
            "+-------+-----+\n",
            "|Aluguel|  214|\n",
            "|  Venda|66348|\n",
            "+-------+-----+\n",
            "\n"
          ]
        }
      ]
    },
    {
      "cell_type": "code",
      "source": [
        "dados_anuncio = dados_anuncio.filter(\"tipo == 'Venda'\")"
      ],
      "metadata": {
        "id": "M67ABKuk0TRH"
      },
      "execution_count": 42,
      "outputs": []
    },
    {
      "cell_type": "code",
      "source": [
        "dados_anuncio\\\n",
        "    .groupBy('tipo')\\\n",
        "    .count()\\\n",
        "    .show()"
      ],
      "metadata": {
        "colab": {
          "base_uri": "https://localhost:8080/"
        },
        "id": "ht1YvVgc0wcK",
        "outputId": "51573548-08cf-4330-dc8f-e1b3f003f6f6"
      },
      "execution_count": 43,
      "outputs": [
        {
          "output_type": "stream",
          "name": "stdout",
          "text": [
            "+-----+-----+\n",
            "| tipo|count|\n",
            "+-----+-----+\n",
            "|Venda|66348|\n",
            "+-----+-----+\n",
            "\n"
          ]
        }
      ]
    },
    {
      "cell_type": "code",
      "source": [
        "dados_anuncio.show(5)"
      ],
      "metadata": {
        "colab": {
          "base_uri": "https://localhost:8080/"
        },
        "id": "rJAweAm20ptX",
        "outputId": "39451b0d-662d-4def-d0dd-7617b792bd5e"
      },
      "execution_count": 44,
      "outputs": [
        {
          "output_type": "stream",
          "name": "stdout",
          "text": [
            "+-----+----------+---------+---------+--------------------+--------------------+--------------------+-------+------+------------+------------+-----------+----+---------+----------+----------+----+-----+-----+\n",
            "|andar|area_total|area_util|banheiros|     caracteristicas|            endereco|                  id|quartos|suites|tipo_anuncio|tipo_unidade|   tipo_uso|vaga|   bairro|      zona|condominio|iptu| tipo|valor|\n",
            "+-----+----------+---------+---------+--------------------+--------------------+--------------------+-------+------+------------+------------+-----------+----+---------+----------+----------+----+-----+-----+\n",
            "|    3|        43|       43|        1|[Academia, Churra...|{Paciência, 23585...|d2e3a3aa-09b5-45a...|      2|  null|       Usado| Apartamento|Residencial|   1|Paciência|Zona Oeste|       245|null|Venda|15000|\n",
            "|    2|        42|       42|        1|[Churrasqueira, P...|{Paciência, 23585...|085bab2c-87ad-452...|      2|  null|       Usado| Apartamento|Residencial|   1|Paciência|Zona Oeste|         0|   0|Venda|15000|\n",
            "|    1|        41|       41|        1|[Portaria 24h, Co...|{Guaratiba, 23036...|18d22cbe-1b86-476...|      2|  null|       Usado| Apartamento|Residencial|   1|Guaratiba|Zona Oeste|         0|   0|Venda|20000|\n",
            "|    3|        43|       43|        1|[Churrasqueira, P...|{Cosmos, 23066271...|bed8a354-9317-442...|      2|  null|       Usado| Apartamento|Residencial|   0|   Cosmos|Zona Oeste|       285|null|Venda|20000|\n",
            "|    2|        43|       43|        1|[Academia, Churra...|{Guaratiba, 23036...|12a13315-d67f-48f...|      2|  null|       Usado| Apartamento|Residencial|   1|Guaratiba|Zona Oeste|       245|null|Venda|15000|\n",
            "+-----+----------+---------+---------+--------------------+--------------------+--------------------+-------+------+------------+------------+-----------+----+---------+----------+----------+----+-----+-----+\n",
            "only showing top 5 rows\n",
            "\n"
          ]
        }
      ]
    },
    {
      "cell_type": "markdown",
      "source": [
        "# Salvando os dados"
      ],
      "metadata": {
        "id": "LffkVKRIQ8oy"
      }
    },
    {
      "cell_type": "markdown",
      "source": [
        "## Formato Parquet"
      ],
      "metadata": {
        "id": "KPEg7JkxRG99"
      }
    },
    {
      "cell_type": "code",
      "source": [
        "%%time\n",
        "dados_anuncio.write.parquet(\n",
        "    path= '/content/drive/MyDrive/insightPlaces/parquet',\n",
        "    mode= 'overwrite')"
      ],
      "metadata": {
        "id": "a7iaifgy0rZw",
        "colab": {
          "base_uri": "https://localhost:8080/"
        },
        "outputId": "223d1721-a64b-4834-a4d7-701a732df656"
      },
      "execution_count": 45,
      "outputs": [
        {
          "output_type": "stream",
          "name": "stdout",
          "text": [
            "CPU times: user 40.5 ms, sys: 3.22 ms, total: 43.7 ms\n",
            "Wall time: 6.14 s\n"
          ]
        }
      ]
    },
    {
      "cell_type": "markdown",
      "source": [
        "## Formato CSV"
      ],
      "metadata": {
        "id": "CW8JnkgBRhEB"
      }
    },
    {
      "cell_type": "markdown",
      "source": [
        "Para salvar no formato CSV será necessário retirar a coluna endereco e alterar o tipo da coluna caracteristicas, pois o formato não aceita dados do tipo array ou struct"
      ],
      "metadata": {
        "id": "BwezAIltRusw"
      }
    },
    {
      "cell_type": "code",
      "source": [
        "from pyspark.sql.types import StringType"
      ],
      "metadata": {
        "id": "Sx9ialMpRbCU"
      },
      "execution_count": 46,
      "outputs": []
    },
    {
      "cell_type": "code",
      "source": [
        "dados_anuncio = dados_anuncio.withColumn('caracteristicas', dados_anuncio['caracteristicas'].cast(StringType()))\n",
        "dados_anuncio.select('caracteristicas').printSchema()"
      ],
      "metadata": {
        "colab": {
          "base_uri": "https://localhost:8080/"
        },
        "id": "VGGL9h1bSJ5a",
        "outputId": "662a119f-cc04-4085-c994-098145206732"
      },
      "execution_count": 47,
      "outputs": [
        {
          "output_type": "stream",
          "name": "stdout",
          "text": [
            "root\n",
            " |-- caracteristicas: string (nullable = true)\n",
            "\n"
          ]
        }
      ]
    },
    {
      "cell_type": "code",
      "source": [
        "dados_anuncio = dados_anuncio.drop('endereco')\n",
        "dados_anuncio.printSchema()"
      ],
      "metadata": {
        "colab": {
          "base_uri": "https://localhost:8080/"
        },
        "id": "8EAO5VJ7SUcj",
        "outputId": "e56e7d6a-17db-4477-c0d7-19631253865d"
      },
      "execution_count": 48,
      "outputs": [
        {
          "output_type": "stream",
          "name": "stdout",
          "text": [
            "root\n",
            " |-- andar: long (nullable = true)\n",
            " |-- area_total: string (nullable = true)\n",
            " |-- area_util: string (nullable = true)\n",
            " |-- banheiros: long (nullable = true)\n",
            " |-- caracteristicas: string (nullable = true)\n",
            " |-- id: string (nullable = true)\n",
            " |-- quartos: long (nullable = true)\n",
            " |-- suites: long (nullable = true)\n",
            " |-- tipo_anuncio: string (nullable = true)\n",
            " |-- tipo_unidade: string (nullable = true)\n",
            " |-- tipo_uso: string (nullable = true)\n",
            " |-- vaga: long (nullable = true)\n",
            " |-- bairro: string (nullable = true)\n",
            " |-- zona: string (nullable = true)\n",
            " |-- condominio: string (nullable = true)\n",
            " |-- iptu: string (nullable = true)\n",
            " |-- tipo: string (nullable = true)\n",
            " |-- valor: string (nullable = true)\n",
            "\n"
          ]
        }
      ]
    },
    {
      "cell_type": "code",
      "source": [
        "dados_anuncio.write.format(\"csv\").save('/content/drive/MyDrive/insightPlaces/csv',\n",
        "                                       mode = 'overwrite')"
      ],
      "metadata": {
        "id": "GzFnMrZoScsz"
      },
      "execution_count": 50,
      "outputs": []
    },
    {
      "cell_type": "markdown",
      "source": [
        "## Comparativo Leitura dos DataSets salvos"
      ],
      "metadata": {
        "id": "asQmxkeBTZSg"
      }
    },
    {
      "cell_type": "markdown",
      "source": [
        "Parquet"
      ],
      "metadata": {
        "id": "pB1HcfbfTfz7"
      }
    },
    {
      "cell_type": "code",
      "source": [
        "%%time\n",
        "path = '/content/drive/MyDrive/insightPlaces/parquet'\n",
        "dados = spark.read.parquet(path)\n",
        "dados"
      ],
      "metadata": {
        "colab": {
          "base_uri": "https://localhost:8080/"
        },
        "id": "g-gnC-CLSgTx",
        "outputId": "58177077-adde-4856-bcd1-83c71bf436fb"
      },
      "execution_count": 51,
      "outputs": [
        {
          "output_type": "stream",
          "name": "stdout",
          "text": [
            "CPU times: user 3.36 ms, sys: 0 ns, total: 3.36 ms\n",
            "Wall time: 202 ms\n"
          ]
        },
        {
          "output_type": "execute_result",
          "data": {
            "text/plain": [
              "DataFrame[andar: bigint, area_total: string, area_util: string, banheiros: bigint, caracteristicas: array<string>, endereco: struct<bairro:string,cep:string,cidade:string,estado:string,latitude:double,longitude:double,pais:string,rua:string,zona:string>, id: string, quartos: bigint, suites: bigint, tipo_anuncio: string, tipo_unidade: string, tipo_uso: string, vaga: bigint, bairro: string, zona: string, condominio: string, iptu: string, tipo: string, valor: string]"
            ]
          },
          "metadata": {},
          "execution_count": 51
        }
      ]
    },
    {
      "cell_type": "markdown",
      "source": [
        "CSV"
      ],
      "metadata": {
        "id": "bWkqu8AeT7Sl"
      }
    },
    {
      "cell_type": "code",
      "source": [
        "%%time\n",
        "path = '/content/drive/MyDrive/insightPlaces/csv'\n",
        "dados = spark.read.csv(path)\n",
        "dados"
      ],
      "metadata": {
        "colab": {
          "base_uri": "https://localhost:8080/"
        },
        "id": "MOcJIW2NT6V-",
        "outputId": "dfcabd0e-dfa4-4b82-c419-1f3579422dba"
      },
      "execution_count": 52,
      "outputs": [
        {
          "output_type": "stream",
          "name": "stdout",
          "text": [
            "CPU times: user 2.84 ms, sys: 898 µs, total: 3.74 ms\n",
            "Wall time: 270 ms\n"
          ]
        },
        {
          "output_type": "execute_result",
          "data": {
            "text/plain": [
              "DataFrame[_c0: string, _c1: string, _c2: string, _c3: string, _c4: string, _c5: string, _c6: string, _c7: string, _c8: string, _c9: string, _c10: string, _c11: string, _c12: string, _c13: string, _c14: string, _c15: string, _c16: string, _c17: string]"
            ]
          },
          "metadata": {},
          "execution_count": 52
        }
      ]
    }
  ]
}
