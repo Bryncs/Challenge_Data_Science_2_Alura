{
  "nbformat": 4,
  "nbformat_minor": 0,
  "metadata": {
    "colab": {
      "provenance": [],
      "authorship_tag": "ABX9TyO4KUcNlETljMS2EHJQfQqT",
      "include_colab_link": true
    },
    "kernelspec": {
      "name": "python3",
      "display_name": "Python 3"
    },
    "language_info": {
      "name": "python"
    }
  },
  "cells": [
    {
      "cell_type": "markdown",
      "metadata": {
        "id": "view-in-github",
        "colab_type": "text"
      },
      "source": [
        "<a href=\"https://colab.research.google.com/github/Bryncs/Challenge_Data_Science_2_Alura/blob/main/InsightPlaces2.ipynb\" target=\"_parent\"><img src=\"https://colab.research.google.com/assets/colab-badge.svg\" alt=\"Open In Colab\"/></a>"
      ]
    },
    {
      "cell_type": "markdown",
      "source": [
        "# Preparando o Ambiente\n"
      ],
      "metadata": {
        "id": "0gRLf23o2Ej5"
      }
    },
    {
      "cell_type": "markdown",
      "source": [
        "## Instalando o Spark"
      ],
      "metadata": {
        "id": "HItAa9mi2OPm"
      }
    },
    {
      "cell_type": "code",
      "execution_count": 2,
      "metadata": {
        "id": "5Q9Y1uvU0RKU"
      },
      "outputs": [],
      "source": [
        "!apt-get update -qq\n",
        "!apt-get install openjdk-8-jdk-headless -qq > /dev/null\n",
        "!wget -q https://archive.apache.org/dist/spark/spark-3.1.2/spark-3.1.2-bin-hadoop2.7.tgz\n",
        "!tar xf spark-3.1.2-bin-hadoop2.7.tgz\n",
        "!pip install -q findspark"
      ]
    },
    {
      "cell_type": "code",
      "source": [
        "import os\n",
        "os.environ[\"JAVA_HOME\"] = \"/usr/lib/jvm/java-8-openjdk-amd64\"\n",
        "os.environ[\"SPARK_HOME\"] = \"/content/spark-3.1.2-bin-hadoop2.7\""
      ],
      "metadata": {
        "id": "uYd-K8yb2To8"
      },
      "execution_count": 3,
      "outputs": []
    },
    {
      "cell_type": "code",
      "source": [
        "import findspark\n",
        "findspark.init()"
      ],
      "metadata": {
        "id": "6q_-WEJm2jMc"
      },
      "execution_count": 4,
      "outputs": []
    },
    {
      "cell_type": "code",
      "source": [
        "from pyspark.sql import SparkSession\n",
        "\n",
        "spark = SparkSession.builder \\\n",
        "    .master('local[*]') \\\n",
        "    .appName(\"Projeto InsighPlaces\") \\\n",
        "    .config('spark.ui.port', '4050') \\\n",
        "    .getOrCreate()"
      ],
      "metadata": {
        "id": "OScPwrs72pXS"
      },
      "execution_count": 5,
      "outputs": []
    },
    {
      "cell_type": "code",
      "source": [
        "spark"
      ],
      "metadata": {
        "colab": {
          "base_uri": "https://localhost:8080/",
          "height": 219
        },
        "id": "u7X5t90t2r4X",
        "outputId": "d338e8e7-889f-43a4-ac3c-2a6370de44e8"
      },
      "execution_count": 6,
      "outputs": [
        {
          "output_type": "execute_result",
          "data": {
            "text/plain": [
              "<pyspark.sql.session.SparkSession at 0x7fb2294ec0d0>"
            ],
            "text/html": [
              "\n",
              "            <div>\n",
              "                <p><b>SparkSession - in-memory</b></p>\n",
              "                \n",
              "        <div>\n",
              "            <p><b>SparkContext</b></p>\n",
              "\n",
              "            <p><a href=\"http://593759af42e1:4050\">Spark UI</a></p>\n",
              "\n",
              "            <dl>\n",
              "              <dt>Version</dt>\n",
              "                <dd><code>v3.1.2</code></dd>\n",
              "              <dt>Master</dt>\n",
              "                <dd><code>local[*]</code></dd>\n",
              "              <dt>AppName</dt>\n",
              "                <dd><code>Projeto InsighPlaces</code></dd>\n",
              "            </dl>\n",
              "        </div>\n",
              "        \n",
              "            </div>\n",
              "        "
            ]
          },
          "metadata": {},
          "execution_count": 6
        }
      ]
    },
    {
      "cell_type": "markdown",
      "source": [
        "## Preparando o Drive"
      ],
      "metadata": {
        "id": "DS3t_Ty421Rn"
      }
    },
    {
      "cell_type": "code",
      "source": [
        "from google.colab import drive\n",
        "drive.mount('/content/drive')"
      ],
      "metadata": {
        "colab": {
          "base_uri": "https://localhost:8080/"
        },
        "id": "nzY4L7RJ2udr",
        "outputId": "8b91f5b0-9d33-453e-e95e-0daf17512fc3"
      },
      "execution_count": 7,
      "outputs": [
        {
          "output_type": "stream",
          "name": "stdout",
          "text": [
            "Mounted at /content/drive\n"
          ]
        }
      ]
    },
    {
      "cell_type": "markdown",
      "source": [
        "## Importando os Dados"
      ],
      "metadata": {
        "id": "1n0MfpBi3NJT"
      }
    },
    {
      "cell_type": "code",
      "source": [
        "import zipfile"
      ],
      "metadata": {
        "id": "5u2AaPoU3Mr9"
      },
      "execution_count": 8,
      "outputs": []
    },
    {
      "cell_type": "code",
      "source": [
        "zipfile.ZipFile('/content/drive/MyDrive/insightPlaces2/semana-2.zip', 'r').extractall('/content/drive/MyDrive/insightPlaces2')"
      ],
      "metadata": {
        "id": "wD5QrgRC27D6"
      },
      "execution_count": 9,
      "outputs": []
    },
    {
      "cell_type": "code",
      "source": [
        "path = '/content/drive/MyDrive/insightPlaces2/dataset_transformado_parquet'\n",
        "dados = spark.read.parquet(path)"
      ],
      "metadata": {
        "id": "9iH1laTY3vSC"
      },
      "execution_count": 10,
      "outputs": []
    },
    {
      "cell_type": "markdown",
      "source": [
        "# Seleção de Features"
      ],
      "metadata": {
        "id": "7Njxvqe14NhR"
      }
    },
    {
      "cell_type": "code",
      "source": [
        "dados.printSchema()"
      ],
      "metadata": {
        "colab": {
          "base_uri": "https://localhost:8080/"
        },
        "id": "UatFVEd24EUy",
        "outputId": "e58e3eee-d488-41e7-dfb0-afe672ffba4f"
      },
      "execution_count": 11,
      "outputs": [
        {
          "output_type": "stream",
          "name": "stdout",
          "text": [
            "root\n",
            " |-- id: string (nullable = true)\n",
            " |-- andar: long (nullable = true)\n",
            " |-- area_total: string (nullable = true)\n",
            " |-- area_util: string (nullable = true)\n",
            " |-- banheiros: long (nullable = true)\n",
            " |-- caracteristicas: array (nullable = true)\n",
            " |    |-- element: string (containsNull = true)\n",
            " |-- quartos: long (nullable = true)\n",
            " |-- suites: long (nullable = true)\n",
            " |-- tipo_anuncio: string (nullable = true)\n",
            " |-- tipo_unidade: string (nullable = true)\n",
            " |-- tipo_uso: string (nullable = true)\n",
            " |-- vaga: long (nullable = true)\n",
            " |-- bairro: string (nullable = true)\n",
            " |-- zona: string (nullable = true)\n",
            " |-- condominio: string (nullable = true)\n",
            " |-- iptu: string (nullable = true)\n",
            " |-- tipo: string (nullable = true)\n",
            " |-- valor: string (nullable = true)\n",
            "\n"
          ]
        }
      ]
    },
    {
      "cell_type": "code",
      "source": [
        "dados.show(5)"
      ],
      "metadata": {
        "colab": {
          "base_uri": "https://localhost:8080/"
        },
        "id": "Q74SBqPT4WUK",
        "outputId": "c14db598-28ae-4fdf-87da-106c8edda714"
      },
      "execution_count": 12,
      "outputs": [
        {
          "output_type": "stream",
          "name": "stdout",
          "text": [
            "+--------------------+-----+----------+---------+---------+--------------------+-------+------+------------+------------+-----------+----+------------+------------+----------+----+-----+------+\n",
            "|                  id|andar|area_total|area_util|banheiros|     caracteristicas|quartos|suites|tipo_anuncio|tipo_unidade|   tipo_uso|vaga|      bairro|        zona|condominio|iptu| tipo| valor|\n",
            "+--------------------+-----+----------+---------+---------+--------------------+-------+------+------------+------------+-----------+----+------------+------------+----------+----+-----+------+\n",
            "|03a386b6-7ab8-4ef...|    0|        43|       43|        1|[Churrasqueira, A...|      2|  null|       Usado| Apartamento|Residencial|   1|    Realengo|  Zona Oeste|       285|null|Venda| 22999|\n",
            "|1fe78d41-b8e0-4d2...|    0|        44|       44|        1|                  []|      2|     0|       Usado| Apartamento|Residencial|   0|       Irajá|  Zona Norte|       170|   0|Venda|110000|\n",
            "|1fa1c1e5-e98c-433...|    4|      null|       55|        1|                  []|      2|     0|       Usado| Apartamento|Residencial|   1|      Cosmos|  Zona Oeste|      null|null|Venda|115000|\n",
            "|a6ab01ae-3d40-40e...|    2|      null|       55|        1|                  []|      2|     0|       Usado| Apartamento|Residencial|   0|Tomás Coelho|  Zona Norte|      null|null|Venda|115000|\n",
            "|1d8ff7a2-16bd-4e3...|    0|      null|       50|        1|                  []|      1|  null|       Usado| Apartamento|Residencial|   0|      Centro|Zona Central|      1300|2679|Venda|125000|\n",
            "+--------------------+-----+----------+---------+---------+--------------------+-------+------+------------+------------+-----------+----+------------+------------+----------+----+-----+------+\n",
            "only showing top 5 rows\n",
            "\n"
          ]
        }
      ]
    },
    {
      "cell_type": "markdown",
      "source": [
        "## Colunas com Apenas um Dado"
      ],
      "metadata": {
        "id": "TCzb1tbv_72x"
      }
    },
    {
      "cell_type": "markdown",
      "source": [
        "Colunas filtradas anteriormente que contém apenas um dado"
      ],
      "metadata": {
        "id": "Or1dCxsByLMn"
      }
    },
    {
      "cell_type": "code",
      "source": [
        "colunas_com_1_dado = ['tipo_anuncio', 'tipo_unidade', 'tipo_uso', 'tipo']"
      ],
      "metadata": {
        "id": "8qsr20rL7i4K"
      },
      "execution_count": 13,
      "outputs": []
    },
    {
      "cell_type": "code",
      "source": [
        "for col in colunas_com_1_dado:\n",
        "  dados\\\n",
        "      .groupBy(col)\\\n",
        "      .count()\\\n",
        "      .orderBy('count', ascending = False)\\\n",
        "      .show()"
      ],
      "metadata": {
        "colab": {
          "base_uri": "https://localhost:8080/"
        },
        "id": "j0KgSTK-8bDm",
        "outputId": "b7cab892-d1f4-437f-b29d-c1cf5a7e8c99"
      },
      "execution_count": 14,
      "outputs": [
        {
          "output_type": "stream",
          "name": "stdout",
          "text": [
            "+------------+-----+\n",
            "|tipo_anuncio|count|\n",
            "+------------+-----+\n",
            "|       Usado|66562|\n",
            "+------------+-----+\n",
            "\n",
            "+------------+-----+\n",
            "|tipo_unidade|count|\n",
            "+------------+-----+\n",
            "| Apartamento|66562|\n",
            "+------------+-----+\n",
            "\n",
            "+-----------+-----+\n",
            "|   tipo_uso|count|\n",
            "+-----------+-----+\n",
            "|Residencial|66562|\n",
            "+-----------+-----+\n",
            "\n",
            "+-----+-----+\n",
            "| tipo|count|\n",
            "+-----+-----+\n",
            "|Venda|66562|\n",
            "+-----+-----+\n",
            "\n"
          ]
        }
      ]
    },
    {
      "cell_type": "code",
      "source": [
        "dados.drop('tipo_anuncio', 'tipo_unidade', 'tipo_uso', 'tipo').printSchema()"
      ],
      "metadata": {
        "colab": {
          "base_uri": "https://localhost:8080/"
        },
        "id": "bD-0RjTM-LC-",
        "outputId": "7e8241d7-739d-440c-fd62-67a530b3357a"
      },
      "execution_count": 15,
      "outputs": [
        {
          "output_type": "stream",
          "name": "stdout",
          "text": [
            "root\n",
            " |-- id: string (nullable = true)\n",
            " |-- andar: long (nullable = true)\n",
            " |-- area_total: string (nullable = true)\n",
            " |-- area_util: string (nullable = true)\n",
            " |-- banheiros: long (nullable = true)\n",
            " |-- caracteristicas: array (nullable = true)\n",
            " |    |-- element: string (containsNull = true)\n",
            " |-- quartos: long (nullable = true)\n",
            " |-- suites: long (nullable = true)\n",
            " |-- vaga: long (nullable = true)\n",
            " |-- bairro: string (nullable = true)\n",
            " |-- zona: string (nullable = true)\n",
            " |-- condominio: string (nullable = true)\n",
            " |-- iptu: string (nullable = true)\n",
            " |-- valor: string (nullable = true)\n",
            "\n"
          ]
        }
      ]
    },
    {
      "cell_type": "markdown",
      "source": [
        "Retirando as colunas com apenas um dado"
      ],
      "metadata": {
        "id": "PMcaquHwyQ1G"
      }
    },
    {
      "cell_type": "code",
      "source": [
        "dados = dados.drop('tipo_anuncio', 'tipo_unidade', 'tipo_uso', 'tipo')"
      ],
      "metadata": {
        "id": "1P5cOnfN-rhA"
      },
      "execution_count": 16,
      "outputs": []
    },
    {
      "cell_type": "markdown",
      "source": [
        "## Análisando os valores nulos e retirando colunas desnecessárias"
      ],
      "metadata": {
        "id": "uYNi7OPjAHty"
      }
    },
    {
      "cell_type": "code",
      "source": [
        "from pyspark.sql import functions as f"
      ],
      "metadata": {
        "id": "A2jo37vD8l3L"
      },
      "execution_count": 17,
      "outputs": []
    },
    {
      "cell_type": "code",
      "source": [
        "valores_nulos = dados.drop('caracteristicas')"
      ],
      "metadata": {
        "id": "x9Pu92eL9gAp"
      },
      "execution_count": 18,
      "outputs": []
    },
    {
      "cell_type": "markdown",
      "source": [
        "### Comparação de valores iguais entre area_total e area_util"
      ],
      "metadata": {
        "id": "nwVLOLnNV1jr"
      }
    },
    {
      "cell_type": "code",
      "source": [
        "valores_nulos\\\n",
        "    .select(f.count(f.when(valores_nulos.area_total == valores_nulos.area_util, True)).alias('valores_iguais'))\\\n",
        "    .show()"
      ],
      "metadata": {
        "colab": {
          "base_uri": "https://localhost:8080/"
        },
        "id": "jYPjVGkyRsCr",
        "outputId": "a5ba8a2f-96d7-4eb8-ee5e-5adc3fdd6aa4"
      },
      "execution_count": 19,
      "outputs": [
        {
          "output_type": "stream",
          "name": "stdout",
          "text": [
            "+--------------+\n",
            "|valores_iguais|\n",
            "+--------------+\n",
            "|         55384|\n",
            "+--------------+\n",
            "\n"
          ]
        }
      ]
    },
    {
      "cell_type": "markdown",
      "source": [
        "area_total contém um número alto de dados nulos"
      ],
      "metadata": {
        "id": "Pst355gE0Kfv"
      }
    },
    {
      "cell_type": "code",
      "source": [
        "valores_nulos\\\n",
        "    .select([f.count(f.when(f.isnan(c) | f.isnull(c), True)).alias(c) for c in valores_nulos.columns])\\\n",
        "    .show()"
      ],
      "metadata": {
        "colab": {
          "base_uri": "https://localhost:8080/"
        },
        "id": "FRDmmkgz4ZCi",
        "outputId": "fb1df6f8-6d30-4d80-d36b-a1621d534c5f"
      },
      "execution_count": 20,
      "outputs": [
        {
          "output_type": "stream",
          "name": "stdout",
          "text": [
            "+---+-----+----------+---------+---------+-------+------+----+------+----+----------+----+-----+\n",
            "| id|andar|area_total|area_util|banheiros|quartos|suites|vaga|bairro|zona|condominio|iptu|valor|\n",
            "+---+-----+----------+---------+---------+-------+------+----+------+----+----------+----+-----+\n",
            "|  0|    0|      9194|        0|        0|      0|  5554|3017|     0|   0|      2371|7199|    0|\n",
            "+---+-----+----------+---------+---------+-------+------+----+------+----+----------+----+-----+\n",
            "\n"
          ]
        }
      ]
    },
    {
      "cell_type": "markdown",
      "source": [
        "### Verificando coluna bairro"
      ],
      "metadata": {
        "id": "E89QKGncV8vB"
      }
    },
    {
      "cell_type": "markdown",
      "source": [
        "Número de dados distintos"
      ],
      "metadata": {
        "id": "TREsG3Sf0a96"
      }
    },
    {
      "cell_type": "code",
      "source": [
        "dados\\\n",
        "    .select('bairro')\\\n",
        "    .distinct()\\\n",
        "    .count()"
      ],
      "metadata": {
        "colab": {
          "base_uri": "https://localhost:8080/"
        },
        "id": "YKlkqbKIUJoT",
        "outputId": "8f593934-7ade-4a8c-ccc8-4f0f006106ba"
      },
      "execution_count": 21,
      "outputs": [
        {
          "output_type": "execute_result",
          "data": {
            "text/plain": [
              "154"
            ]
          },
          "metadata": {},
          "execution_count": 21
        }
      ]
    },
    {
      "cell_type": "markdown",
      "source": [
        "Dados que menos aparecem"
      ],
      "metadata": {
        "id": "88yKpDxI0e7l"
      }
    },
    {
      "cell_type": "code",
      "source": [
        "dados\\\n",
        "    .groupBy('bairro')\\\n",
        "    .count()\\\n",
        "    .orderBy('count')\\\n",
        "    .show(5)"
      ],
      "metadata": {
        "colab": {
          "base_uri": "https://localhost:8080/"
        },
        "id": "Kj-BGMi_WCQT",
        "outputId": "45008303-311a-4632-eff4-21f2d3101336"
      },
      "execution_count": 22,
      "outputs": [
        {
          "output_type": "stream",
          "name": "stdout",
          "text": [
            "+----------------+-----+\n",
            "|          bairro|count|\n",
            "+----------------+-----+\n",
            "|    Barros Filho|    1|\n",
            "|Engenho do Porto|    1|\n",
            "|      Grande Rio|    1|\n",
            "|      Manguinhos|    1|\n",
            "|Parque da Matriz|    1|\n",
            "+----------------+-----+\n",
            "only showing top 5 rows\n",
            "\n"
          ]
        }
      ]
    },
    {
      "cell_type": "markdown",
      "source": [
        "Dados que mais aparecem"
      ],
      "metadata": {
        "id": "QYkDfyRo0nXI"
      }
    },
    {
      "cell_type": "code",
      "source": [
        "dados\\\n",
        "    .groupBy('bairro')\\\n",
        "    .count()\\\n",
        "    .orderBy('count', ascending = False)\\\n",
        "    .show(5)"
      ],
      "metadata": {
        "colab": {
          "base_uri": "https://localhost:8080/"
        },
        "id": "Y6R6cuVAWflF",
        "outputId": "d29043fc-a79e-4f2d-b822-ca37d7115023"
      },
      "execution_count": 23,
      "outputs": [
        {
          "output_type": "stream",
          "name": "stdout",
          "text": [
            "+--------------------+-----+\n",
            "|              bairro|count|\n",
            "+--------------------+-----+\n",
            "|     Barra da Tijuca|12788|\n",
            "|Recreio dos Bande...| 7793|\n",
            "|          Copacabana| 6784|\n",
            "|         Jacarepaguá| 4437|\n",
            "|              Tijuca| 3638|\n",
            "+--------------------+-----+\n",
            "only showing top 5 rows\n",
            "\n"
          ]
        }
      ]
    },
    {
      "cell_type": "markdown",
      "source": [
        "- area_total retirado por ser muito parecida com area_util e conter muitos valores nulos\n",
        "- bairro retirado por ter valores muito diferentes, alguns com muitos registros e outros com quase nenhum"
      ],
      "metadata": {
        "id": "7K6EQzqc0pdt"
      }
    },
    {
      "cell_type": "code",
      "source": [
        "dados = dados.drop('area_total', 'bairro')"
      ],
      "metadata": {
        "id": "m3gm0PJh5CM4"
      },
      "execution_count": 24,
      "outputs": []
    },
    {
      "cell_type": "code",
      "source": [
        "dados.printSchema()"
      ],
      "metadata": {
        "colab": {
          "base_uri": "https://localhost:8080/"
        },
        "id": "NC_4KktH_uzZ",
        "outputId": "f69ede18-0669-4ab0-c2cd-94a12881dbc7"
      },
      "execution_count": 25,
      "outputs": [
        {
          "output_type": "stream",
          "name": "stdout",
          "text": [
            "root\n",
            " |-- id: string (nullable = true)\n",
            " |-- andar: long (nullable = true)\n",
            " |-- area_util: string (nullable = true)\n",
            " |-- banheiros: long (nullable = true)\n",
            " |-- caracteristicas: array (nullable = true)\n",
            " |    |-- element: string (containsNull = true)\n",
            " |-- quartos: long (nullable = true)\n",
            " |-- suites: long (nullable = true)\n",
            " |-- vaga: long (nullable = true)\n",
            " |-- zona: string (nullable = true)\n",
            " |-- condominio: string (nullable = true)\n",
            " |-- iptu: string (nullable = true)\n",
            " |-- valor: string (nullable = true)\n",
            "\n"
          ]
        }
      ]
    },
    {
      "cell_type": "markdown",
      "source": [
        "# Convertendo os Tipos de Colunas"
      ],
      "metadata": {
        "id": "mqJnbmZaC9fF"
      }
    },
    {
      "cell_type": "code",
      "source": [
        "from pyspark.sql.types import DoubleType, IntegerType"
      ],
      "metadata": {
        "id": "8BTTTFGp_xVD"
      },
      "execution_count": 26,
      "outputs": []
    },
    {
      "cell_type": "code",
      "source": [
        "dados.printSchema()"
      ],
      "metadata": {
        "colab": {
          "base_uri": "https://localhost:8080/"
        },
        "id": "kRUMw-k3EfvM",
        "outputId": "e14a1ac5-7a59-489c-e839-a5a7c0485814"
      },
      "execution_count": 27,
      "outputs": [
        {
          "output_type": "stream",
          "name": "stdout",
          "text": [
            "root\n",
            " |-- id: string (nullable = true)\n",
            " |-- andar: long (nullable = true)\n",
            " |-- area_util: string (nullable = true)\n",
            " |-- banheiros: long (nullable = true)\n",
            " |-- caracteristicas: array (nullable = true)\n",
            " |    |-- element: string (containsNull = true)\n",
            " |-- quartos: long (nullable = true)\n",
            " |-- suites: long (nullable = true)\n",
            " |-- vaga: long (nullable = true)\n",
            " |-- zona: string (nullable = true)\n",
            " |-- condominio: string (nullable = true)\n",
            " |-- iptu: string (nullable = true)\n",
            " |-- valor: string (nullable = true)\n",
            "\n"
          ]
        }
      ]
    },
    {
      "cell_type": "code",
      "source": [
        "dados = dados\\\n",
        "    .withColumn('andar', dados['andar'].cast(IntegerType()))\\\n",
        "    .withColumn('banheiros', dados['banheiros'].cast(IntegerType()))\\\n",
        "    .withColumn('suites', dados['suites'].cast(IntegerType()))\\\n",
        "    .withColumn('quartos', dados['quartos'].cast(IntegerType()))\\\n",
        "    .withColumn('area_util', dados['area_util'].cast(DoubleType()))\\\n",
        "    .withColumn('condominio', dados['condominio'].cast(DoubleType()))\\\n",
        "    .withColumn('iptu', dados['iptu'].cast(DoubleType()))\\\n",
        "    .withColumn('valor', dados['valor'].cast(DoubleType()))"
      ],
      "metadata": {
        "id": "vWC9MEYCGyzb"
      },
      "execution_count": 28,
      "outputs": []
    },
    {
      "cell_type": "markdown",
      "source": [
        "# Tratamento dos Dados nulos e NaN's"
      ],
      "metadata": {
        "id": "oCeyvRupIB26"
      }
    },
    {
      "cell_type": "markdown",
      "source": [
        "Tranformação das listas vazias em valores nulos"
      ],
      "metadata": {
        "id": "k8qnyHE60xwW"
      }
    },
    {
      "cell_type": "code",
      "source": [
        "dados = dados.withColumn('caracteristicas', f.when((f.size(f.col('caracteristicas')) == 0), f.lit(None)).otherwise(f.col('caracteristicas')))"
      ],
      "metadata": {
        "id": "DLbtocHdH0NT"
      },
      "execution_count": 29,
      "outputs": []
    },
    {
      "cell_type": "markdown",
      "source": [
        "Dando o valor aos dados nulos e Nan's"
      ],
      "metadata": {
        "id": "cCHYTsR81b6O"
      }
    },
    {
      "cell_type": "code",
      "source": [
        "dados = dados\\\n",
        "    .select('*')\\\n",
        "    .na\\\n",
        "    .fill(0)"
      ],
      "metadata": {
        "id": "vL4bUsdPO8pZ"
      },
      "execution_count": 30,
      "outputs": []
    },
    {
      "cell_type": "markdown",
      "source": [
        "Retirado linhas sem valores da coluna zona"
      ],
      "metadata": {
        "id": "ivSHTdA41eHs"
      }
    },
    {
      "cell_type": "code",
      "source": [
        "dados = dados\\\n",
        "    .where(f.col('zona') != '')"
      ],
      "metadata": {
        "id": "hnHyl3TjHly6"
      },
      "execution_count": 31,
      "outputs": []
    },
    {
      "cell_type": "markdown",
      "source": [
        "# Variáveis Dummy"
      ],
      "metadata": {
        "id": "JY2PEJDgDMI4"
      }
    },
    {
      "cell_type": "code",
      "source": [
        "dados.show(5)"
      ],
      "metadata": {
        "id": "mzOsxlP8Qu2n",
        "colab": {
          "base_uri": "https://localhost:8080/"
        },
        "outputId": "5ca80f88-4eff-47d0-f1d8-88bc28837ae7"
      },
      "execution_count": 32,
      "outputs": [
        {
          "output_type": "stream",
          "name": "stdout",
          "text": [
            "+--------------------+-----+---------+---------+--------------------+-------+------+----+------------+----------+------+--------+\n",
            "|                  id|andar|area_util|banheiros|     caracteristicas|quartos|suites|vaga|        zona|condominio|  iptu|   valor|\n",
            "+--------------------+-----+---------+---------+--------------------+-------+------+----+------------+----------+------+--------+\n",
            "|03a386b6-7ab8-4ef...|    0|     43.0|        1|[Churrasqueira, A...|      2|     0|   1|  Zona Oeste|     285.0|   0.0| 22999.0|\n",
            "|1fe78d41-b8e0-4d2...|    0|     44.0|        1|                null|      2|     0|   0|  Zona Norte|     170.0|   0.0|110000.0|\n",
            "|1fa1c1e5-e98c-433...|    4|     55.0|        1|                null|      2|     0|   1|  Zona Oeste|       0.0|   0.0|115000.0|\n",
            "|a6ab01ae-3d40-40e...|    2|     55.0|        1|                null|      2|     0|   0|  Zona Norte|       0.0|   0.0|115000.0|\n",
            "|1d8ff7a2-16bd-4e3...|    0|     50.0|        1|                null|      1|     0|   0|Zona Central|    1300.0|2679.0|125000.0|\n",
            "+--------------------+-----+---------+---------+--------------------+-------+------+----+------------+----------+------+--------+\n",
            "only showing top 5 rows\n",
            "\n"
          ]
        }
      ]
    },
    {
      "cell_type": "markdown",
      "source": [
        "Separando a coluna caracteristicas"
      ],
      "metadata": {
        "id": "HevK8-471h8w"
      }
    },
    {
      "cell_type": "code",
      "source": [
        "caracteristicas = dados.select(dados.id, f.explode(dados.caracteristicas))\n",
        "caracteristicas.show(5)"
      ],
      "metadata": {
        "colab": {
          "base_uri": "https://localhost:8080/"
        },
        "id": "cwh8XQg7DQ90",
        "outputId": "d06f36b3-3b9f-4efd-e48d-9ecbf5139456"
      },
      "execution_count": 33,
      "outputs": [
        {
          "output_type": "stream",
          "name": "stdout",
          "text": [
            "+--------------------+------------------+\n",
            "|                  id|               col|\n",
            "+--------------------+------------------+\n",
            "|03a386b6-7ab8-4ef...|     Churrasqueira|\n",
            "|03a386b6-7ab8-4ef...|          Academia|\n",
            "|03a386b6-7ab8-4ef...|        Playground|\n",
            "|03a386b6-7ab8-4ef...|   Salão de festas|\n",
            "|03a386b6-7ab8-4ef...|Condomínio fechado|\n",
            "+--------------------+------------------+\n",
            "only showing top 5 rows\n",
            "\n"
          ]
        }
      ]
    },
    {
      "cell_type": "code",
      "source": [
        "caracteristicas\\\n",
        "    .groupBy('col')\\\n",
        "    .count()\\\n",
        "    .show()"
      ],
      "metadata": {
        "colab": {
          "base_uri": "https://localhost:8080/"
        },
        "id": "iTgInl2wMBfW",
        "outputId": "f80c6fd2-9a7f-4238-9617-e10209fb1593"
      },
      "execution_count": 34,
      "outputs": [
        {
          "output_type": "stream",
          "name": "stdout",
          "text": [
            "+------------------+-----+\n",
            "|               col|count|\n",
            "+------------------+-----+\n",
            "|Condomínio fechado|34980|\n",
            "|        Playground|31854|\n",
            "| Portão eletrônico|29323|\n",
            "|           Piscina|33235|\n",
            "|Animais permitidos|30617|\n",
            "|      Portaria 24h|30360|\n",
            "|          Elevador|43023|\n",
            "|          Academia|27641|\n",
            "|   Salão de festas|33582|\n",
            "|     Churrasqueira|31737|\n",
            "+------------------+-----+\n",
            "\n"
          ]
        }
      ]
    },
    {
      "cell_type": "code",
      "source": [
        "caracteristicas = caracteristicas\\\n",
        "    .groupBy('id')\\\n",
        "    .pivot('col')\\\n",
        "    .agg(f.lit(1))\\\n",
        "    .na\\\n",
        "    .fill(0)"
      ],
      "metadata": {
        "id": "5qB7rxGQIVv0"
      },
      "execution_count": 35,
      "outputs": []
    },
    {
      "cell_type": "code",
      "source": [
        "zona = dados\\\n",
        "  .groupBy('id')\\\n",
        "  .pivot('zona')\\\n",
        "  .agg(f.lit(1))\\\n",
        "  .na\\\n",
        "  .fill(0)"
      ],
      "metadata": {
        "id": "IxcQUlNNLjM0"
      },
      "execution_count": 36,
      "outputs": []
    },
    {
      "cell_type": "code",
      "source": [
        "dados = dados\\\n",
        "    .join(zona, 'id', how = 'inner')\\\n",
        "    .join(caracteristicas, 'id', how = 'inner')"
      ],
      "metadata": {
        "id": "K6_lLojJL9Ht"
      },
      "execution_count": 37,
      "outputs": []
    },
    {
      "cell_type": "code",
      "source": [
        "dados = dados.drop('zona', 'caracteristicas', 'id')"
      ],
      "metadata": {
        "id": "hqSNynufPECW"
      },
      "execution_count": 38,
      "outputs": []
    },
    {
      "cell_type": "code",
      "source": [
        "dados.printSchema()"
      ],
      "metadata": {
        "colab": {
          "base_uri": "https://localhost:8080/"
        },
        "id": "95WIX0rNGuJw",
        "outputId": "65f8734c-d084-4958-985c-858fde8a3d88"
      },
      "execution_count": 39,
      "outputs": [
        {
          "output_type": "stream",
          "name": "stdout",
          "text": [
            "root\n",
            " |-- andar: integer (nullable = true)\n",
            " |-- area_util: double (nullable = false)\n",
            " |-- banheiros: integer (nullable = true)\n",
            " |-- quartos: integer (nullable = true)\n",
            " |-- suites: integer (nullable = true)\n",
            " |-- vaga: long (nullable = true)\n",
            " |-- condominio: double (nullable = false)\n",
            " |-- iptu: double (nullable = false)\n",
            " |-- valor: double (nullable = false)\n",
            " |-- Zona Central: integer (nullable = true)\n",
            " |-- Zona Norte: integer (nullable = true)\n",
            " |-- Zona Oeste: integer (nullable = true)\n",
            " |-- Zona Sul: integer (nullable = true)\n",
            " |-- Academia: integer (nullable = true)\n",
            " |-- Animais permitidos: integer (nullable = true)\n",
            " |-- Churrasqueira: integer (nullable = true)\n",
            " |-- Condomínio fechado: integer (nullable = true)\n",
            " |-- Elevador: integer (nullable = true)\n",
            " |-- Piscina: integer (nullable = true)\n",
            " |-- Playground: integer (nullable = true)\n",
            " |-- Portaria 24h: integer (nullable = true)\n",
            " |-- Portão eletrônico: integer (nullable = true)\n",
            " |-- Salão de festas: integer (nullable = true)\n",
            "\n"
          ]
        }
      ]
    },
    {
      "cell_type": "markdown",
      "source": [
        "# Salvando em formato Parquet"
      ],
      "metadata": {
        "id": "2M3Y5-XEPYyZ"
      }
    },
    {
      "cell_type": "markdown",
      "source": [
        "No dataset há colunas com acento e letras maiusculas em seus nomes"
      ],
      "metadata": {
        "id": "0Gy_zu-q1lRo"
      }
    },
    {
      "cell_type": "code",
      "source": [
        "nomes_antigos = dados.columns\n",
        "nomes_antigos"
      ],
      "metadata": {
        "colab": {
          "base_uri": "https://localhost:8080/"
        },
        "id": "5zMxWdqEOUlC",
        "outputId": "34e74286-3f41-4552-d763-bb73c022443c"
      },
      "execution_count": 40,
      "outputs": [
        {
          "output_type": "execute_result",
          "data": {
            "text/plain": [
              "['andar',\n",
              " 'area_util',\n",
              " 'banheiros',\n",
              " 'quartos',\n",
              " 'suites',\n",
              " 'vaga',\n",
              " 'condominio',\n",
              " 'iptu',\n",
              " 'valor',\n",
              " 'Zona Central',\n",
              " 'Zona Norte',\n",
              " 'Zona Oeste',\n",
              " 'Zona Sul',\n",
              " 'Academia',\n",
              " 'Animais permitidos',\n",
              " 'Churrasqueira',\n",
              " 'Condomínio fechado',\n",
              " 'Elevador',\n",
              " 'Piscina',\n",
              " 'Playground',\n",
              " 'Portaria 24h',\n",
              " 'Portão eletrônico',\n",
              " 'Salão de festas']"
            ]
          },
          "metadata": {},
          "execution_count": 40
        }
      ]
    },
    {
      "cell_type": "code",
      "source": [
        "nomes_novos = [\n",
        "    'andar',\n",
        "    'area_util',\n",
        "    'banheiros',\n",
        "    'quartos',\n",
        "    'suites',\n",
        "    'vaga',\n",
        "    'condominio',\n",
        "    'iptu',\n",
        "    'valor',\n",
        "    'zona_central',\n",
        "    'zona_norte',\n",
        "    'zona_oeste',\n",
        "    'zona_sul',\n",
        "    'academia',\n",
        "    'animais_permitidos',\n",
        "    'churrasqueira',\n",
        "    'condominio_fechado',\n",
        "    'elevador',\n",
        "    'piscina',\n",
        "    'playground',\n",
        "    'portaria_24h',\n",
        "    'portao_eletronico',\n",
        "    'salao_de_festas'\n",
        "]"
      ],
      "metadata": {
        "id": "1QPkE7QbOowg"
      },
      "execution_count": 41,
      "outputs": []
    },
    {
      "cell_type": "code",
      "source": [
        "colunas_nomes = zip(nomes_antigos, nomes_novos)"
      ],
      "metadata": {
        "id": "ePsjTvpwbLRm"
      },
      "execution_count": 42,
      "outputs": []
    },
    {
      "cell_type": "code",
      "source": [
        "for antigos, novos in colunas_nomes:\n",
        "  dados = dados.withColumnRenamed(antigos, novos)"
      ],
      "metadata": {
        "id": "IrqaCT_PaHvB"
      },
      "execution_count": 43,
      "outputs": []
    },
    {
      "cell_type": "code",
      "source": [
        "dados.columns"
      ],
      "metadata": {
        "colab": {
          "base_uri": "https://localhost:8080/"
        },
        "id": "pm-H99ffaSVU",
        "outputId": "9b27fe78-2a75-449e-9160-0f366c66044b"
      },
      "execution_count": 44,
      "outputs": [
        {
          "output_type": "execute_result",
          "data": {
            "text/plain": [
              "['andar',\n",
              " 'area_util',\n",
              " 'banheiros',\n",
              " 'quartos',\n",
              " 'suites',\n",
              " 'vaga',\n",
              " 'condominio',\n",
              " 'iptu',\n",
              " 'valor',\n",
              " 'zona_central',\n",
              " 'zona_norte',\n",
              " 'zona_oeste',\n",
              " 'zona_sul',\n",
              " 'academia',\n",
              " 'animais_permitidos',\n",
              " 'churrasqueira',\n",
              " 'condominio_fechado',\n",
              " 'elevador',\n",
              " 'piscina',\n",
              " 'playground',\n",
              " 'portaria_24h',\n",
              " 'portao_eletronico',\n",
              " 'salao_de_festas']"
            ]
          },
          "metadata": {},
          "execution_count": 44
        }
      ]
    },
    {
      "cell_type": "code",
      "source": [
        "dados.write.parquet(\n",
        "    path = '/content/drive/MyDrive/insightPlaces2/parquet',\n",
        "    mode = 'overwrite'\n",
        ")"
      ],
      "metadata": {
        "id": "IHMC8UqsbhSH"
      },
      "execution_count": 45,
      "outputs": []
    },
    {
      "cell_type": "markdown",
      "source": [
        "# Vetorização dos Dados"
      ],
      "metadata": {
        "id": "6rXxJjj-PRRO"
      }
    },
    {
      "cell_type": "code",
      "source": [
        "dados = spark.read.parquet(\n",
        "    '/content/drive/MyDrive/insightPlaces2/parquet'\n",
        ")"
      ],
      "metadata": {
        "id": "FD-z0UGnQxLo"
      },
      "execution_count": 46,
      "outputs": []
    },
    {
      "cell_type": "code",
      "source": [
        "from pyspark.ml.feature import VectorAssembler"
      ],
      "metadata": {
        "id": "w2gDkZC5ccLC"
      },
      "execution_count": 47,
      "outputs": []
    },
    {
      "cell_type": "code",
      "source": [
        "dados = dados.withColumnRenamed('valor', 'label')"
      ],
      "metadata": {
        "id": "uLDXieN9QmRQ"
      },
      "execution_count": 48,
      "outputs": []
    },
    {
      "cell_type": "code",
      "source": [
        "dados.columns"
      ],
      "metadata": {
        "colab": {
          "base_uri": "https://localhost:8080/"
        },
        "id": "3UmYadZORYfc",
        "outputId": "f3b2ac0e-9e23-4c12-cf59-4101fcf5c1a2"
      },
      "execution_count": 49,
      "outputs": [
        {
          "output_type": "execute_result",
          "data": {
            "text/plain": [
              "['andar',\n",
              " 'area_util',\n",
              " 'banheiros',\n",
              " 'quartos',\n",
              " 'suites',\n",
              " 'vaga',\n",
              " 'condominio',\n",
              " 'iptu',\n",
              " 'label',\n",
              " 'zona_central',\n",
              " 'zona_norte',\n",
              " 'zona_oeste',\n",
              " 'zona_sul',\n",
              " 'academia',\n",
              " 'animais_permitidos',\n",
              " 'churrasqueira',\n",
              " 'condominio_fechado',\n",
              " 'elevador',\n",
              " 'piscina',\n",
              " 'playground',\n",
              " 'portaria_24h',\n",
              " 'portao_eletronico',\n",
              " 'salao_de_festas']"
            ]
          },
          "metadata": {},
          "execution_count": 49
        }
      ]
    },
    {
      "cell_type": "code",
      "source": [
        "X = [\n",
        "    'andar',\n",
        "    'area_util',\n",
        "    'banheiros',\n",
        "    'quartos',\n",
        "    'suites',\n",
        "    'vaga',\n",
        "    'condominio',\n",
        "    'iptu',\n",
        "    'zona_central',\n",
        "    'zona_norte',\n",
        "    'zona_oeste',\n",
        "    'zona_sul',\n",
        "    'academia',\n",
        "    'animais_permitidos',\n",
        "    'churrasqueira',\n",
        "    'condominio_fechado',\n",
        "    'elevador',\n",
        "    'piscina',\n",
        "    'playground',\n",
        "    'portaria_24h',\n",
        "    'portao_eletronico',\n",
        "    'salao_de_festas'\n",
        "]"
      ],
      "metadata": {
        "id": "UH1LI3ISRaqk"
      },
      "execution_count": 50,
      "outputs": []
    },
    {
      "cell_type": "code",
      "source": [
        "assembler = VectorAssembler(inputCols = X, outputCol = 'features')"
      ],
      "metadata": {
        "id": "hwIfiODzR2sG"
      },
      "execution_count": 51,
      "outputs": []
    },
    {
      "cell_type": "code",
      "source": [
        "dados_prep = assembler.transform(dados).select('features', 'label')"
      ],
      "metadata": {
        "id": "b12uTqamSeGt"
      },
      "execution_count": 52,
      "outputs": []
    },
    {
      "cell_type": "code",
      "source": [
        "dados_prep.show(10, truncate = False)"
      ],
      "metadata": {
        "colab": {
          "base_uri": "https://localhost:8080/"
        },
        "id": "lCAhf9UES0Su",
        "outputId": "1515ebae-c8fc-4d7f-9682-08cf64acc70e"
      },
      "execution_count": 53,
      "outputs": [
        {
          "output_type": "stream",
          "name": "stdout",
          "text": [
            "+------------------------------------------------------------------------------------------------+--------+\n",
            "|features                                                                                        |label   |\n",
            "+------------------------------------------------------------------------------------------------+--------+\n",
            "|[0.0,43.0,1.0,2.0,0.0,1.0,285.0,0.0,0.0,0.0,1.0,0.0,1.0,1.0,1.0,1.0,0.0,0.0,1.0,1.0,1.0,1.0]    |22999.0 |\n",
            "|(22,[0,1,2,3,5,6,10,13,14,15,17,19,21],[2.0,47.0,1.0,2.0,1.0,380.0,1.0,1.0,1.0,1.0,1.0,1.0,1.0])|138000.0|\n",
            "|(22,[1,2,3,5,6,10,14,15,17],[45.0,1.0,2.0,1.0,356.0,1.0,1.0,1.0,1.0])                           |140000.0|\n",
            "|[3.0,48.0,1.0,2.0,0.0,1.0,0.0,0.0,0.0,0.0,1.0,0.0,0.0,1.0,1.0,1.0,0.0,1.0,1.0,1.0,1.0,1.0]      |150000.0|\n",
            "|[9.0,55.0,1.0,2.0,0.0,1.0,780.0,660.0,0.0,0.0,1.0,0.0,0.0,1.0,1.0,1.0,1.0,0.0,0.0,1.0,1.0,1.0]  |160000.0|\n",
            "|(22,[1,2,3,5,6,10,21],[70.0,2.0,2.0,1.0,420000.0,1.0,1.0])                                      |159000.0|\n",
            "|(22,[0,1,2,3,6,7,9,13,15],[2.0,48.0,1.0,1.0,10.0,10.0,1.0,1.0,1.0])                             |170000.0|\n",
            "|[5.0,40.0,1.0,2.0,0.0,1.0,150.0,120.0,0.0,1.0,0.0,0.0,0.0,1.0,1.0,1.0,0.0,0.0,1.0,1.0,1.0,1.0]  |189000.0|\n",
            "|(22,[0,1,2,3,5,6,7,9,13,15,20],[2.0,50.0,1.0,1.0,1.0,650.0,1.0,1.0,1.0,1.0,1.0])                |185000.0|\n",
            "|[5.0,45.0,1.0,2.0,1.0,0.0,150.0,40.0,0.0,0.0,1.0,0.0,1.0,1.0,1.0,1.0,1.0,0.0,1.0,1.0,1.0,1.0]   |199000.0|\n",
            "+------------------------------------------------------------------------------------------------+--------+\n",
            "only showing top 10 rows\n",
            "\n"
          ]
        }
      ]
    },
    {
      "cell_type": "markdown",
      "source": [
        "# Análise de Correlação"
      ],
      "metadata": {
        "id": "03XcmghDUg6j"
      }
    },
    {
      "cell_type": "code",
      "source": [
        "from pyspark.ml.stat import Correlation\n",
        "import pandas as pd"
      ],
      "metadata": {
        "id": "aofjmGXxTIQ9"
      },
      "execution_count": 54,
      "outputs": []
    },
    {
      "cell_type": "code",
      "source": [
        "correlacao = Correlation.corr(dados_prep, 'features').collect()[0][0]"
      ],
      "metadata": {
        "id": "_wAtDfakUt7r"
      },
      "execution_count": 55,
      "outputs": []
    },
    {
      "cell_type": "code",
      "source": [
        "dataframe_correlacao = pd.DataFrame(correlacao.toArray(), columns = X, index = X)"
      ],
      "metadata": {
        "id": "aQAS8cV2Va9i"
      },
      "execution_count": 56,
      "outputs": []
    },
    {
      "cell_type": "code",
      "source": [
        "import matplotlib.pyplot as plt\n",
        "import seaborn as sns"
      ],
      "metadata": {
        "id": "e8UVPMlVVwjo"
      },
      "execution_count": 57,
      "outputs": []
    },
    {
      "cell_type": "code",
      "source": [
        "plt.figure(figsize = (12,10))\n",
        "paleta = sns.color_palette('light:salmon', as_cmap = True)\n",
        "sns.heatmap(dataframe_correlacao.round(1), annot = True, cmap = paleta)"
      ],
      "metadata": {
        "colab": {
          "base_uri": "https://localhost:8080/",
          "height": 706
        },
        "id": "utoOlpfQV1WG",
        "outputId": "4a85e808-6fb2-4c83-aeea-8d795152974a"
      },
      "execution_count": 58,
      "outputs": [
        {
          "output_type": "execute_result",
          "data": {
            "text/plain": [
              "<matplotlib.axes._subplots.AxesSubplot at 0x7fb2193752e0>"
            ]
          },
          "metadata": {},
          "execution_count": 58
        },
        {
          "output_type": "display_data",
          "data": {
            "text/plain": [
              "<Figure size 864x720 with 2 Axes>"
            ],
            "image/png": "[encoded data removed]"
          },
          "metadata": {
            "needs_background": "light"
          }
        }
      ]
    },
    {
      "cell_type": "markdown",
      "source": [
        "# Regressão Linear"
      ],
      "metadata": {
        "id": "XYbRV_NuWmV7"
      }
    },
    {
      "cell_type": "markdown",
      "source": [
        "## Ajuste e Previsão"
      ],
      "metadata": {
        "id": "jisDEmazanzU"
      }
    },
    {
      "cell_type": "code",
      "source": [
        "from pyspark.ml.regression import LinearRegression"
      ],
      "metadata": {
        "id": "k5uyvOt4V6nN"
      },
      "execution_count": 59,
      "outputs": []
    },
    {
      "cell_type": "code",
      "source": [
        "treino, teste = dados_prep.randomSplit([0.7, 0.3], seed = 101)"
      ],
      "metadata": {
        "id": "_tDU_Dj6X05z"
      },
      "execution_count": 60,
      "outputs": []
    },
    {
      "cell_type": "code",
      "source": [
        "treino.count()"
      ],
      "metadata": {
        "colab": {
          "base_uri": "https://localhost:8080/"
        },
        "id": "dPPqrhxAYB5a",
        "outputId": "3674a022-a3eb-4bec-aaf6-d1d697e20712"
      },
      "execution_count": 61,
      "outputs": [
        {
          "output_type": "execute_result",
          "data": {
            "text/plain": [
              "37599"
            ]
          },
          "metadata": {},
          "execution_count": 61
        }
      ]
    },
    {
      "cell_type": "code",
      "source": [
        "teste.count()"
      ],
      "metadata": {
        "colab": {
          "base_uri": "https://localhost:8080/"
        },
        "id": "2UeDZ_QFYJRV",
        "outputId": "b74e4def-6972-463a-c868-9f3c42c86f71"
      },
      "execution_count": 62,
      "outputs": [
        {
          "output_type": "execute_result",
          "data": {
            "text/plain": [
              "16221"
            ]
          },
          "metadata": {},
          "execution_count": 62
        }
      ]
    },
    {
      "cell_type": "code",
      "source": [
        "lr = LinearRegression()"
      ],
      "metadata": {
        "id": "27zaX8ahYKlK"
      },
      "execution_count": 63,
      "outputs": []
    },
    {
      "cell_type": "code",
      "source": [
        "modelo_lr = lr.fit(treino)"
      ],
      "metadata": {
        "id": "LEKu8RwqYPfr"
      },
      "execution_count": 64,
      "outputs": []
    },
    {
      "cell_type": "code",
      "source": [
        "modelo_lr_treino = modelo_lr.transform(treino)"
      ],
      "metadata": {
        "id": "pYwYDN8jZWP9"
      },
      "execution_count": 65,
      "outputs": []
    },
    {
      "cell_type": "markdown",
      "source": [
        "## Métricas"
      ],
      "metadata": {
        "id": "Z76ZFcLRZm5Z"
      }
    },
    {
      "cell_type": "code",
      "source": [
        "resumo_treino = modelo_lr.summary"
      ],
      "metadata": {
        "id": "pAgMwm-KZh0r"
      },
      "execution_count": 66,
      "outputs": []
    },
    {
      "cell_type": "code",
      "source": [
        "resumo_treino.r2"
      ],
      "metadata": {
        "colab": {
          "base_uri": "https://localhost:8080/"
        },
        "id": "Z_YjftcvaGam",
        "outputId": "0d82b5f9-30de-49fa-ab85-d80403390855"
      },
      "execution_count": 67,
      "outputs": [
        {
          "output_type": "execute_result",
          "data": {
            "text/plain": [
              "0.6778616127563524"
            ]
          },
          "metadata": {},
          "execution_count": 67
        }
      ]
    },
    {
      "cell_type": "code",
      "source": [
        "resumo_treino.rootMeanSquaredError"
      ],
      "metadata": {
        "colab": {
          "base_uri": "https://localhost:8080/"
        },
        "id": "V14iVH6MaJK4",
        "outputId": "4c9c4cee-cefa-44ac-f627-291fee7037e0"
      },
      "execution_count": 68,
      "outputs": [
        {
          "output_type": "execute_result",
          "data": {
            "text/plain": [
              "852942.1495241502"
            ]
          },
          "metadata": {},
          "execution_count": 68
        }
      ]
    },
    {
      "cell_type": "code",
      "source": [
        "resumo_teste = modelo_lr.evaluate(teste)"
      ],
      "metadata": {
        "id": "bf20M-81aLst"
      },
      "execution_count": 69,
      "outputs": []
    },
    {
      "cell_type": "code",
      "source": [
        "resumo_teste.r2"
      ],
      "metadata": {
        "colab": {
          "base_uri": "https://localhost:8080/"
        },
        "id": "JdbIXRmqaPQc",
        "outputId": "96c9c135-0070-422f-e848-db204ec7a13f"
      },
      "execution_count": 70,
      "outputs": [
        {
          "output_type": "execute_result",
          "data": {
            "text/plain": [
              "0.6658878964719738"
            ]
          },
          "metadata": {},
          "execution_count": 70
        }
      ]
    },
    {
      "cell_type": "code",
      "source": [
        "resumo_teste.rootMeanSquaredError"
      ],
      "metadata": {
        "colab": {
          "base_uri": "https://localhost:8080/"
        },
        "id": "kemgGufOaREi",
        "outputId": "fbcd0cd4-e8f4-4697-8735-326662139cfb"
      },
      "execution_count": 71,
      "outputs": [
        {
          "output_type": "execute_result",
          "data": {
            "text/plain": [
              "859325.2249522866"
            ]
          },
          "metadata": {},
          "execution_count": 71
        }
      ]
    },
    {
      "cell_type": "markdown",
      "source": [
        "## Tabela Resumo Regressão Linear"
      ],
      "metadata": {
        "id": "GjFk4XNnaaUj"
      }
    },
    {
      "cell_type": "code",
      "source": [
        "print('Linear Regression')\n",
        "print(\"=\"*30)\n",
        "print(\"Dados de Treino\")\n",
        "print(\"=\"*30)\n",
        "print(\"R²: %f\" % resumo_treino.r2)\n",
        "print(\"RMSE: %f\" % resumo_treino.rootMeanSquaredError)\n",
        "print(\"\")\n",
        "print(\"=\"*30)\n",
        "print(\"Dados de Teste\")\n",
        "print(\"=\"*30)\n",
        "print(\"R²: %f\" % resumo_teste.r2)\n",
        "print(\"RMSE: %f\" % resumo_teste.rootMeanSquaredError)"
      ],
      "metadata": {
        "colab": {
          "base_uri": "https://localhost:8080/"
        },
        "id": "hbq3yoU_aTeB",
        "outputId": "a9f9578d-abf7-416f-909e-44d85af436a6"
      },
      "execution_count": 72,
      "outputs": [
        {
          "output_type": "stream",
          "name": "stdout",
          "text": [
            "Linear Regression\n",
            "==============================\n",
            "Dados de Treino\n",
            "==============================\n",
            "R²: 0.677862\n",
            "RMSE: 852942.149524\n",
            "\n",
            "==============================\n",
            "Dados de Teste\n",
            "==============================\n",
            "R²: 0.665888\n",
            "RMSE: 859325.224952\n"
          ]
        }
      ]
    },
    {
      "cell_type": "markdown",
      "source": [
        "# Árvore de Decisão - Regressão"
      ],
      "metadata": {
        "id": "ezuRi2BHaqpt"
      }
    },
    {
      "cell_type": "markdown",
      "source": [
        "## Ajuste e Previsão"
      ],
      "metadata": {
        "id": "my7A7rX-dYUw"
      }
    },
    {
      "cell_type": "code",
      "source": [
        "from pyspark.ml.regression import DecisionTreeRegressor"
      ],
      "metadata": {
        "id": "4BjoBXaBaiFM"
      },
      "execution_count": 73,
      "outputs": []
    },
    {
      "cell_type": "code",
      "source": [
        "dtr = DecisionTreeRegressor(seed = 101, maxDepth = 7)"
      ],
      "metadata": {
        "id": "4jscJ1DLdHwT"
      },
      "execution_count": 74,
      "outputs": []
    },
    {
      "cell_type": "code",
      "source": [
        "modelo_dtr = dtr.fit(treino)"
      ],
      "metadata": {
        "id": "gZly0RMNdK_Z"
      },
      "execution_count": 75,
      "outputs": []
    },
    {
      "cell_type": "code",
      "source": [
        "previsoes_dtr_treino = modelo_dtr.transform(treino)"
      ],
      "metadata": {
        "id": "WHEmQSycdMwJ"
      },
      "execution_count": 76,
      "outputs": []
    },
    {
      "cell_type": "markdown",
      "source": [
        "## Métricas"
      ],
      "metadata": {
        "id": "fYHnu6lgdgh2"
      }
    },
    {
      "cell_type": "code",
      "source": [
        "from pyspark.ml.evaluation import RegressionEvaluator"
      ],
      "metadata": {
        "id": "igZio1f8dVV-"
      },
      "execution_count": 77,
      "outputs": []
    },
    {
      "cell_type": "code",
      "source": [
        "evaluator = RegressionEvaluator()\n",
        "\n",
        "print(evaluator.evaluate(previsoes_dtr_treino, {evaluator.metricName: \"r2\"}))\n",
        "print(evaluator.evaluate(previsoes_dtr_treino, {evaluator.metricName: \"rmse\"}))"
      ],
      "metadata": {
        "colab": {
          "base_uri": "https://localhost:8080/"
        },
        "id": "OEQUaMCjdrKN",
        "outputId": "32576b70-67ff-4188-ad41-2efad600b3f8"
      },
      "execution_count": 78,
      "outputs": [
        {
          "output_type": "stream",
          "name": "stdout",
          "text": [
            "0.816297999745512\n",
            "644102.9360842329\n"
          ]
        }
      ]
    },
    {
      "cell_type": "code",
      "source": [
        "previsoes_dtr_teste = modelo_dtr.transform(teste)"
      ],
      "metadata": {
        "id": "2a5DAnqDdwcn"
      },
      "execution_count": 79,
      "outputs": []
    },
    {
      "cell_type": "markdown",
      "source": [
        "## Tabela Resumo Árvore de Decisão"
      ],
      "metadata": {
        "id": "ER_dlAuzd_8c"
      }
    },
    {
      "cell_type": "code",
      "source": [
        "print('Decision Tree Regression')\n",
        "print(\"=\"*30)\n",
        "print(\"Dados de Treino\")\n",
        "print(\"=\"*30)\n",
        "print(\"R²: %f\" % evaluator.evaluate(previsoes_dtr_treino, {evaluator.metricName: \"r2\"}))\n",
        "print(\"RMSE: %f\" % evaluator.evaluate(previsoes_dtr_treino, {evaluator.metricName: \"rmse\"}))\n",
        "print(\"\")\n",
        "print(\"=\"*30)\n",
        "print(\"Dados de Teste\")\n",
        "print(\"=\"*30)\n",
        "print(\"R²: %f\" % evaluator.evaluate(previsoes_dtr_teste, {evaluator.metricName: \"r2\"}))\n",
        "print(\"RMSE: %f\" % evaluator.evaluate(previsoes_dtr_teste, {evaluator.metricName: \"rmse\"}))"
      ],
      "metadata": {
        "colab": {
          "base_uri": "https://localhost:8080/"
        },
        "id": "qgKRplltd716",
        "outputId": "5b2b32f3-37d2-4c46-adc5-996fb99bcb88"
      },
      "execution_count": 80,
      "outputs": [
        {
          "output_type": "stream",
          "name": "stdout",
          "text": [
            "Decision Tree Regression\n",
            "==============================\n",
            "Dados de Treino\n",
            "==============================\n",
            "R²: 0.816298\n",
            "RMSE: 644102.936084\n",
            "\n",
            "==============================\n",
            "Dados de Teste\n",
            "==============================\n",
            "R²: 0.779721\n",
            "RMSE: 697747.002131\n"
          ]
        }
      ]
    },
    {
      "cell_type": "markdown",
      "source": [
        "# Random Forest - Regressão"
      ],
      "metadata": {
        "id": "YX06zaW0ePI8"
      }
    },
    {
      "cell_type": "markdown",
      "source": [
        "## Ajuste e Previsão"
      ],
      "metadata": {
        "id": "njVkmgCjeWjl"
      }
    },
    {
      "cell_type": "code",
      "source": [
        "from pyspark.ml.regression import RandomForestRegressor"
      ],
      "metadata": {
        "id": "93u4dY3KeHqi"
      },
      "execution_count": 81,
      "outputs": []
    },
    {
      "cell_type": "code",
      "source": [
        "rfr = RandomForestRegressor(seed=101, maxDepth=7, numTrees=10)"
      ],
      "metadata": {
        "id": "66zuEF6teioC"
      },
      "execution_count": 82,
      "outputs": []
    },
    {
      "cell_type": "code",
      "source": [
        "modelo_rfr = rfr.fit(treino)"
      ],
      "metadata": {
        "id": "bQXULUn0ev4e"
      },
      "execution_count": 83,
      "outputs": []
    },
    {
      "cell_type": "code",
      "source": [
        "previsoes_rfr_treino = modelo_rfr.transform(treino)"
      ],
      "metadata": {
        "id": "jbgRAnJnezw4"
      },
      "execution_count": 84,
      "outputs": []
    },
    {
      "cell_type": "markdown",
      "source": [
        "## Métricas"
      ],
      "metadata": {
        "id": "sTIMQkWxe91X"
      }
    },
    {
      "cell_type": "code",
      "source": [
        "print(evaluator.evaluate(previsoes_rfr_treino, {evaluator.metricName: \"r2\"}))\n",
        "print(evaluator.evaluate(previsoes_rfr_treino, {evaluator.metricName: \"rmse\"}))"
      ],
      "metadata": {
        "colab": {
          "base_uri": "https://localhost:8080/"
        },
        "id": "gpV_gHfDe4xU",
        "outputId": "af4b8230-3108-46c7-a842-accffb4865bf"
      },
      "execution_count": 85,
      "outputs": [
        {
          "output_type": "stream",
          "name": "stdout",
          "text": [
            "0.8273872396750106\n",
            "624359.5875655742\n"
          ]
        }
      ]
    },
    {
      "cell_type": "code",
      "source": [
        "previsoes_rfr_teste = modelo_rfr.transform(teste)"
      ],
      "metadata": {
        "id": "av8_e28afDOM"
      },
      "execution_count": 86,
      "outputs": []
    },
    {
      "cell_type": "markdown",
      "source": [
        "## Tabela Resumo Random Forest"
      ],
      "metadata": {
        "id": "_BWbvJY0fPxj"
      }
    },
    {
      "cell_type": "code",
      "source": [
        "print('Random Forest Regression')\n",
        "print(\"=\"*30)\n",
        "print(\"Dados de Treino\")\n",
        "print(\"=\"*30)\n",
        "print(\"R²: %f\" % evaluator.evaluate(previsoes_rfr_treino, {evaluator.metricName: \"r2\"}))\n",
        "print(\"RMSE: %f\" % evaluator.evaluate(previsoes_rfr_treino, {evaluator.metricName: \"rmse\"}))\n",
        "print(\"\")\n",
        "print(\"=\"*30)\n",
        "print(\"Dados de Teste\")\n",
        "print(\"=\"*30)\n",
        "print(\"R²: %f\" % evaluator.evaluate(previsoes_rfr_teste, {evaluator.metricName: \"r2\"}))\n",
        "print(\"RMSE: %f\" % evaluator.evaluate(previsoes_rfr_teste, {evaluator.metricName: \"rmse\"}))"
      ],
      "metadata": {
        "colab": {
          "base_uri": "https://localhost:8080/"
        },
        "id": "U8Fz-Ye1fLF0",
        "outputId": "230ec233-c055-4f41-892a-c7a6c7d153d6"
      },
      "execution_count": 87,
      "outputs": [
        {
          "output_type": "stream",
          "name": "stdout",
          "text": [
            "Random Forest Regression\n",
            "==============================\n",
            "Dados de Treino\n",
            "==============================\n",
            "R²: 0.827387\n",
            "RMSE: 624359.587566\n",
            "\n",
            "==============================\n",
            "Dados de Teste\n",
            "==============================\n",
            "R²: 0.810601\n",
            "RMSE: 646994.703924\n"
          ]
        }
      ]
    },
    {
      "cell_type": "markdown",
      "source": [
        "# Otimização com Cross Validation"
      ],
      "metadata": {
        "id": "yr-lQD4Ji9Q_"
      }
    },
    {
      "cell_type": "markdown",
      "source": [
        "## Árvore de Decisão"
      ],
      "metadata": {
        "id": "IQt3lFQNrRZv"
      }
    },
    {
      "cell_type": "code",
      "source": [
        "from pyspark.ml.tuning import CrossValidator, ParamGridBuilder"
      ],
      "metadata": {
        "id": "BnZXGwejfXTl"
      },
      "execution_count": 88,
      "outputs": []
    },
    {
      "cell_type": "code",
      "source": [
        "dtr = DecisionTreeRegressor()"
      ],
      "metadata": {
        "id": "DJroPUKrjI3F"
      },
      "execution_count": 89,
      "outputs": []
    },
    {
      "cell_type": "code",
      "source": [
        "grid = ParamGridBuilder() \\\n",
        "    .addGrid(dtr.maxDepth, [2, 5, 10]) \\\n",
        "    .addGrid(dtr.maxBins, [10, 32, 45]) \\\n",
        "    .build()"
      ],
      "metadata": {
        "id": "fkTbfc73oc9C"
      },
      "execution_count": 90,
      "outputs": []
    },
    {
      "cell_type": "code",
      "source": [
        "evaluator = RegressionEvaluator()"
      ],
      "metadata": {
        "id": "HsCTLAfsofsQ"
      },
      "execution_count": 91,
      "outputs": []
    },
    {
      "cell_type": "code",
      "source": [
        "dtr_cv = CrossValidator(\n",
        "    estimator = dtr,\n",
        "    estimatorParamMaps = grid,\n",
        "    evaluator = evaluator,\n",
        "    numFolds = 3,\n",
        "    seed = 101\n",
        ")"
      ],
      "metadata": {
        "id": "Wmx8kB53oiDH"
      },
      "execution_count": 92,
      "outputs": []
    },
    {
      "cell_type": "code",
      "source": [
        "modelo_dtr_cv = dtr_cv.fit(treino)"
      ],
      "metadata": {
        "id": "V5pRrIQ2piwy"
      },
      "execution_count": 93,
      "outputs": []
    },
    {
      "cell_type": "code",
      "source": [
        "previsoes_dtr_cv_teste = modelo_dtr_cv.transform(teste)"
      ],
      "metadata": {
        "id": "IzY5XZRnpkkb"
      },
      "execution_count": 94,
      "outputs": []
    },
    {
      "cell_type": "code",
      "source": [
        "print('Decision Tree Regression')\n",
        "print(\"=\"*30)\n",
        "print(\"Sem Cross Validation\")\n",
        "print(\"=\"*30)\n",
        "print(\"R²: %f\" % evaluator.evaluate(previsoes_dtr_teste, {evaluator.metricName: \"r2\"}))\n",
        "print(\"RMSE: %f\" % evaluator.evaluate(previsoes_dtr_teste, {evaluator.metricName: \"rmse\"}))\n",
        "print(\"\")\n",
        "print(\"=\"*30)\n",
        "print(\"Com Cross Validation\")\n",
        "print(\"=\"*30)\n",
        "print(\"R²: %f\" % evaluator.evaluate(previsoes_dtr_cv_teste, {evaluator.metricName: \"r2\"}))\n",
        "print(\"RMSE: %f\" % evaluator.evaluate(previsoes_dtr_cv_teste, {evaluator.metricName: \"rmse\"}))"
      ],
      "metadata": {
        "colab": {
          "base_uri": "https://localhost:8080/"
        },
        "id": "D3E72kVgpv4N",
        "outputId": "28be112b-2b2f-4aec-b80c-599f2008d0d5"
      },
      "execution_count": 95,
      "outputs": [
        {
          "output_type": "stream",
          "name": "stdout",
          "text": [
            "Decision Tree Regression\n",
            "==============================\n",
            "Sem Cross Validation\n",
            "==============================\n",
            "R²: 0.779721\n",
            "RMSE: 697747.002131\n",
            "\n",
            "==============================\n",
            "Com Cross Validation\n",
            "==============================\n",
            "R²: 0.782024\n",
            "RMSE: 694089.968453\n"
          ]
        }
      ]
    },
    {
      "cell_type": "markdown",
      "source": [
        "## Random Forest"
      ],
      "metadata": {
        "id": "uqndwbVMrWxF"
      }
    },
    {
      "cell_type": "code",
      "source": [
        "rfr = RandomForestRegressor()"
      ],
      "metadata": {
        "id": "saW9zTnKpy4Q"
      },
      "execution_count": 96,
      "outputs": []
    },
    {
      "cell_type": "code",
      "source": [
        "grid = ParamGridBuilder() \\\n",
        "    .addGrid(rfr.numTrees, [10, 20, 30]) \\\n",
        "    .addGrid(rfr.maxDepth, [5, 10]) \\\n",
        "    .addGrid(rfr.maxBins, [10, 32, 45]) \\\n",
        "    .build()"
      ],
      "metadata": {
        "id": "cD5dxSUjsjQn"
      },
      "execution_count": 97,
      "outputs": []
    },
    {
      "cell_type": "code",
      "source": [
        "rfr_cv = CrossValidator(\n",
        "    estimator = rfr,\n",
        "    estimatorParamMaps = grid,\n",
        "    evaluator = evaluator,\n",
        "    numFolds = 3\n",
        ")"
      ],
      "metadata": {
        "id": "s8VX_UNesk70"
      },
      "execution_count": 98,
      "outputs": []
    },
    {
      "cell_type": "code",
      "source": [
        "modelo_rfr_cv = rfr_cv.fit(treino)"
      ],
      "metadata": {
        "id": "qhPbZFbwsnOf"
      },
      "execution_count": 99,
      "outputs": []
    },
    {
      "cell_type": "code",
      "source": [
        "previsoes_rfr_cv_teste = modelo_rfr_cv.transform(teste)"
      ],
      "metadata": {
        "id": "ng1bsSGLspI9"
      },
      "execution_count": 100,
      "outputs": []
    },
    {
      "cell_type": "code",
      "source": [
        "print('Random Forest Regression')\n",
        "print(\"=\"*30)\n",
        "print(\"Sem Cross Validation\")\n",
        "print(\"=\"*30)\n",
        "print(\"R²: %f\" % evaluator.evaluate(previsoes_rfr_teste, {evaluator.metricName: \"r2\"}))\n",
        "print(\"RMSE: %f\" % evaluator.evaluate(previsoes_rfr_teste, {evaluator.metricName: \"rmse\"}))\n",
        "print(\"\")\n",
        "print(\"=\"*30)\n",
        "print(\"Com Cross Validation\")\n",
        "print(\"=\"*30)\n",
        "print(\"R²: %f\" % evaluator.evaluate(previsoes_rfr_cv_teste, {evaluator.metricName: \"r2\"}))\n",
        "print(\"RMSE: %f\" % evaluator.evaluate(previsoes_rfr_cv_teste, {evaluator.metricName: \"rmse\"}))"
      ],
      "metadata": {
        "colab": {
          "base_uri": "https://localhost:8080/"
        },
        "id": "b7fdUKYXssLq",
        "outputId": "aa66cad0-d6ed-4f12-f2bb-a726515e20a3"
      },
      "execution_count": 101,
      "outputs": [
        {
          "output_type": "stream",
          "name": "stdout",
          "text": [
            "Random Forest Regression\n",
            "==============================\n",
            "Sem Cross Validation\n",
            "==============================\n",
            "R²: 0.810601\n",
            "RMSE: 646994.703924\n",
            "\n",
            "==============================\n",
            "Com Cross Validation\n",
            "==============================\n",
            "R²: 0.835641\n",
            "RMSE: 602709.007463\n"
          ]
        }
      ]
    },
    {
      "cell_type": "markdown",
      "source": [
        "# Testando Gradient-boosted Tree Regression"
      ],
      "metadata": {
        "id": "uuVwq3Okt0Cr"
      }
    },
    {
      "cell_type": "code",
      "source": [
        "from pyspark.ml.regression import GBTRegressor"
      ],
      "metadata": {
        "id": "mQOlkGiEsuNm"
      },
      "execution_count": 102,
      "outputs": []
    },
    {
      "cell_type": "code",
      "source": [
        "gbt = GBTRegressor()"
      ],
      "metadata": {
        "id": "e2h83BJFuCFz"
      },
      "execution_count": 103,
      "outputs": []
    },
    {
      "cell_type": "code",
      "source": [
        "modelo_gbt = gbt.fit(treino)"
      ],
      "metadata": {
        "id": "LqoQSYANuMJ8"
      },
      "execution_count": 104,
      "outputs": []
    },
    {
      "cell_type": "code",
      "source": [
        "previsoes_gbt_treino = modelo_gbt.transform(treino)"
      ],
      "metadata": {
        "id": "GjXLMGw4uTAE"
      },
      "execution_count": 105,
      "outputs": []
    },
    {
      "cell_type": "code",
      "source": [
        "previsoes_gbt_teste = modelo_gbt.transform(teste)"
      ],
      "metadata": {
        "id": "svtLp4W1uonQ"
      },
      "execution_count": 106,
      "outputs": []
    },
    {
      "cell_type": "code",
      "source": [
        "print('Random Forest Regression')\n",
        "print(\"=\"*30)\n",
        "print(\"Dados de Treino\")\n",
        "print(\"=\"*30)\n",
        "print(\"R²: %f\" % evaluator.evaluate(previsoes_gbt_treino, {evaluator.metricName: \"r2\"}))\n",
        "print(\"RMSE: %f\" % evaluator.evaluate(previsoes_gbt_treino, {evaluator.metricName: \"rmse\"}))\n",
        "print(\"\")\n",
        "print(\"=\"*30)\n",
        "print(\"Dados de Teste\")\n",
        "print(\"=\"*30)\n",
        "print(\"R²: %f\" % evaluator.evaluate(previsoes_gbt_teste, {evaluator.metricName: \"r2\"}))\n",
        "print(\"RMSE: %f\" % evaluator.evaluate(previsoes_gbt_teste, {evaluator.metricName: \"rmse\"}))"
      ],
      "metadata": {
        "colab": {
          "base_uri": "https://localhost:8080/"
        },
        "id": "VZFaztTxuwtl",
        "outputId": "9ab6d3cb-a675-4d3c-813b-19363b6f4e64"
      },
      "execution_count": 107,
      "outputs": [
        {
          "output_type": "stream",
          "name": "stdout",
          "text": [
            "Random Forest Regression\n",
            "==============================\n",
            "Dados de Treino\n",
            "==============================\n",
            "R²: 0.829420\n",
            "RMSE: 620672.682171\n",
            "\n",
            "==============================\n",
            "Dados de Teste\n",
            "==============================\n",
            "R²: 0.810339\n",
            "RMSE: 647441.540058\n"
          ]
        }
      ]
    },
    {
      "cell_type": "code",
      "source": [],
      "metadata": {
        "id": "Myq875k7u6ii"
      },
      "execution_count": 107,
      "outputs": []
    }
  ]
}